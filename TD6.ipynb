{
  "nbformat": 4,
  "nbformat_minor": 0,
  "metadata": {
    "colab": {
      "name": "TD6.ipynb",
      "provenance": [],
      "collapsed_sections": []
    },
    "kernelspec": {
      "name": "python3",
      "display_name": "Python 3"
    },
    "widgets": {
      "application/vnd.jupyter.widget-state+json": {
        "0ae3d16cc36f4b5dab25363810ca1432": {
          "model_module": "@jupyter-widgets/controls",
          "model_name": "HBoxModel",
          "state": {
            "_view_name": "HBoxView",
            "_dom_classes": [],
            "_model_name": "HBoxModel",
            "_view_module": "@jupyter-widgets/controls",
            "_model_module_version": "1.5.0",
            "_view_count": null,
            "_view_module_version": "1.5.0",
            "box_style": "",
            "layout": "IPY_MODEL_cb3dea77496d4bc6a121894a8d5c0821",
            "_model_module": "@jupyter-widgets/controls",
            "children": [
              "IPY_MODEL_c017381380884fa2a59e12cb74465d65",
              "IPY_MODEL_8dcbec1a46854c3b823f5e3f3f0448ef"
            ]
          }
        },
        "cb3dea77496d4bc6a121894a8d5c0821": {
          "model_module": "@jupyter-widgets/base",
          "model_name": "LayoutModel",
          "state": {
            "_view_name": "LayoutView",
            "grid_template_rows": null,
            "right": null,
            "justify_content": null,
            "_view_module": "@jupyter-widgets/base",
            "overflow": null,
            "_model_module_version": "1.2.0",
            "_view_count": null,
            "flex_flow": null,
            "width": null,
            "min_width": null,
            "border": null,
            "align_items": null,
            "bottom": null,
            "_model_module": "@jupyter-widgets/base",
            "top": null,
            "grid_column": null,
            "overflow_y": null,
            "overflow_x": null,
            "grid_auto_flow": null,
            "grid_area": null,
            "grid_template_columns": null,
            "flex": null,
            "_model_name": "LayoutModel",
            "justify_items": null,
            "grid_row": null,
            "max_height": null,
            "align_content": null,
            "visibility": null,
            "align_self": null,
            "height": null,
            "min_height": null,
            "padding": null,
            "grid_auto_rows": null,
            "grid_gap": null,
            "max_width": null,
            "order": null,
            "_view_module_version": "1.2.0",
            "grid_template_areas": null,
            "object_position": null,
            "object_fit": null,
            "grid_auto_columns": null,
            "margin": null,
            "display": null,
            "left": null
          }
        },
        "c017381380884fa2a59e12cb74465d65": {
          "model_module": "@jupyter-widgets/controls",
          "model_name": "FloatProgressModel",
          "state": {
            "_view_name": "ProgressView",
            "style": "IPY_MODEL_6ae9791b5c3341ed8dff47aa65691039",
            "_dom_classes": [],
            "description": "100%",
            "_model_name": "FloatProgressModel",
            "bar_style": "success",
            "max": 12,
            "_view_module": "@jupyter-widgets/controls",
            "_model_module_version": "1.5.0",
            "value": 12,
            "_view_count": null,
            "_view_module_version": "1.5.0",
            "orientation": "horizontal",
            "min": 0,
            "description_tooltip": null,
            "_model_module": "@jupyter-widgets/controls",
            "layout": "IPY_MODEL_e56787f7e5ab4c77baf4c5fbb0320869"
          }
        },
        "8dcbec1a46854c3b823f5e3f3f0448ef": {
          "model_module": "@jupyter-widgets/controls",
          "model_name": "HTMLModel",
          "state": {
            "_view_name": "HTMLView",
            "style": "IPY_MODEL_44393b27e58647c4b19bb869f8881a95",
            "_dom_classes": [],
            "description": "",
            "_model_name": "HTMLModel",
            "placeholder": "​",
            "_view_module": "@jupyter-widgets/controls",
            "_model_module_version": "1.5.0",
            "value": " 12/12 [10:10&lt;00:00, 50.85s/it]",
            "_view_count": null,
            "_view_module_version": "1.5.0",
            "description_tooltip": null,
            "_model_module": "@jupyter-widgets/controls",
            "layout": "IPY_MODEL_b95e33c335234260b2f3142e12333715"
          }
        },
        "6ae9791b5c3341ed8dff47aa65691039": {
          "model_module": "@jupyter-widgets/controls",
          "model_name": "ProgressStyleModel",
          "state": {
            "_view_name": "StyleView",
            "_model_name": "ProgressStyleModel",
            "description_width": "initial",
            "_view_module": "@jupyter-widgets/base",
            "_model_module_version": "1.5.0",
            "_view_count": null,
            "_view_module_version": "1.2.0",
            "bar_color": null,
            "_model_module": "@jupyter-widgets/controls"
          }
        },
        "e56787f7e5ab4c77baf4c5fbb0320869": {
          "model_module": "@jupyter-widgets/base",
          "model_name": "LayoutModel",
          "state": {
            "_view_name": "LayoutView",
            "grid_template_rows": null,
            "right": null,
            "justify_content": null,
            "_view_module": "@jupyter-widgets/base",
            "overflow": null,
            "_model_module_version": "1.2.0",
            "_view_count": null,
            "flex_flow": null,
            "width": null,
            "min_width": null,
            "border": null,
            "align_items": null,
            "bottom": null,
            "_model_module": "@jupyter-widgets/base",
            "top": null,
            "grid_column": null,
            "overflow_y": null,
            "overflow_x": null,
            "grid_auto_flow": null,
            "grid_area": null,
            "grid_template_columns": null,
            "flex": null,
            "_model_name": "LayoutModel",
            "justify_items": null,
            "grid_row": null,
            "max_height": null,
            "align_content": null,
            "visibility": null,
            "align_self": null,
            "height": null,
            "min_height": null,
            "padding": null,
            "grid_auto_rows": null,
            "grid_gap": null,
            "max_width": null,
            "order": null,
            "_view_module_version": "1.2.0",
            "grid_template_areas": null,
            "object_position": null,
            "object_fit": null,
            "grid_auto_columns": null,
            "margin": null,
            "display": null,
            "left": null
          }
        },
        "44393b27e58647c4b19bb869f8881a95": {
          "model_module": "@jupyter-widgets/controls",
          "model_name": "DescriptionStyleModel",
          "state": {
            "_view_name": "StyleView",
            "_model_name": "DescriptionStyleModel",
            "description_width": "",
            "_view_module": "@jupyter-widgets/base",
            "_model_module_version": "1.5.0",
            "_view_count": null,
            "_view_module_version": "1.2.0",
            "_model_module": "@jupyter-widgets/controls"
          }
        },
        "b95e33c335234260b2f3142e12333715": {
          "model_module": "@jupyter-widgets/base",
          "model_name": "LayoutModel",
          "state": {
            "_view_name": "LayoutView",
            "grid_template_rows": null,
            "right": null,
            "justify_content": null,
            "_view_module": "@jupyter-widgets/base",
            "overflow": null,
            "_model_module_version": "1.2.0",
            "_view_count": null,
            "flex_flow": null,
            "width": null,
            "min_width": null,
            "border": null,
            "align_items": null,
            "bottom": null,
            "_model_module": "@jupyter-widgets/base",
            "top": null,
            "grid_column": null,
            "overflow_y": null,
            "overflow_x": null,
            "grid_auto_flow": null,
            "grid_area": null,
            "grid_template_columns": null,
            "flex": null,
            "_model_name": "LayoutModel",
            "justify_items": null,
            "grid_row": null,
            "max_height": null,
            "align_content": null,
            "visibility": null,
            "align_self": null,
            "height": null,
            "min_height": null,
            "padding": null,
            "grid_auto_rows": null,
            "grid_gap": null,
            "max_width": null,
            "order": null,
            "_view_module_version": "1.2.0",
            "grid_template_areas": null,
            "object_position": null,
            "object_fit": null,
            "grid_auto_columns": null,
            "margin": null,
            "display": null,
            "left": null
          }
        },
        "37fbf8575a5143f6a1906f320b5b13a7": {
          "model_module": "@jupyter-widgets/controls",
          "model_name": "HBoxModel",
          "state": {
            "_view_name": "HBoxView",
            "_dom_classes": [],
            "_model_name": "HBoxModel",
            "_view_module": "@jupyter-widgets/controls",
            "_model_module_version": "1.5.0",
            "_view_count": null,
            "_view_module_version": "1.5.0",
            "box_style": "",
            "layout": "IPY_MODEL_cdb72b1718a049fd88210bd3a23bae40",
            "_model_module": "@jupyter-widgets/controls",
            "children": [
              "IPY_MODEL_813539bb5ddb4cbd94a1acdc4a36f7ff",
              "IPY_MODEL_bef4a3828b0e418295a675e1009e4c49"
            ]
          }
        },
        "cdb72b1718a049fd88210bd3a23bae40": {
          "model_module": "@jupyter-widgets/base",
          "model_name": "LayoutModel",
          "state": {
            "_view_name": "LayoutView",
            "grid_template_rows": null,
            "right": null,
            "justify_content": null,
            "_view_module": "@jupyter-widgets/base",
            "overflow": null,
            "_model_module_version": "1.2.0",
            "_view_count": null,
            "flex_flow": null,
            "width": null,
            "min_width": null,
            "border": null,
            "align_items": null,
            "bottom": null,
            "_model_module": "@jupyter-widgets/base",
            "top": null,
            "grid_column": null,
            "overflow_y": null,
            "overflow_x": null,
            "grid_auto_flow": null,
            "grid_area": null,
            "grid_template_columns": null,
            "flex": null,
            "_model_name": "LayoutModel",
            "justify_items": null,
            "grid_row": null,
            "max_height": null,
            "align_content": null,
            "visibility": null,
            "align_self": null,
            "height": null,
            "min_height": null,
            "padding": null,
            "grid_auto_rows": null,
            "grid_gap": null,
            "max_width": null,
            "order": null,
            "_view_module_version": "1.2.0",
            "grid_template_areas": null,
            "object_position": null,
            "object_fit": null,
            "grid_auto_columns": null,
            "margin": null,
            "display": null,
            "left": null
          }
        },
        "813539bb5ddb4cbd94a1acdc4a36f7ff": {
          "model_module": "@jupyter-widgets/controls",
          "model_name": "FloatProgressModel",
          "state": {
            "_view_name": "ProgressView",
            "style": "IPY_MODEL_723c4ae435164bbeae4a3080f907ff09",
            "_dom_classes": [],
            "description": "100%",
            "_model_name": "FloatProgressModel",
            "bar_style": "success",
            "max": 12,
            "_view_module": "@jupyter-widgets/controls",
            "_model_module_version": "1.5.0",
            "value": 12,
            "_view_count": null,
            "_view_module_version": "1.5.0",
            "orientation": "horizontal",
            "min": 0,
            "description_tooltip": null,
            "_model_module": "@jupyter-widgets/controls",
            "layout": "IPY_MODEL_18f825b4ea1b448087b0ae8a206875f8"
          }
        },
        "bef4a3828b0e418295a675e1009e4c49": {
          "model_module": "@jupyter-widgets/controls",
          "model_name": "HTMLModel",
          "state": {
            "_view_name": "HTMLView",
            "style": "IPY_MODEL_38b8b63b910e44fb8ab0300b729abe7c",
            "_dom_classes": [],
            "description": "",
            "_model_name": "HTMLModel",
            "placeholder": "​",
            "_view_module": "@jupyter-widgets/controls",
            "_model_module_version": "1.5.0",
            "value": " 12/12 [09:55&lt;00:00, 49.62s/it]",
            "_view_count": null,
            "_view_module_version": "1.5.0",
            "description_tooltip": null,
            "_model_module": "@jupyter-widgets/controls",
            "layout": "IPY_MODEL_bb9fa31864914de7ac7439dd0823a561"
          }
        },
        "723c4ae435164bbeae4a3080f907ff09": {
          "model_module": "@jupyter-widgets/controls",
          "model_name": "ProgressStyleModel",
          "state": {
            "_view_name": "StyleView",
            "_model_name": "ProgressStyleModel",
            "description_width": "initial",
            "_view_module": "@jupyter-widgets/base",
            "_model_module_version": "1.5.0",
            "_view_count": null,
            "_view_module_version": "1.2.0",
            "bar_color": null,
            "_model_module": "@jupyter-widgets/controls"
          }
        },
        "18f825b4ea1b448087b0ae8a206875f8": {
          "model_module": "@jupyter-widgets/base",
          "model_name": "LayoutModel",
          "state": {
            "_view_name": "LayoutView",
            "grid_template_rows": null,
            "right": null,
            "justify_content": null,
            "_view_module": "@jupyter-widgets/base",
            "overflow": null,
            "_model_module_version": "1.2.0",
            "_view_count": null,
            "flex_flow": null,
            "width": null,
            "min_width": null,
            "border": null,
            "align_items": null,
            "bottom": null,
            "_model_module": "@jupyter-widgets/base",
            "top": null,
            "grid_column": null,
            "overflow_y": null,
            "overflow_x": null,
            "grid_auto_flow": null,
            "grid_area": null,
            "grid_template_columns": null,
            "flex": null,
            "_model_name": "LayoutModel",
            "justify_items": null,
            "grid_row": null,
            "max_height": null,
            "align_content": null,
            "visibility": null,
            "align_self": null,
            "height": null,
            "min_height": null,
            "padding": null,
            "grid_auto_rows": null,
            "grid_gap": null,
            "max_width": null,
            "order": null,
            "_view_module_version": "1.2.0",
            "grid_template_areas": null,
            "object_position": null,
            "object_fit": null,
            "grid_auto_columns": null,
            "margin": null,
            "display": null,
            "left": null
          }
        },
        "38b8b63b910e44fb8ab0300b729abe7c": {
          "model_module": "@jupyter-widgets/controls",
          "model_name": "DescriptionStyleModel",
          "state": {
            "_view_name": "StyleView",
            "_model_name": "DescriptionStyleModel",
            "description_width": "",
            "_view_module": "@jupyter-widgets/base",
            "_model_module_version": "1.5.0",
            "_view_count": null,
            "_view_module_version": "1.2.0",
            "_model_module": "@jupyter-widgets/controls"
          }
        },
        "bb9fa31864914de7ac7439dd0823a561": {
          "model_module": "@jupyter-widgets/base",
          "model_name": "LayoutModel",
          "state": {
            "_view_name": "LayoutView",
            "grid_template_rows": null,
            "right": null,
            "justify_content": null,
            "_view_module": "@jupyter-widgets/base",
            "overflow": null,
            "_model_module_version": "1.2.0",
            "_view_count": null,
            "flex_flow": null,
            "width": null,
            "min_width": null,
            "border": null,
            "align_items": null,
            "bottom": null,
            "_model_module": "@jupyter-widgets/base",
            "top": null,
            "grid_column": null,
            "overflow_y": null,
            "overflow_x": null,
            "grid_auto_flow": null,
            "grid_area": null,
            "grid_template_columns": null,
            "flex": null,
            "_model_name": "LayoutModel",
            "justify_items": null,
            "grid_row": null,
            "max_height": null,
            "align_content": null,
            "visibility": null,
            "align_self": null,
            "height": null,
            "min_height": null,
            "padding": null,
            "grid_auto_rows": null,
            "grid_gap": null,
            "max_width": null,
            "order": null,
            "_view_module_version": "1.2.0",
            "grid_template_areas": null,
            "object_position": null,
            "object_fit": null,
            "grid_auto_columns": null,
            "margin": null,
            "display": null,
            "left": null
          }
        },
        "0433eec95ee84f9d8dedd15411fd0d86": {
          "model_module": "@jupyter-widgets/controls",
          "model_name": "HBoxModel",
          "state": {
            "_view_name": "HBoxView",
            "_dom_classes": [],
            "_model_name": "HBoxModel",
            "_view_module": "@jupyter-widgets/controls",
            "_model_module_version": "1.5.0",
            "_view_count": null,
            "_view_module_version": "1.5.0",
            "box_style": "",
            "layout": "IPY_MODEL_083bb9552b614bcd9cc7808071a3daf8",
            "_model_module": "@jupyter-widgets/controls",
            "children": [
              "IPY_MODEL_80d533be55af44b594f8b3c3168905a6",
              "IPY_MODEL_f5dca6ad508d4285b7ec04286cda1a3f"
            ]
          }
        },
        "083bb9552b614bcd9cc7808071a3daf8": {
          "model_module": "@jupyter-widgets/base",
          "model_name": "LayoutModel",
          "state": {
            "_view_name": "LayoutView",
            "grid_template_rows": null,
            "right": null,
            "justify_content": null,
            "_view_module": "@jupyter-widgets/base",
            "overflow": null,
            "_model_module_version": "1.2.0",
            "_view_count": null,
            "flex_flow": null,
            "width": null,
            "min_width": null,
            "border": null,
            "align_items": null,
            "bottom": null,
            "_model_module": "@jupyter-widgets/base",
            "top": null,
            "grid_column": null,
            "overflow_y": null,
            "overflow_x": null,
            "grid_auto_flow": null,
            "grid_area": null,
            "grid_template_columns": null,
            "flex": null,
            "_model_name": "LayoutModel",
            "justify_items": null,
            "grid_row": null,
            "max_height": null,
            "align_content": null,
            "visibility": null,
            "align_self": null,
            "height": null,
            "min_height": null,
            "padding": null,
            "grid_auto_rows": null,
            "grid_gap": null,
            "max_width": null,
            "order": null,
            "_view_module_version": "1.2.0",
            "grid_template_areas": null,
            "object_position": null,
            "object_fit": null,
            "grid_auto_columns": null,
            "margin": null,
            "display": null,
            "left": null
          }
        },
        "80d533be55af44b594f8b3c3168905a6": {
          "model_module": "@jupyter-widgets/controls",
          "model_name": "FloatProgressModel",
          "state": {
            "_view_name": "ProgressView",
            "style": "IPY_MODEL_1da8173a8640474594a8a7d5e879613c",
            "_dom_classes": [],
            "description": "100%",
            "_model_name": "FloatProgressModel",
            "bar_style": "success",
            "max": 12,
            "_view_module": "@jupyter-widgets/controls",
            "_model_module_version": "1.5.0",
            "value": 12,
            "_view_count": null,
            "_view_module_version": "1.5.0",
            "orientation": "horizontal",
            "min": 0,
            "description_tooltip": null,
            "_model_module": "@jupyter-widgets/controls",
            "layout": "IPY_MODEL_ed86a8d6fcc046ce91df5327ce393519"
          }
        },
        "f5dca6ad508d4285b7ec04286cda1a3f": {
          "model_module": "@jupyter-widgets/controls",
          "model_name": "HTMLModel",
          "state": {
            "_view_name": "HTMLView",
            "style": "IPY_MODEL_50c29380c0f24a12aecf46c0233d436d",
            "_dom_classes": [],
            "description": "",
            "_model_name": "HTMLModel",
            "placeholder": "​",
            "_view_module": "@jupyter-widgets/controls",
            "_model_module_version": "1.5.0",
            "value": " 12/12 [10:49&lt;00:00, 54.13s/it]",
            "_view_count": null,
            "_view_module_version": "1.5.0",
            "description_tooltip": null,
            "_model_module": "@jupyter-widgets/controls",
            "layout": "IPY_MODEL_8d3ba46727f24d51a53f4f0e488e9950"
          }
        },
        "1da8173a8640474594a8a7d5e879613c": {
          "model_module": "@jupyter-widgets/controls",
          "model_name": "ProgressStyleModel",
          "state": {
            "_view_name": "StyleView",
            "_model_name": "ProgressStyleModel",
            "description_width": "initial",
            "_view_module": "@jupyter-widgets/base",
            "_model_module_version": "1.5.0",
            "_view_count": null,
            "_view_module_version": "1.2.0",
            "bar_color": null,
            "_model_module": "@jupyter-widgets/controls"
          }
        },
        "ed86a8d6fcc046ce91df5327ce393519": {
          "model_module": "@jupyter-widgets/base",
          "model_name": "LayoutModel",
          "state": {
            "_view_name": "LayoutView",
            "grid_template_rows": null,
            "right": null,
            "justify_content": null,
            "_view_module": "@jupyter-widgets/base",
            "overflow": null,
            "_model_module_version": "1.2.0",
            "_view_count": null,
            "flex_flow": null,
            "width": null,
            "min_width": null,
            "border": null,
            "align_items": null,
            "bottom": null,
            "_model_module": "@jupyter-widgets/base",
            "top": null,
            "grid_column": null,
            "overflow_y": null,
            "overflow_x": null,
            "grid_auto_flow": null,
            "grid_area": null,
            "grid_template_columns": null,
            "flex": null,
            "_model_name": "LayoutModel",
            "justify_items": null,
            "grid_row": null,
            "max_height": null,
            "align_content": null,
            "visibility": null,
            "align_self": null,
            "height": null,
            "min_height": null,
            "padding": null,
            "grid_auto_rows": null,
            "grid_gap": null,
            "max_width": null,
            "order": null,
            "_view_module_version": "1.2.0",
            "grid_template_areas": null,
            "object_position": null,
            "object_fit": null,
            "grid_auto_columns": null,
            "margin": null,
            "display": null,
            "left": null
          }
        },
        "50c29380c0f24a12aecf46c0233d436d": {
          "model_module": "@jupyter-widgets/controls",
          "model_name": "DescriptionStyleModel",
          "state": {
            "_view_name": "StyleView",
            "_model_name": "DescriptionStyleModel",
            "description_width": "",
            "_view_module": "@jupyter-widgets/base",
            "_model_module_version": "1.5.0",
            "_view_count": null,
            "_view_module_version": "1.2.0",
            "_model_module": "@jupyter-widgets/controls"
          }
        },
        "8d3ba46727f24d51a53f4f0e488e9950": {
          "model_module": "@jupyter-widgets/base",
          "model_name": "LayoutModel",
          "state": {
            "_view_name": "LayoutView",
            "grid_template_rows": null,
            "right": null,
            "justify_content": null,
            "_view_module": "@jupyter-widgets/base",
            "overflow": null,
            "_model_module_version": "1.2.0",
            "_view_count": null,
            "flex_flow": null,
            "width": null,
            "min_width": null,
            "border": null,
            "align_items": null,
            "bottom": null,
            "_model_module": "@jupyter-widgets/base",
            "top": null,
            "grid_column": null,
            "overflow_y": null,
            "overflow_x": null,
            "grid_auto_flow": null,
            "grid_area": null,
            "grid_template_columns": null,
            "flex": null,
            "_model_name": "LayoutModel",
            "justify_items": null,
            "grid_row": null,
            "max_height": null,
            "align_content": null,
            "visibility": null,
            "align_self": null,
            "height": null,
            "min_height": null,
            "padding": null,
            "grid_auto_rows": null,
            "grid_gap": null,
            "max_width": null,
            "order": null,
            "_view_module_version": "1.2.0",
            "grid_template_areas": null,
            "object_position": null,
            "object_fit": null,
            "grid_auto_columns": null,
            "margin": null,
            "display": null,
            "left": null
          }
        },
        "df2c9853ba344434a4f95c01c68da962": {
          "model_module": "@jupyter-widgets/controls",
          "model_name": "HBoxModel",
          "state": {
            "_view_name": "HBoxView",
            "_dom_classes": [],
            "_model_name": "HBoxModel",
            "_view_module": "@jupyter-widgets/controls",
            "_model_module_version": "1.5.0",
            "_view_count": null,
            "_view_module_version": "1.5.0",
            "box_style": "",
            "layout": "IPY_MODEL_be74cae7bd3e4881a61e74155c2d53d9",
            "_model_module": "@jupyter-widgets/controls",
            "children": [
              "IPY_MODEL_b9df6ca48869437b89116b96f43c493e",
              "IPY_MODEL_371a154a808b439bbe2605de29f7a311"
            ]
          }
        },
        "be74cae7bd3e4881a61e74155c2d53d9": {
          "model_module": "@jupyter-widgets/base",
          "model_name": "LayoutModel",
          "state": {
            "_view_name": "LayoutView",
            "grid_template_rows": null,
            "right": null,
            "justify_content": null,
            "_view_module": "@jupyter-widgets/base",
            "overflow": null,
            "_model_module_version": "1.2.0",
            "_view_count": null,
            "flex_flow": null,
            "width": null,
            "min_width": null,
            "border": null,
            "align_items": null,
            "bottom": null,
            "_model_module": "@jupyter-widgets/base",
            "top": null,
            "grid_column": null,
            "overflow_y": null,
            "overflow_x": null,
            "grid_auto_flow": null,
            "grid_area": null,
            "grid_template_columns": null,
            "flex": null,
            "_model_name": "LayoutModel",
            "justify_items": null,
            "grid_row": null,
            "max_height": null,
            "align_content": null,
            "visibility": null,
            "align_self": null,
            "height": null,
            "min_height": null,
            "padding": null,
            "grid_auto_rows": null,
            "grid_gap": null,
            "max_width": null,
            "order": null,
            "_view_module_version": "1.2.0",
            "grid_template_areas": null,
            "object_position": null,
            "object_fit": null,
            "grid_auto_columns": null,
            "margin": null,
            "display": null,
            "left": null
          }
        },
        "b9df6ca48869437b89116b96f43c493e": {
          "model_module": "@jupyter-widgets/controls",
          "model_name": "FloatProgressModel",
          "state": {
            "_view_name": "ProgressView",
            "style": "IPY_MODEL_85917a4771cb4113bff1d212a4e7c4fa",
            "_dom_classes": [],
            "description": "100%",
            "_model_name": "FloatProgressModel",
            "bar_style": "success",
            "max": 12,
            "_view_module": "@jupyter-widgets/controls",
            "_model_module_version": "1.5.0",
            "value": 12,
            "_view_count": null,
            "_view_module_version": "1.5.0",
            "orientation": "horizontal",
            "min": 0,
            "description_tooltip": null,
            "_model_module": "@jupyter-widgets/controls",
            "layout": "IPY_MODEL_dbb81b7a6e784dd093c566c4d2b11804"
          }
        },
        "371a154a808b439bbe2605de29f7a311": {
          "model_module": "@jupyter-widgets/controls",
          "model_name": "HTMLModel",
          "state": {
            "_view_name": "HTMLView",
            "style": "IPY_MODEL_6b2e9f9b95a546548347da6b1ccdf2c8",
            "_dom_classes": [],
            "description": "",
            "_model_name": "HTMLModel",
            "placeholder": "​",
            "_view_module": "@jupyter-widgets/controls",
            "_model_module_version": "1.5.0",
            "value": " 12/12 [09:50&lt;00:00, 49.23s/it]",
            "_view_count": null,
            "_view_module_version": "1.5.0",
            "description_tooltip": null,
            "_model_module": "@jupyter-widgets/controls",
            "layout": "IPY_MODEL_8ac5f9b8a9d44733bf7c6ba48c380bbd"
          }
        },
        "85917a4771cb4113bff1d212a4e7c4fa": {
          "model_module": "@jupyter-widgets/controls",
          "model_name": "ProgressStyleModel",
          "state": {
            "_view_name": "StyleView",
            "_model_name": "ProgressStyleModel",
            "description_width": "initial",
            "_view_module": "@jupyter-widgets/base",
            "_model_module_version": "1.5.0",
            "_view_count": null,
            "_view_module_version": "1.2.0",
            "bar_color": null,
            "_model_module": "@jupyter-widgets/controls"
          }
        },
        "dbb81b7a6e784dd093c566c4d2b11804": {
          "model_module": "@jupyter-widgets/base",
          "model_name": "LayoutModel",
          "state": {
            "_view_name": "LayoutView",
            "grid_template_rows": null,
            "right": null,
            "justify_content": null,
            "_view_module": "@jupyter-widgets/base",
            "overflow": null,
            "_model_module_version": "1.2.0",
            "_view_count": null,
            "flex_flow": null,
            "width": null,
            "min_width": null,
            "border": null,
            "align_items": null,
            "bottom": null,
            "_model_module": "@jupyter-widgets/base",
            "top": null,
            "grid_column": null,
            "overflow_y": null,
            "overflow_x": null,
            "grid_auto_flow": null,
            "grid_area": null,
            "grid_template_columns": null,
            "flex": null,
            "_model_name": "LayoutModel",
            "justify_items": null,
            "grid_row": null,
            "max_height": null,
            "align_content": null,
            "visibility": null,
            "align_self": null,
            "height": null,
            "min_height": null,
            "padding": null,
            "grid_auto_rows": null,
            "grid_gap": null,
            "max_width": null,
            "order": null,
            "_view_module_version": "1.2.0",
            "grid_template_areas": null,
            "object_position": null,
            "object_fit": null,
            "grid_auto_columns": null,
            "margin": null,
            "display": null,
            "left": null
          }
        },
        "6b2e9f9b95a546548347da6b1ccdf2c8": {
          "model_module": "@jupyter-widgets/controls",
          "model_name": "DescriptionStyleModel",
          "state": {
            "_view_name": "StyleView",
            "_model_name": "DescriptionStyleModel",
            "description_width": "",
            "_view_module": "@jupyter-widgets/base",
            "_model_module_version": "1.5.0",
            "_view_count": null,
            "_view_module_version": "1.2.0",
            "_model_module": "@jupyter-widgets/controls"
          }
        },
        "8ac5f9b8a9d44733bf7c6ba48c380bbd": {
          "model_module": "@jupyter-widgets/base",
          "model_name": "LayoutModel",
          "state": {
            "_view_name": "LayoutView",
            "grid_template_rows": null,
            "right": null,
            "justify_content": null,
            "_view_module": "@jupyter-widgets/base",
            "overflow": null,
            "_model_module_version": "1.2.0",
            "_view_count": null,
            "flex_flow": null,
            "width": null,
            "min_width": null,
            "border": null,
            "align_items": null,
            "bottom": null,
            "_model_module": "@jupyter-widgets/base",
            "top": null,
            "grid_column": null,
            "overflow_y": null,
            "overflow_x": null,
            "grid_auto_flow": null,
            "grid_area": null,
            "grid_template_columns": null,
            "flex": null,
            "_model_name": "LayoutModel",
            "justify_items": null,
            "grid_row": null,
            "max_height": null,
            "align_content": null,
            "visibility": null,
            "align_self": null,
            "height": null,
            "min_height": null,
            "padding": null,
            "grid_auto_rows": null,
            "grid_gap": null,
            "max_width": null,
            "order": null,
            "_view_module_version": "1.2.0",
            "grid_template_areas": null,
            "object_position": null,
            "object_fit": null,
            "grid_auto_columns": null,
            "margin": null,
            "display": null,
            "left": null
          }
        },
        "c3b77964b09443859573a9440213216d": {
          "model_module": "@jupyter-widgets/controls",
          "model_name": "HBoxModel",
          "state": {
            "_view_name": "HBoxView",
            "_dom_classes": [],
            "_model_name": "HBoxModel",
            "_view_module": "@jupyter-widgets/controls",
            "_model_module_version": "1.5.0",
            "_view_count": null,
            "_view_module_version": "1.5.0",
            "box_style": "",
            "layout": "IPY_MODEL_25e3262ed0dd40438b2a5b95a563d8a6",
            "_model_module": "@jupyter-widgets/controls",
            "children": [
              "IPY_MODEL_69a120d390844bc5aacdb2c2aa8775eb",
              "IPY_MODEL_d078319b6066498aa6e3130bfec438f3"
            ]
          }
        },
        "25e3262ed0dd40438b2a5b95a563d8a6": {
          "model_module": "@jupyter-widgets/base",
          "model_name": "LayoutModel",
          "state": {
            "_view_name": "LayoutView",
            "grid_template_rows": null,
            "right": null,
            "justify_content": null,
            "_view_module": "@jupyter-widgets/base",
            "overflow": null,
            "_model_module_version": "1.2.0",
            "_view_count": null,
            "flex_flow": null,
            "width": null,
            "min_width": null,
            "border": null,
            "align_items": null,
            "bottom": null,
            "_model_module": "@jupyter-widgets/base",
            "top": null,
            "grid_column": null,
            "overflow_y": null,
            "overflow_x": null,
            "grid_auto_flow": null,
            "grid_area": null,
            "grid_template_columns": null,
            "flex": null,
            "_model_name": "LayoutModel",
            "justify_items": null,
            "grid_row": null,
            "max_height": null,
            "align_content": null,
            "visibility": null,
            "align_self": null,
            "height": null,
            "min_height": null,
            "padding": null,
            "grid_auto_rows": null,
            "grid_gap": null,
            "max_width": null,
            "order": null,
            "_view_module_version": "1.2.0",
            "grid_template_areas": null,
            "object_position": null,
            "object_fit": null,
            "grid_auto_columns": null,
            "margin": null,
            "display": null,
            "left": null
          }
        },
        "69a120d390844bc5aacdb2c2aa8775eb": {
          "model_module": "@jupyter-widgets/controls",
          "model_name": "FloatProgressModel",
          "state": {
            "_view_name": "ProgressView",
            "style": "IPY_MODEL_bc022115ff164381a273c21e990f0bc9",
            "_dom_classes": [],
            "description": "100%",
            "_model_name": "FloatProgressModel",
            "bar_style": "success",
            "max": 12,
            "_view_module": "@jupyter-widgets/controls",
            "_model_module_version": "1.5.0",
            "value": 12,
            "_view_count": null,
            "_view_module_version": "1.5.0",
            "orientation": "horizontal",
            "min": 0,
            "description_tooltip": null,
            "_model_module": "@jupyter-widgets/controls",
            "layout": "IPY_MODEL_a846cbf9cd14417488d1f1a259a428b0"
          }
        },
        "d078319b6066498aa6e3130bfec438f3": {
          "model_module": "@jupyter-widgets/controls",
          "model_name": "HTMLModel",
          "state": {
            "_view_name": "HTMLView",
            "style": "IPY_MODEL_2d1c38bbff0245fdaf663d5e6cf71db7",
            "_dom_classes": [],
            "description": "",
            "_model_name": "HTMLModel",
            "placeholder": "​",
            "_view_module": "@jupyter-widgets/controls",
            "_model_module_version": "1.5.0",
            "value": " 12/12 [09:49&lt;00:00, 49.14s/it]",
            "_view_count": null,
            "_view_module_version": "1.5.0",
            "description_tooltip": null,
            "_model_module": "@jupyter-widgets/controls",
            "layout": "IPY_MODEL_80a4f33f17f24cc1b8151c2100336a28"
          }
        },
        "bc022115ff164381a273c21e990f0bc9": {
          "model_module": "@jupyter-widgets/controls",
          "model_name": "ProgressStyleModel",
          "state": {
            "_view_name": "StyleView",
            "_model_name": "ProgressStyleModel",
            "description_width": "initial",
            "_view_module": "@jupyter-widgets/base",
            "_model_module_version": "1.5.0",
            "_view_count": null,
            "_view_module_version": "1.2.0",
            "bar_color": null,
            "_model_module": "@jupyter-widgets/controls"
          }
        },
        "a846cbf9cd14417488d1f1a259a428b0": {
          "model_module": "@jupyter-widgets/base",
          "model_name": "LayoutModel",
          "state": {
            "_view_name": "LayoutView",
            "grid_template_rows": null,
            "right": null,
            "justify_content": null,
            "_view_module": "@jupyter-widgets/base",
            "overflow": null,
            "_model_module_version": "1.2.0",
            "_view_count": null,
            "flex_flow": null,
            "width": null,
            "min_width": null,
            "border": null,
            "align_items": null,
            "bottom": null,
            "_model_module": "@jupyter-widgets/base",
            "top": null,
            "grid_column": null,
            "overflow_y": null,
            "overflow_x": null,
            "grid_auto_flow": null,
            "grid_area": null,
            "grid_template_columns": null,
            "flex": null,
            "_model_name": "LayoutModel",
            "justify_items": null,
            "grid_row": null,
            "max_height": null,
            "align_content": null,
            "visibility": null,
            "align_self": null,
            "height": null,
            "min_height": null,
            "padding": null,
            "grid_auto_rows": null,
            "grid_gap": null,
            "max_width": null,
            "order": null,
            "_view_module_version": "1.2.0",
            "grid_template_areas": null,
            "object_position": null,
            "object_fit": null,
            "grid_auto_columns": null,
            "margin": null,
            "display": null,
            "left": null
          }
        },
        "2d1c38bbff0245fdaf663d5e6cf71db7": {
          "model_module": "@jupyter-widgets/controls",
          "model_name": "DescriptionStyleModel",
          "state": {
            "_view_name": "StyleView",
            "_model_name": "DescriptionStyleModel",
            "description_width": "",
            "_view_module": "@jupyter-widgets/base",
            "_model_module_version": "1.5.0",
            "_view_count": null,
            "_view_module_version": "1.2.0",
            "_model_module": "@jupyter-widgets/controls"
          }
        },
        "80a4f33f17f24cc1b8151c2100336a28": {
          "model_module": "@jupyter-widgets/base",
          "model_name": "LayoutModel",
          "state": {
            "_view_name": "LayoutView",
            "grid_template_rows": null,
            "right": null,
            "justify_content": null,
            "_view_module": "@jupyter-widgets/base",
            "overflow": null,
            "_model_module_version": "1.2.0",
            "_view_count": null,
            "flex_flow": null,
            "width": null,
            "min_width": null,
            "border": null,
            "align_items": null,
            "bottom": null,
            "_model_module": "@jupyter-widgets/base",
            "top": null,
            "grid_column": null,
            "overflow_y": null,
            "overflow_x": null,
            "grid_auto_flow": null,
            "grid_area": null,
            "grid_template_columns": null,
            "flex": null,
            "_model_name": "LayoutModel",
            "justify_items": null,
            "grid_row": null,
            "max_height": null,
            "align_content": null,
            "visibility": null,
            "align_self": null,
            "height": null,
            "min_height": null,
            "padding": null,
            "grid_auto_rows": null,
            "grid_gap": null,
            "max_width": null,
            "order": null,
            "_view_module_version": "1.2.0",
            "grid_template_areas": null,
            "object_position": null,
            "object_fit": null,
            "grid_auto_columns": null,
            "margin": null,
            "display": null,
            "left": null
          }
        },
        "13e702ec3f0547a68cad8ca837853c9a": {
          "model_module": "@jupyter-widgets/controls",
          "model_name": "HBoxModel",
          "state": {
            "_view_name": "HBoxView",
            "_dom_classes": [],
            "_model_name": "HBoxModel",
            "_view_module": "@jupyter-widgets/controls",
            "_model_module_version": "1.5.0",
            "_view_count": null,
            "_view_module_version": "1.5.0",
            "box_style": "",
            "layout": "IPY_MODEL_dcc3aad0a075439f837c8ffc460cdadb",
            "_model_module": "@jupyter-widgets/controls",
            "children": [
              "IPY_MODEL_74734a46187c4d1eb491ee2c07521aea",
              "IPY_MODEL_1d56f4f93813499fafee52d6dde4c04d"
            ]
          }
        },
        "dcc3aad0a075439f837c8ffc460cdadb": {
          "model_module": "@jupyter-widgets/base",
          "model_name": "LayoutModel",
          "state": {
            "_view_name": "LayoutView",
            "grid_template_rows": null,
            "right": null,
            "justify_content": null,
            "_view_module": "@jupyter-widgets/base",
            "overflow": null,
            "_model_module_version": "1.2.0",
            "_view_count": null,
            "flex_flow": null,
            "width": null,
            "min_width": null,
            "border": null,
            "align_items": null,
            "bottom": null,
            "_model_module": "@jupyter-widgets/base",
            "top": null,
            "grid_column": null,
            "overflow_y": null,
            "overflow_x": null,
            "grid_auto_flow": null,
            "grid_area": null,
            "grid_template_columns": null,
            "flex": null,
            "_model_name": "LayoutModel",
            "justify_items": null,
            "grid_row": null,
            "max_height": null,
            "align_content": null,
            "visibility": null,
            "align_self": null,
            "height": null,
            "min_height": null,
            "padding": null,
            "grid_auto_rows": null,
            "grid_gap": null,
            "max_width": null,
            "order": null,
            "_view_module_version": "1.2.0",
            "grid_template_areas": null,
            "object_position": null,
            "object_fit": null,
            "grid_auto_columns": null,
            "margin": null,
            "display": null,
            "left": null
          }
        },
        "74734a46187c4d1eb491ee2c07521aea": {
          "model_module": "@jupyter-widgets/controls",
          "model_name": "FloatProgressModel",
          "state": {
            "_view_name": "ProgressView",
            "style": "IPY_MODEL_d1f98cd0a70c4513ab0286a44fd86f44",
            "_dom_classes": [],
            "description": "100%",
            "_model_name": "FloatProgressModel",
            "bar_style": "success",
            "max": 12,
            "_view_module": "@jupyter-widgets/controls",
            "_model_module_version": "1.5.0",
            "value": 12,
            "_view_count": null,
            "_view_module_version": "1.5.0",
            "orientation": "horizontal",
            "min": 0,
            "description_tooltip": null,
            "_model_module": "@jupyter-widgets/controls",
            "layout": "IPY_MODEL_6c6c1a10b9c2445982534d513b60973c"
          }
        },
        "1d56f4f93813499fafee52d6dde4c04d": {
          "model_module": "@jupyter-widgets/controls",
          "model_name": "HTMLModel",
          "state": {
            "_view_name": "HTMLView",
            "style": "IPY_MODEL_264a5a1b926643008f4a505253d707a6",
            "_dom_classes": [],
            "description": "",
            "_model_name": "HTMLModel",
            "placeholder": "​",
            "_view_module": "@jupyter-widgets/controls",
            "_model_module_version": "1.5.0",
            "value": " 12/12 [09:49&lt;00:00, 49.10s/it]",
            "_view_count": null,
            "_view_module_version": "1.5.0",
            "description_tooltip": null,
            "_model_module": "@jupyter-widgets/controls",
            "layout": "IPY_MODEL_6008b4f1166d4cef81b4f2cac09805fd"
          }
        },
        "d1f98cd0a70c4513ab0286a44fd86f44": {
          "model_module": "@jupyter-widgets/controls",
          "model_name": "ProgressStyleModel",
          "state": {
            "_view_name": "StyleView",
            "_model_name": "ProgressStyleModel",
            "description_width": "initial",
            "_view_module": "@jupyter-widgets/base",
            "_model_module_version": "1.5.0",
            "_view_count": null,
            "_view_module_version": "1.2.0",
            "bar_color": null,
            "_model_module": "@jupyter-widgets/controls"
          }
        },
        "6c6c1a10b9c2445982534d513b60973c": {
          "model_module": "@jupyter-widgets/base",
          "model_name": "LayoutModel",
          "state": {
            "_view_name": "LayoutView",
            "grid_template_rows": null,
            "right": null,
            "justify_content": null,
            "_view_module": "@jupyter-widgets/base",
            "overflow": null,
            "_model_module_version": "1.2.0",
            "_view_count": null,
            "flex_flow": null,
            "width": null,
            "min_width": null,
            "border": null,
            "align_items": null,
            "bottom": null,
            "_model_module": "@jupyter-widgets/base",
            "top": null,
            "grid_column": null,
            "overflow_y": null,
            "overflow_x": null,
            "grid_auto_flow": null,
            "grid_area": null,
            "grid_template_columns": null,
            "flex": null,
            "_model_name": "LayoutModel",
            "justify_items": null,
            "grid_row": null,
            "max_height": null,
            "align_content": null,
            "visibility": null,
            "align_self": null,
            "height": null,
            "min_height": null,
            "padding": null,
            "grid_auto_rows": null,
            "grid_gap": null,
            "max_width": null,
            "order": null,
            "_view_module_version": "1.2.0",
            "grid_template_areas": null,
            "object_position": null,
            "object_fit": null,
            "grid_auto_columns": null,
            "margin": null,
            "display": null,
            "left": null
          }
        },
        "264a5a1b926643008f4a505253d707a6": {
          "model_module": "@jupyter-widgets/controls",
          "model_name": "DescriptionStyleModel",
          "state": {
            "_view_name": "StyleView",
            "_model_name": "DescriptionStyleModel",
            "description_width": "",
            "_view_module": "@jupyter-widgets/base",
            "_model_module_version": "1.5.0",
            "_view_count": null,
            "_view_module_version": "1.2.0",
            "_model_module": "@jupyter-widgets/controls"
          }
        },
        "6008b4f1166d4cef81b4f2cac09805fd": {
          "model_module": "@jupyter-widgets/base",
          "model_name": "LayoutModel",
          "state": {
            "_view_name": "LayoutView",
            "grid_template_rows": null,
            "right": null,
            "justify_content": null,
            "_view_module": "@jupyter-widgets/base",
            "overflow": null,
            "_model_module_version": "1.2.0",
            "_view_count": null,
            "flex_flow": null,
            "width": null,
            "min_width": null,
            "border": null,
            "align_items": null,
            "bottom": null,
            "_model_module": "@jupyter-widgets/base",
            "top": null,
            "grid_column": null,
            "overflow_y": null,
            "overflow_x": null,
            "grid_auto_flow": null,
            "grid_area": null,
            "grid_template_columns": null,
            "flex": null,
            "_model_name": "LayoutModel",
            "justify_items": null,
            "grid_row": null,
            "max_height": null,
            "align_content": null,
            "visibility": null,
            "align_self": null,
            "height": null,
            "min_height": null,
            "padding": null,
            "grid_auto_rows": null,
            "grid_gap": null,
            "max_width": null,
            "order": null,
            "_view_module_version": "1.2.0",
            "grid_template_areas": null,
            "object_position": null,
            "object_fit": null,
            "grid_auto_columns": null,
            "margin": null,
            "display": null,
            "left": null
          }
        },
        "153de98cfba24cb8b47d8f888dad16a8": {
          "model_module": "@jupyter-widgets/controls",
          "model_name": "HBoxModel",
          "state": {
            "_view_name": "HBoxView",
            "_dom_classes": [],
            "_model_name": "HBoxModel",
            "_view_module": "@jupyter-widgets/controls",
            "_model_module_version": "1.5.0",
            "_view_count": null,
            "_view_module_version": "1.5.0",
            "box_style": "",
            "layout": "IPY_MODEL_f0acf8a4641c4516857fffb370921882",
            "_model_module": "@jupyter-widgets/controls",
            "children": [
              "IPY_MODEL_b0262af4f9ee4152952ef3afd87c95ac",
              "IPY_MODEL_5e1aea56cb4b4373b124ce5919446cb7"
            ]
          }
        },
        "f0acf8a4641c4516857fffb370921882": {
          "model_module": "@jupyter-widgets/base",
          "model_name": "LayoutModel",
          "state": {
            "_view_name": "LayoutView",
            "grid_template_rows": null,
            "right": null,
            "justify_content": null,
            "_view_module": "@jupyter-widgets/base",
            "overflow": null,
            "_model_module_version": "1.2.0",
            "_view_count": null,
            "flex_flow": null,
            "width": null,
            "min_width": null,
            "border": null,
            "align_items": null,
            "bottom": null,
            "_model_module": "@jupyter-widgets/base",
            "top": null,
            "grid_column": null,
            "overflow_y": null,
            "overflow_x": null,
            "grid_auto_flow": null,
            "grid_area": null,
            "grid_template_columns": null,
            "flex": null,
            "_model_name": "LayoutModel",
            "justify_items": null,
            "grid_row": null,
            "max_height": null,
            "align_content": null,
            "visibility": null,
            "align_self": null,
            "height": null,
            "min_height": null,
            "padding": null,
            "grid_auto_rows": null,
            "grid_gap": null,
            "max_width": null,
            "order": null,
            "_view_module_version": "1.2.0",
            "grid_template_areas": null,
            "object_position": null,
            "object_fit": null,
            "grid_auto_columns": null,
            "margin": null,
            "display": null,
            "left": null
          }
        },
        "b0262af4f9ee4152952ef3afd87c95ac": {
          "model_module": "@jupyter-widgets/controls",
          "model_name": "FloatProgressModel",
          "state": {
            "_view_name": "ProgressView",
            "style": "IPY_MODEL_8f29e1a66a604b3c8f206e1d20fc267a",
            "_dom_classes": [],
            "description": "100%",
            "_model_name": "FloatProgressModel",
            "bar_style": "success",
            "max": 6,
            "_view_module": "@jupyter-widgets/controls",
            "_model_module_version": "1.5.0",
            "value": 6,
            "_view_count": null,
            "_view_module_version": "1.5.0",
            "orientation": "horizontal",
            "min": 0,
            "description_tooltip": null,
            "_model_module": "@jupyter-widgets/controls",
            "layout": "IPY_MODEL_d418cbdc33634056aca5de46cf56a9a9"
          }
        },
        "5e1aea56cb4b4373b124ce5919446cb7": {
          "model_module": "@jupyter-widgets/controls",
          "model_name": "HTMLModel",
          "state": {
            "_view_name": "HTMLView",
            "style": "IPY_MODEL_db24eb333b20480d9a6387c3451594f2",
            "_dom_classes": [],
            "description": "",
            "_model_name": "HTMLModel",
            "placeholder": "​",
            "_view_module": "@jupyter-widgets/controls",
            "_model_module_version": "1.5.0",
            "value": " 6/6 [03:52&lt;00:00, 38.79s/it]",
            "_view_count": null,
            "_view_module_version": "1.5.0",
            "description_tooltip": null,
            "_model_module": "@jupyter-widgets/controls",
            "layout": "IPY_MODEL_6cd722d54230459d9b197d5ba2e67714"
          }
        },
        "8f29e1a66a604b3c8f206e1d20fc267a": {
          "model_module": "@jupyter-widgets/controls",
          "model_name": "ProgressStyleModel",
          "state": {
            "_view_name": "StyleView",
            "_model_name": "ProgressStyleModel",
            "description_width": "initial",
            "_view_module": "@jupyter-widgets/base",
            "_model_module_version": "1.5.0",
            "_view_count": null,
            "_view_module_version": "1.2.0",
            "bar_color": null,
            "_model_module": "@jupyter-widgets/controls"
          }
        },
        "d418cbdc33634056aca5de46cf56a9a9": {
          "model_module": "@jupyter-widgets/base",
          "model_name": "LayoutModel",
          "state": {
            "_view_name": "LayoutView",
            "grid_template_rows": null,
            "right": null,
            "justify_content": null,
            "_view_module": "@jupyter-widgets/base",
            "overflow": null,
            "_model_module_version": "1.2.0",
            "_view_count": null,
            "flex_flow": null,
            "width": null,
            "min_width": null,
            "border": null,
            "align_items": null,
            "bottom": null,
            "_model_module": "@jupyter-widgets/base",
            "top": null,
            "grid_column": null,
            "overflow_y": null,
            "overflow_x": null,
            "grid_auto_flow": null,
            "grid_area": null,
            "grid_template_columns": null,
            "flex": null,
            "_model_name": "LayoutModel",
            "justify_items": null,
            "grid_row": null,
            "max_height": null,
            "align_content": null,
            "visibility": null,
            "align_self": null,
            "height": null,
            "min_height": null,
            "padding": null,
            "grid_auto_rows": null,
            "grid_gap": null,
            "max_width": null,
            "order": null,
            "_view_module_version": "1.2.0",
            "grid_template_areas": null,
            "object_position": null,
            "object_fit": null,
            "grid_auto_columns": null,
            "margin": null,
            "display": null,
            "left": null
          }
        },
        "db24eb333b20480d9a6387c3451594f2": {
          "model_module": "@jupyter-widgets/controls",
          "model_name": "DescriptionStyleModel",
          "state": {
            "_view_name": "StyleView",
            "_model_name": "DescriptionStyleModel",
            "description_width": "",
            "_view_module": "@jupyter-widgets/base",
            "_model_module_version": "1.5.0",
            "_view_count": null,
            "_view_module_version": "1.2.0",
            "_model_module": "@jupyter-widgets/controls"
          }
        },
        "6cd722d54230459d9b197d5ba2e67714": {
          "model_module": "@jupyter-widgets/base",
          "model_name": "LayoutModel",
          "state": {
            "_view_name": "LayoutView",
            "grid_template_rows": null,
            "right": null,
            "justify_content": null,
            "_view_module": "@jupyter-widgets/base",
            "overflow": null,
            "_model_module_version": "1.2.0",
            "_view_count": null,
            "flex_flow": null,
            "width": null,
            "min_width": null,
            "border": null,
            "align_items": null,
            "bottom": null,
            "_model_module": "@jupyter-widgets/base",
            "top": null,
            "grid_column": null,
            "overflow_y": null,
            "overflow_x": null,
            "grid_auto_flow": null,
            "grid_area": null,
            "grid_template_columns": null,
            "flex": null,
            "_model_name": "LayoutModel",
            "justify_items": null,
            "grid_row": null,
            "max_height": null,
            "align_content": null,
            "visibility": null,
            "align_self": null,
            "height": null,
            "min_height": null,
            "padding": null,
            "grid_auto_rows": null,
            "grid_gap": null,
            "max_width": null,
            "order": null,
            "_view_module_version": "1.2.0",
            "grid_template_areas": null,
            "object_position": null,
            "object_fit": null,
            "grid_auto_columns": null,
            "margin": null,
            "display": null,
            "left": null
          }
        },
        "22fff25ac14c427b9e229a1cc9f7762f": {
          "model_module": "@jupyter-widgets/controls",
          "model_name": "HBoxModel",
          "state": {
            "_view_name": "HBoxView",
            "_dom_classes": [],
            "_model_name": "HBoxModel",
            "_view_module": "@jupyter-widgets/controls",
            "_model_module_version": "1.5.0",
            "_view_count": null,
            "_view_module_version": "1.5.0",
            "box_style": "",
            "layout": "IPY_MODEL_b08d7b5a4fe94c799770472eb6d94070",
            "_model_module": "@jupyter-widgets/controls",
            "children": [
              "IPY_MODEL_1fcee6448fdf4d4892ccd29f49d0b506",
              "IPY_MODEL_2aa9de1e85854d1d9dcc8f8eea0108d9"
            ]
          }
        },
        "b08d7b5a4fe94c799770472eb6d94070": {
          "model_module": "@jupyter-widgets/base",
          "model_name": "LayoutModel",
          "state": {
            "_view_name": "LayoutView",
            "grid_template_rows": null,
            "right": null,
            "justify_content": null,
            "_view_module": "@jupyter-widgets/base",
            "overflow": null,
            "_model_module_version": "1.2.0",
            "_view_count": null,
            "flex_flow": null,
            "width": null,
            "min_width": null,
            "border": null,
            "align_items": null,
            "bottom": null,
            "_model_module": "@jupyter-widgets/base",
            "top": null,
            "grid_column": null,
            "overflow_y": null,
            "overflow_x": null,
            "grid_auto_flow": null,
            "grid_area": null,
            "grid_template_columns": null,
            "flex": null,
            "_model_name": "LayoutModel",
            "justify_items": null,
            "grid_row": null,
            "max_height": null,
            "align_content": null,
            "visibility": null,
            "align_self": null,
            "height": null,
            "min_height": null,
            "padding": null,
            "grid_auto_rows": null,
            "grid_gap": null,
            "max_width": null,
            "order": null,
            "_view_module_version": "1.2.0",
            "grid_template_areas": null,
            "object_position": null,
            "object_fit": null,
            "grid_auto_columns": null,
            "margin": null,
            "display": null,
            "left": null
          }
        },
        "1fcee6448fdf4d4892ccd29f49d0b506": {
          "model_module": "@jupyter-widgets/controls",
          "model_name": "FloatProgressModel",
          "state": {
            "_view_name": "ProgressView",
            "style": "IPY_MODEL_e3ef69cb964c4062be4245e6cf1b2b88",
            "_dom_classes": [],
            "description": "100%",
            "_model_name": "FloatProgressModel",
            "bar_style": "success",
            "max": 4,
            "_view_module": "@jupyter-widgets/controls",
            "_model_module_version": "1.5.0",
            "value": 4,
            "_view_count": null,
            "_view_module_version": "1.5.0",
            "orientation": "horizontal",
            "min": 0,
            "description_tooltip": null,
            "_model_module": "@jupyter-widgets/controls",
            "layout": "IPY_MODEL_990f1f9b459e4247b9fde3aae169c10c"
          }
        },
        "2aa9de1e85854d1d9dcc8f8eea0108d9": {
          "model_module": "@jupyter-widgets/controls",
          "model_name": "HTMLModel",
          "state": {
            "_view_name": "HTMLView",
            "style": "IPY_MODEL_2b245126ac1c4ceaa225aa17bce29f4d",
            "_dom_classes": [],
            "description": "",
            "_model_name": "HTMLModel",
            "placeholder": "​",
            "_view_module": "@jupyter-widgets/controls",
            "_model_module_version": "1.5.0",
            "value": " 4/4 [03:20&lt;00:00, 50.20s/it]",
            "_view_count": null,
            "_view_module_version": "1.5.0",
            "description_tooltip": null,
            "_model_module": "@jupyter-widgets/controls",
            "layout": "IPY_MODEL_c420eea77ada4d93bcc1ce3db30a4634"
          }
        },
        "e3ef69cb964c4062be4245e6cf1b2b88": {
          "model_module": "@jupyter-widgets/controls",
          "model_name": "ProgressStyleModel",
          "state": {
            "_view_name": "StyleView",
            "_model_name": "ProgressStyleModel",
            "description_width": "initial",
            "_view_module": "@jupyter-widgets/base",
            "_model_module_version": "1.5.0",
            "_view_count": null,
            "_view_module_version": "1.2.0",
            "bar_color": null,
            "_model_module": "@jupyter-widgets/controls"
          }
        },
        "990f1f9b459e4247b9fde3aae169c10c": {
          "model_module": "@jupyter-widgets/base",
          "model_name": "LayoutModel",
          "state": {
            "_view_name": "LayoutView",
            "grid_template_rows": null,
            "right": null,
            "justify_content": null,
            "_view_module": "@jupyter-widgets/base",
            "overflow": null,
            "_model_module_version": "1.2.0",
            "_view_count": null,
            "flex_flow": null,
            "width": null,
            "min_width": null,
            "border": null,
            "align_items": null,
            "bottom": null,
            "_model_module": "@jupyter-widgets/base",
            "top": null,
            "grid_column": null,
            "overflow_y": null,
            "overflow_x": null,
            "grid_auto_flow": null,
            "grid_area": null,
            "grid_template_columns": null,
            "flex": null,
            "_model_name": "LayoutModel",
            "justify_items": null,
            "grid_row": null,
            "max_height": null,
            "align_content": null,
            "visibility": null,
            "align_self": null,
            "height": null,
            "min_height": null,
            "padding": null,
            "grid_auto_rows": null,
            "grid_gap": null,
            "max_width": null,
            "order": null,
            "_view_module_version": "1.2.0",
            "grid_template_areas": null,
            "object_position": null,
            "object_fit": null,
            "grid_auto_columns": null,
            "margin": null,
            "display": null,
            "left": null
          }
        },
        "2b245126ac1c4ceaa225aa17bce29f4d": {
          "model_module": "@jupyter-widgets/controls",
          "model_name": "DescriptionStyleModel",
          "state": {
            "_view_name": "StyleView",
            "_model_name": "DescriptionStyleModel",
            "description_width": "",
            "_view_module": "@jupyter-widgets/base",
            "_model_module_version": "1.5.0",
            "_view_count": null,
            "_view_module_version": "1.2.0",
            "_model_module": "@jupyter-widgets/controls"
          }
        },
        "c420eea77ada4d93bcc1ce3db30a4634": {
          "model_module": "@jupyter-widgets/base",
          "model_name": "LayoutModel",
          "state": {
            "_view_name": "LayoutView",
            "grid_template_rows": null,
            "right": null,
            "justify_content": null,
            "_view_module": "@jupyter-widgets/base",
            "overflow": null,
            "_model_module_version": "1.2.0",
            "_view_count": null,
            "flex_flow": null,
            "width": null,
            "min_width": null,
            "border": null,
            "align_items": null,
            "bottom": null,
            "_model_module": "@jupyter-widgets/base",
            "top": null,
            "grid_column": null,
            "overflow_y": null,
            "overflow_x": null,
            "grid_auto_flow": null,
            "grid_area": null,
            "grid_template_columns": null,
            "flex": null,
            "_model_name": "LayoutModel",
            "justify_items": null,
            "grid_row": null,
            "max_height": null,
            "align_content": null,
            "visibility": null,
            "align_self": null,
            "height": null,
            "min_height": null,
            "padding": null,
            "grid_auto_rows": null,
            "grid_gap": null,
            "max_width": null,
            "order": null,
            "_view_module_version": "1.2.0",
            "grid_template_areas": null,
            "object_position": null,
            "object_fit": null,
            "grid_auto_columns": null,
            "margin": null,
            "display": null,
            "left": null
          }
        }
      }
    }
  },
  "cells": [
    {
      "cell_type": "markdown",
      "metadata": {
        "id": "M68NEYQMdcyZ"
      },
      "source": [
        "# TD6: Prévisions diréctionnelles\n",
        "\n",
        "Nous avons choisis comme Fichier de données plusieurs titres:\n",
        "\n",
        "-  $\\textbf{AIG}$ : c' est le nom commercial du réseau mondial d’assurance dommages et responsabilité de American International Group, Inc. AIG est l’un des leaders mondiaux de l’assurance et des services financiers. \n",
        "\n",
        "- $\\textbf{Amazon}$ : une entreprise de commerce en ligne\n",
        "\n",
        "- $\\textbf{Colgate-Palmolive}$ : une entreprise américaine spécialisée dans la fabrication et la commercialisation de produits d'entretien et de produits d'hygiène tels que les détergents, les savons, les dentifrices et les brosses à dents.\n",
        "\n",
        "- $\\textbf{Exxon Mobil Corp.}$ :  est une société pétrolière et gazière américaine.\n",
        "\n"
      ]
    },
    {
      "cell_type": "code",
      "metadata": {
        "id": "jh1TMPJuf5eB"
      },
      "source": [
        "import pandas as pd\n",
        "import numpy as np\n",
        "import tensorflow as tf\n",
        "from tensorflow import keras\n",
        "from tensorflow.keras.models import Sequential\n",
        "from tensorflow.keras.layers import Dense\n",
        "from tensorflow.keras.layers import Activation\n",
        "from tensorflow.keras.layers import Input\n",
        "from tensorflow.keras.models import Model\n",
        "from tensorflow.keras.optimizers import Adam\n",
        "from tensorflow.keras.models import Sequential,Model\n",
        "from tensorflow.keras.layers import Input, Dense, LSTM, GRU, Activation, Reshape,Flatten, Dropout, Lambda, RepeatVector\n",
        "from tensorflow.keras.layers import Add,Multiply\n",
        "from keras.callbacks import EarlyStopping\n",
        "from tensorflow.keras.layers import BatchNormalization\n",
        "from tensorflow.keras.layers import UpSampling1D, Conv1D\n",
        "from tensorflow.keras.layers import ReLU,LeakyReLU\n",
        "from tqdm import tqdm_notebook as tqdm\n",
        "import matplotlib.pyplot as plt\n",
        "from sklearn.preprocessing import LabelEncoder\n",
        "from keras.utils import np_utils"
      ],
      "execution_count": null,
      "outputs": []
    },
    {
      "cell_type": "code",
      "metadata": {
        "id": "UOlkcCsHdPRl",
        "colab": {
          "base_uri": "https://localhost:8080/"
        },
        "outputId": "505f57b7-5d91-41a7-df6f-fdf2c814a1fe"
      },
      "source": [
        "# Import de nos drive pour les fichiers\n",
        "from google.colab import drive\n",
        "drive.mount('/content/drive')"
      ],
      "execution_count": null,
      "outputs": [
        {
          "output_type": "stream",
          "text": [
            "Mounted at /content/drive\n"
          ],
          "name": "stdout"
        }
      ]
    },
    {
      "cell_type": "markdown",
      "metadata": {
        "id": "YuemsqtAay9w"
      },
      "source": [
        "On charge les cotations des 4 titres mentionnés ci-dessus : "
      ]
    },
    {
      "cell_type": "code",
      "metadata": {
        "id": "8FQt7gY8fu_w"
      },
      "source": [
        "AIG = pd.read_csv('/content/drive/MyDrive/Centrale Supelec/DeepLearningFinance/TD6/AIG_2021-02-22.csv.gz',compression='gzip',index_col=0)\n",
        "Amazon = pd.read_csv('/content/drive/MyDrive/Centrale Supelec/DeepLearningFinance/TD6/AMZN_2021-02-22.csv.gz',compression='gzip',index_col=0)\n",
        "ColgPalm = pd.read_csv('/content/drive/MyDrive/Centrale Supelec/DeepLearningFinance/TD6/CL_2021-02-22.csv.gz',compression='gzip',index_col=0)\n",
        "Exxon = pd.read_csv('/content/drive/MyDrive/Centrale Supelec/DeepLearningFinance/TD6/XOM_2021-02-22.csv.gz',compression='gzip',index_col=0)"
      ],
      "execution_count": null,
      "outputs": []
    },
    {
      "cell_type": "code",
      "metadata": {
        "id": "i5moVKputyYy"
      },
      "source": [
        "# From Deep Learning for Time Series Forecasting (c) Jason Brownlee\n",
        "\n",
        "#split a univariate sequence into samples\n",
        "def split_sequence_univariate(sequence, n_steps):\n",
        "    X, y = list(), list()\n",
        "    for i in range(len(sequence)):\n",
        "        # find the end of this pattern\n",
        "        end_ix = i + n_steps\n",
        "        # check if we are beyond the sequence\n",
        "        if end_ix > len(sequence)-1:\n",
        "            break\n",
        "            \n",
        "        # gather input and output parts of the pattern\n",
        "        #seq_x, seq_y = sequence[i:end_ix, :], sequence[end_ix, -1]\n",
        "        seq_x, seq_y = sequence[i:end_ix], sequence[end_ix]\n",
        "        X.append(seq_x)\n",
        "        y.append(seq_y)\n",
        "    return np.array(X), np.array(y)\n",
        "\n",
        "\n",
        "# Transforms a 2d-X and y to 3d X and y\n",
        "\n",
        "\n",
        "# split a multivariate sequence into samples\n",
        "def split_sequences_multivariate(sequences, n_steps):\n",
        "    X, y = list(), list()\n",
        "    for i in range(len(sequences)):\n",
        "# find the end of this pattern\n",
        "        end_ix = i + n_steps\n",
        "# check if we are beyond the dataset\n",
        "        if end_ix > len(sequences)-1:\n",
        "            break\n",
        "# gather input and output parts of the pattern\n",
        "        seq_x, seq_y = sequences[i:end_ix, :-1], sequences[end_ix-1, -1]\n",
        "        seq_x, seq_y = sequences[i:end_ix, :], sequences[end_ix, -1]\n",
        "        X.append(seq_x)\n",
        "        y.append(seq_y)\n",
        "    return np.array(X), np.array(y)"
      ],
      "execution_count": null,
      "outputs": []
    },
    {
      "cell_type": "code",
      "metadata": {
        "colab": {
          "base_uri": "https://localhost:8080/",
          "height": 227
        },
        "id": "rfeWB6e3hBsl",
        "outputId": "fa9aa573-417c-4555-8c17-5d3331cd11f3"
      },
      "source": [
        "AIG.head()"
      ],
      "execution_count": null,
      "outputs": [
        {
          "output_type": "execute_result",
          "data": {
            "text/html": [
              "<div>\n",
              "<style scoped>\n",
              "    .dataframe tbody tr th:only-of-type {\n",
              "        vertical-align: middle;\n",
              "    }\n",
              "\n",
              "    .dataframe tbody tr th {\n",
              "        vertical-align: top;\n",
              "    }\n",
              "\n",
              "    .dataframe thead th {\n",
              "        text-align: right;\n",
              "    }\n",
              "</style>\n",
              "<table border=\"1\" class=\"dataframe\">\n",
              "  <thead>\n",
              "    <tr style=\"text-align: right;\">\n",
              "      <th></th>\n",
              "      <th>Open</th>\n",
              "      <th>High</th>\n",
              "      <th>Low</th>\n",
              "      <th>Close</th>\n",
              "      <th>Volume</th>\n",
              "      <th>Adjusted</th>\n",
              "      <th>ticker</th>\n",
              "    </tr>\n",
              "    <tr>\n",
              "      <th>index</th>\n",
              "      <th></th>\n",
              "      <th></th>\n",
              "      <th></th>\n",
              "      <th></th>\n",
              "      <th></th>\n",
              "      <th></th>\n",
              "      <th></th>\n",
              "    </tr>\n",
              "  </thead>\n",
              "  <tbody>\n",
              "    <tr>\n",
              "      <th>2006-02-23</th>\n",
              "      <td>1351.599976</td>\n",
              "      <td>1353.400024</td>\n",
              "      <td>1330.800049</td>\n",
              "      <td>1344.000000</td>\n",
              "      <td>314525.0</td>\n",
              "      <td>908.666382</td>\n",
              "      <td>AIG</td>\n",
              "    </tr>\n",
              "    <tr>\n",
              "      <th>2006-02-24</th>\n",
              "      <td>1347.400024</td>\n",
              "      <td>1349.599976</td>\n",
              "      <td>1337.199951</td>\n",
              "      <td>1339.400024</td>\n",
              "      <td>210515.0</td>\n",
              "      <td>905.556519</td>\n",
              "      <td>AIG</td>\n",
              "    </tr>\n",
              "    <tr>\n",
              "      <th>2006-02-27</th>\n",
              "      <td>1339.400024</td>\n",
              "      <td>1347.599976</td>\n",
              "      <td>1332.400024</td>\n",
              "      <td>1342.199951</td>\n",
              "      <td>261885.0</td>\n",
              "      <td>907.449463</td>\n",
              "      <td>AIG</td>\n",
              "    </tr>\n",
              "    <tr>\n",
              "      <th>2006-02-28</th>\n",
              "      <td>1337.199951</td>\n",
              "      <td>1341.000000</td>\n",
              "      <td>1325.199951</td>\n",
              "      <td>1327.199951</td>\n",
              "      <td>355115.0</td>\n",
              "      <td>897.308289</td>\n",
              "      <td>AIG</td>\n",
              "    </tr>\n",
              "    <tr>\n",
              "      <th>2006-03-01</th>\n",
              "      <td>1325.800049</td>\n",
              "      <td>1337.000000</td>\n",
              "      <td>1319.199951</td>\n",
              "      <td>1324.400024</td>\n",
              "      <td>265980.0</td>\n",
              "      <td>897.443909</td>\n",
              "      <td>AIG</td>\n",
              "    </tr>\n",
              "  </tbody>\n",
              "</table>\n",
              "</div>"
            ],
            "text/plain": [
              "                   Open         High          Low  ...    Volume    Adjusted  ticker\n",
              "index                                              ...                              \n",
              "2006-02-23  1351.599976  1353.400024  1330.800049  ...  314525.0  908.666382     AIG\n",
              "2006-02-24  1347.400024  1349.599976  1337.199951  ...  210515.0  905.556519     AIG\n",
              "2006-02-27  1339.400024  1347.599976  1332.400024  ...  261885.0  907.449463     AIG\n",
              "2006-02-28  1337.199951  1341.000000  1325.199951  ...  355115.0  897.308289     AIG\n",
              "2006-03-01  1325.800049  1337.000000  1319.199951  ...  265980.0  897.443909     AIG\n",
              "\n",
              "[5 rows x 7 columns]"
            ]
          },
          "metadata": {
            "tags": []
          },
          "execution_count": 5
        }
      ]
    },
    {
      "cell_type": "code",
      "metadata": {
        "id": "yx8rM-DTCRgD"
      },
      "source": [
        "AIG[\"log_ret\"] = np.log(AIG.Adjusted.shift(1))-np.log(AIG.Adjusted)\n",
        "AIG = AIG.dropna()"
      ],
      "execution_count": null,
      "outputs": []
    },
    {
      "cell_type": "markdown",
      "metadata": {
        "id": "K65Mbv1SGeOU"
      },
      "source": [
        "Nous avons differentes possiblitées pour travailler sur les rendements , nous pouvons etudier : \n",
        "\n",
        "- Le signe des rendements en essayant de predir le signe du rendement suivant , c 'est  dire un bit de données ce qui permet de s'affranchir du bruit existant dans les autres bits. En effet les series sont trops bruitées.\n",
        "\n",
        "- On peut aussi utiliser le zscore ou les quantiles "
      ]
    },
    {
      "cell_type": "code",
      "metadata": {
        "id": "DYoXLvh-GUw8"
      },
      "source": [
        "AIG[\"ret_sign\"] = np.sign(AIG.log_ret)"
      ],
      "execution_count": null,
      "outputs": []
    },
    {
      "cell_type": "markdown",
      "metadata": {
        "id": "64QRKgDePJDC"
      },
      "source": [
        "Nous allons utiliser un reseaux de neurones reccurents afin de prédire le signe des rendements: \n",
        "\n",
        "- On fait l'hypothese que les rendements peuvent avoir 3 signes : {-1,0,1}.On va donc classifeir les rendements futur dans ces categories.\n",
        "\n",
        "- Les series de rendements sont adaptées sont adaptés a l'utilisation de réseaux réccurents. Nous faisons le choix d'un réseaux LSTM qui permet d'éviter le vanishing gradient."
      ]
    },
    {
      "cell_type": "code",
      "metadata": {
        "colab": {
          "base_uri": "https://localhost:8080/",
          "height": 436
        },
        "id": "hS2B5e-gaaoP",
        "outputId": "2c397a85-a658-4054-8548-25772835e4ba"
      },
      "source": [
        "AIG"
      ],
      "execution_count": null,
      "outputs": [
        {
          "output_type": "execute_result",
          "data": {
            "text/html": [
              "<div>\n",
              "<style scoped>\n",
              "    .dataframe tbody tr th:only-of-type {\n",
              "        vertical-align: middle;\n",
              "    }\n",
              "\n",
              "    .dataframe tbody tr th {\n",
              "        vertical-align: top;\n",
              "    }\n",
              "\n",
              "    .dataframe thead th {\n",
              "        text-align: right;\n",
              "    }\n",
              "</style>\n",
              "<table border=\"1\" class=\"dataframe\">\n",
              "  <thead>\n",
              "    <tr style=\"text-align: right;\">\n",
              "      <th></th>\n",
              "      <th>Open</th>\n",
              "      <th>High</th>\n",
              "      <th>Low</th>\n",
              "      <th>Close</th>\n",
              "      <th>Volume</th>\n",
              "      <th>Adjusted</th>\n",
              "      <th>ticker</th>\n",
              "      <th>log_ret</th>\n",
              "      <th>ret_sign</th>\n",
              "    </tr>\n",
              "    <tr>\n",
              "      <th>index</th>\n",
              "      <th></th>\n",
              "      <th></th>\n",
              "      <th></th>\n",
              "      <th></th>\n",
              "      <th></th>\n",
              "      <th></th>\n",
              "      <th></th>\n",
              "      <th></th>\n",
              "      <th></th>\n",
              "    </tr>\n",
              "  </thead>\n",
              "  <tbody>\n",
              "    <tr>\n",
              "      <th>2006-02-24</th>\n",
              "      <td>1347.400024</td>\n",
              "      <td>1349.599976</td>\n",
              "      <td>1337.199951</td>\n",
              "      <td>1339.400024</td>\n",
              "      <td>210515.0</td>\n",
              "      <td>905.556519</td>\n",
              "      <td>AIG</td>\n",
              "      <td>0.003428</td>\n",
              "      <td>1.0</td>\n",
              "    </tr>\n",
              "    <tr>\n",
              "      <th>2006-02-27</th>\n",
              "      <td>1339.400024</td>\n",
              "      <td>1347.599976</td>\n",
              "      <td>1332.400024</td>\n",
              "      <td>1342.199951</td>\n",
              "      <td>261885.0</td>\n",
              "      <td>907.449463</td>\n",
              "      <td>AIG</td>\n",
              "      <td>-0.002088</td>\n",
              "      <td>-1.0</td>\n",
              "    </tr>\n",
              "    <tr>\n",
              "      <th>2006-02-28</th>\n",
              "      <td>1337.199951</td>\n",
              "      <td>1341.000000</td>\n",
              "      <td>1325.199951</td>\n",
              "      <td>1327.199951</td>\n",
              "      <td>355115.0</td>\n",
              "      <td>897.308289</td>\n",
              "      <td>AIG</td>\n",
              "      <td>0.011238</td>\n",
              "      <td>1.0</td>\n",
              "    </tr>\n",
              "    <tr>\n",
              "      <th>2006-03-01</th>\n",
              "      <td>1325.800049</td>\n",
              "      <td>1337.000000</td>\n",
              "      <td>1319.199951</td>\n",
              "      <td>1324.400024</td>\n",
              "      <td>265980.0</td>\n",
              "      <td>897.443909</td>\n",
              "      <td>AIG</td>\n",
              "      <td>-0.000151</td>\n",
              "      <td>-1.0</td>\n",
              "    </tr>\n",
              "    <tr>\n",
              "      <th>2006-03-02</th>\n",
              "      <td>1318.000000</td>\n",
              "      <td>1322.599976</td>\n",
              "      <td>1310.400024</td>\n",
              "      <td>1316.000000</td>\n",
              "      <td>328885.0</td>\n",
              "      <td>891.751526</td>\n",
              "      <td>AIG</td>\n",
              "      <td>0.006363</td>\n",
              "      <td>1.0</td>\n",
              "    </tr>\n",
              "    <tr>\n",
              "      <th>...</th>\n",
              "      <td>...</td>\n",
              "      <td>...</td>\n",
              "      <td>...</td>\n",
              "      <td>...</td>\n",
              "      <td>...</td>\n",
              "      <td>...</td>\n",
              "      <td>...</td>\n",
              "      <td>...</td>\n",
              "      <td>...</td>\n",
              "    </tr>\n",
              "    <tr>\n",
              "      <th>2021-02-12</th>\n",
              "      <td>41.459999</td>\n",
              "      <td>42.189999</td>\n",
              "      <td>41.189999</td>\n",
              "      <td>41.400002</td>\n",
              "      <td>4153900.0</td>\n",
              "      <td>41.400002</td>\n",
              "      <td>AIG</td>\n",
              "      <td>0.004819</td>\n",
              "      <td>1.0</td>\n",
              "    </tr>\n",
              "    <tr>\n",
              "      <th>2021-02-16</th>\n",
              "      <td>41.740002</td>\n",
              "      <td>42.630001</td>\n",
              "      <td>41.509998</td>\n",
              "      <td>42.150002</td>\n",
              "      <td>4934900.0</td>\n",
              "      <td>42.150002</td>\n",
              "      <td>AIG</td>\n",
              "      <td>-0.017954</td>\n",
              "      <td>-1.0</td>\n",
              "    </tr>\n",
              "    <tr>\n",
              "      <th>2021-02-17</th>\n",
              "      <td>41.279999</td>\n",
              "      <td>43.360001</td>\n",
              "      <td>41.169998</td>\n",
              "      <td>43.270000</td>\n",
              "      <td>4872000.0</td>\n",
              "      <td>43.270000</td>\n",
              "      <td>AIG</td>\n",
              "      <td>-0.026225</td>\n",
              "      <td>-1.0</td>\n",
              "    </tr>\n",
              "    <tr>\n",
              "      <th>2021-02-18</th>\n",
              "      <td>42.459999</td>\n",
              "      <td>43.000000</td>\n",
              "      <td>41.490002</td>\n",
              "      <td>42.110001</td>\n",
              "      <td>4032600.0</td>\n",
              "      <td>42.110001</td>\n",
              "      <td>AIG</td>\n",
              "      <td>0.027174</td>\n",
              "      <td>1.0</td>\n",
              "    </tr>\n",
              "    <tr>\n",
              "      <th>2021-02-19</th>\n",
              "      <td>42.500000</td>\n",
              "      <td>42.820000</td>\n",
              "      <td>42.080002</td>\n",
              "      <td>42.580002</td>\n",
              "      <td>3664200.0</td>\n",
              "      <td>42.580002</td>\n",
              "      <td>AIG</td>\n",
              "      <td>-0.011099</td>\n",
              "      <td>-1.0</td>\n",
              "    </tr>\n",
              "  </tbody>\n",
              "</table>\n",
              "<p>3773 rows × 9 columns</p>\n",
              "</div>"
            ],
            "text/plain": [
              "                   Open         High          Low  ...  ticker   log_ret  ret_sign\n",
              "index                                              ...                            \n",
              "2006-02-24  1347.400024  1349.599976  1337.199951  ...     AIG  0.003428       1.0\n",
              "2006-02-27  1339.400024  1347.599976  1332.400024  ...     AIG -0.002088      -1.0\n",
              "2006-02-28  1337.199951  1341.000000  1325.199951  ...     AIG  0.011238       1.0\n",
              "2006-03-01  1325.800049  1337.000000  1319.199951  ...     AIG -0.000151      -1.0\n",
              "2006-03-02  1318.000000  1322.599976  1310.400024  ...     AIG  0.006363       1.0\n",
              "...                 ...          ...          ...  ...     ...       ...       ...\n",
              "2021-02-12    41.459999    42.189999    41.189999  ...     AIG  0.004819       1.0\n",
              "2021-02-16    41.740002    42.630001    41.509998  ...     AIG -0.017954      -1.0\n",
              "2021-02-17    41.279999    43.360001    41.169998  ...     AIG -0.026225      -1.0\n",
              "2021-02-18    42.459999    43.000000    41.490002  ...     AIG  0.027174       1.0\n",
              "2021-02-19    42.500000    42.820000    42.080002  ...     AIG -0.011099      -1.0\n",
              "\n",
              "[3773 rows x 9 columns]"
            ]
          },
          "metadata": {
            "tags": []
          },
          "execution_count": 8
        }
      ]
    },
    {
      "cell_type": "markdown",
      "metadata": {
        "id": "4bNtz_3z0fqc"
      },
      "source": [
        "#### Architecture LSTM : \n",
        "\n",
        "Dans cette partie on definit un Model Compilé LSTM ainsi que les fonctions d'entrainement et prédiction.\n",
        "\n",
        "Nous allons détailler les notations : \n",
        "\n",
        "- T_in : taille de la fenêtre d'entrainement.\n",
        "- Batch Size : taille des batchs d'entrainement.\n",
        "- dT : taille du batch prédiction.\n",
        "- nb_epochs : le nombre de fois ou on parcourt entièrement le DataSet.\n",
        "- Nb_neurons : Nombre de neurones par couche.\n",
        "\n",
        "Nous utlise un dropout pendant la phase d'entrainement pour éviter l'overfitting.\n",
        "\n",
        "La fonction $\\textit{Generic_LSTM}$ renvoie un LSTM multi-couches compilé."
      ]
    },
    {
      "cell_type": "code",
      "metadata": {
        "id": "8il4Jb7E00lP"
      },
      "source": [
        "def Generic_LSTM (Nb_neurons,batch_size,sizesamples,summary = False):\n",
        "\n",
        "  \n",
        "  model = Sequential()\n",
        "  model.add(LSTM(units = Nb_neurons , batch_input_shape=(batch_size,sizesamples[1],sizesamples[2]),return_sequences=True, stateful=True))\n",
        "  model.add(Dropout(0.2))\n",
        "  # Adding a second LSTM layer and some Dropout regularisation\n",
        "  model.add(LSTM(units = Nb_neurons ,return_sequences=True, stateful=True))\n",
        "  model.add(Dropout(0.2))\n",
        "  # Adding a third LSTM layer and some Dropout regularisation\n",
        "  model.add(LSTM(units = Nb_neurons ,return_sequences=True, stateful=True))\n",
        "  model.add(Dropout(0.2))\n",
        "  # Adding a fourth LSTM layer and some Dropout regularisation\n",
        "  model.add(LSTM(units = Nb_neurons, stateful=True))\n",
        "  model.add(Dropout(0.2))\n",
        "  # Adding the output layer\n",
        "  model.add(Dense(units = 3,activation='softmax'))\n",
        "  Opt = Adam(learning_rate=0.001, beta_1=0.9, beta_2=0.999, epsilon=1e-07) ## Valeurs par defaults ;\n",
        "  model.compile(loss='categorical_crossentropy', optimizer= Opt, metrics=['accuracy'])\n",
        "  if summary == True :\n",
        "    model.summary()\n",
        "\n",
        "  return model"
      ],
      "execution_count": null,
      "outputs": []
    },
    {
      "cell_type": "markdown",
      "metadata": {
        "id": "8y4xTYnp3vFb"
      },
      "source": [
        "La fonction $\\textit{Global_LSTM}$ prend en entrée un LSTM compilé ainsi que les X_train et y_train.Le reseaux est alors entrainée sur chaque fenetres.Nous recupérons en sortie l'historique des prédictions."
      ]
    },
    {
      "cell_type": "code",
      "metadata": {
        "id": "XN6rzDzV00FF"
      },
      "source": [
        "def Global_LSTM(batch_size,T_in,dT,nb_epochs,neurons_lstm,X,Y,type = 'classification',shfle = False):\n",
        "\n",
        "      LSTM_Training =  Generic_LSTM(neurons_lstm, batch_size, X.shape,summary = False) \n",
        "      if type ==   'classification' : \n",
        "        LSTM_History = np.array([0]*Y.shape[1],ndmin=2)\n",
        "      else: \n",
        "        LSTM_History = np.array([])\n",
        "\n",
        "      for t in tqdm(np.arange(T_in,X.shape[0]-T_in,dT)):\n",
        "\n",
        "          LSTM_Training.fit(X[t-T_in:t],Y[t-T_in:t], batch_size = batch_size, epochs = nb_epochs , shuffle = shfle,verbose=0)\n",
        "          LSTM_Forecast = Generic_LSTM(neurons_lstm, dT, X.shape) ; LSTM_Forecast.set_weights(LSTM_Training.get_weights())\n",
        "          forecast = LSTM_Forecast.predict(X[t:t+dT],batch_size=dT) ; LSTM_History = np.concatenate((LSTM_History, forecast), axis=0) ## Rajoute les nouvelles predictions\n",
        "\n",
        "      return LSTM_History\n"
      ],
      "execution_count": null,
      "outputs": []
    },
    {
      "cell_type": "markdown",
      "metadata": {
        "id": "LrqJreT-4lZS"
      },
      "source": [
        "## 1: Rendements seuls\n",
        "\n"
      ]
    },
    {
      "cell_type": "code",
      "metadata": {
        "id": "wO8H6sYJhSxc"
      },
      "source": [
        "batch_size = 64 ## Taille de chaque batch sur lequel il optimise \n",
        "neurons_lstm = 100 ; ## Nombre de neurones par couche LSTM\n",
        "nb_epochs = 100 ## Nombre de fois ou on passe sur tout le dataset d entrainement\n",
        "T_in = batch_size*20 ## Le nombre de samples pris pour chaque entrainement. \n",
        "dT= 100 # Nombre de points entre deux etapes de calibration"
      ],
      "execution_count": null,
      "outputs": []
    },
    {
      "cell_type": "markdown",
      "metadata": {
        "id": "1Oye3pNM6GLD"
      },
      "source": [
        "On construit le $\\textit{X_train}$ et le $\\textit{Y_train}$.\n",
        "\n"
      ]
    },
    {
      "cell_type": "code",
      "metadata": {
        "id": "ox6tMKUwIU0F",
        "colab": {
          "base_uri": "https://localhost:8080/"
        },
        "outputId": "d3021d83-17d2-4ecc-9663-e8293f4ff8a4"
      },
      "source": [
        "X_full = AIG[[\"log_ret\"]].values                     # note the [[]] here. Otherwise, reshape(...,1)\n",
        "X_full.shape ; N_I=100 # length of sequences input to LSTMs\n",
        "X_sample, y_sample  = split_sequence_univariate(X_full,N_I)   # for LSTMs\n",
        "y_sample = np.sign(y_sample)\n",
        "print(X_sample.shape)# we do have a 3d-object\n",
        "print(y_sample.shape)"
      ],
      "execution_count": null,
      "outputs": [
        {
          "output_type": "stream",
          "text": [
            "(3673, 100, 1)\n",
            "(3673, 1)\n"
          ],
          "name": "stdout"
        }
      ]
    },
    {
      "cell_type": "code",
      "metadata": {
        "id": "kTe2w_IGzamt"
      },
      "source": [
        "# encode class values as integers\n",
        "encoder = LabelEncoder()\n",
        "encoder.fit(y_sample[:,0])\n",
        "encoded_Y = encoder.transform(y_sample[:,0])\n",
        "dummy_y = np_utils.to_categorical(encoded_Y)\n",
        "one_hot_y_sample = dummy_y "
      ],
      "execution_count": null,
      "outputs": []
    },
    {
      "cell_type": "code",
      "metadata": {
        "colab": {
          "base_uri": "https://localhost:8080/",
          "height": 282,
          "referenced_widgets": [
            "0ae3d16cc36f4b5dab25363810ca1432",
            "cb3dea77496d4bc6a121894a8d5c0821",
            "c017381380884fa2a59e12cb74465d65",
            "8dcbec1a46854c3b823f5e3f3f0448ef",
            "6ae9791b5c3341ed8dff47aa65691039",
            "e56787f7e5ab4c77baf4c5fbb0320869",
            "44393b27e58647c4b19bb869f8881a95",
            "b95e33c335234260b2f3142e12333715"
          ]
        },
        "id": "7iJ_CNQuNpn8",
        "outputId": "02b9b0e6-55fa-465b-b316-8c1c26cbd25a"
      },
      "source": [
        "LSTM_History = Global_LSTM(batch_size,T_in,dT,nb_epochs,neurons_lstm,X_sample,one_hot_y_sample,type = 'classification',shfle = False)"
      ],
      "execution_count": null,
      "outputs": [
        {
          "output_type": "stream",
          "text": [
            "/usr/local/lib/python3.7/dist-packages/ipykernel_launcher.py:9: TqdmDeprecationWarning: This function will be removed in tqdm==5.0.0\n",
            "Please use `tqdm.notebook.tqdm` instead of `tqdm.tqdm_notebook`\n",
            "  if __name__ == '__main__':\n"
          ],
          "name": "stderr"
        },
        {
          "output_type": "display_data",
          "data": {
            "application/vnd.jupyter.widget-view+json": {
              "model_id": "0ae3d16cc36f4b5dab25363810ca1432",
              "version_minor": 0,
              "version_major": 2
            },
            "text/plain": [
              "HBox(children=(FloatProgress(value=0.0, max=12.0), HTML(value='')))"
            ]
          },
          "metadata": {
            "tags": []
          }
        },
        {
          "output_type": "stream",
          "text": [
            "WARNING:tensorflow:5 out of the last 5 calls to <function Model.make_predict_function.<locals>.predict_function at 0x7f8c3c8c89e0> triggered tf.function retracing. Tracing is expensive and the excessive number of tracings could be due to (1) creating @tf.function repeatedly in a loop, (2) passing tensors with different shapes, (3) passing Python objects instead of tensors. For (1), please define your @tf.function outside of the loop. For (2), @tf.function has experimental_relax_shapes=True option that relaxes argument shapes that can avoid unnecessary retracing. For (3), please refer to https://www.tensorflow.org/guide/function#controlling_retracing and https://www.tensorflow.org/api_docs/python/tf/function for  more details.\n",
            "WARNING:tensorflow:6 out of the last 6 calls to <function Model.make_predict_function.<locals>.predict_function at 0x7f8c3d5d2dd0> triggered tf.function retracing. Tracing is expensive and the excessive number of tracings could be due to (1) creating @tf.function repeatedly in a loop, (2) passing tensors with different shapes, (3) passing Python objects instead of tensors. For (1), please define your @tf.function outside of the loop. For (2), @tf.function has experimental_relax_shapes=True option that relaxes argument shapes that can avoid unnecessary retracing. For (3), please refer to https://www.tensorflow.org/guide/function#controlling_retracing and https://www.tensorflow.org/api_docs/python/tf/function for  more details.\n",
            "WARNING:tensorflow:7 out of the last 7 calls to <function Model.make_predict_function.<locals>.predict_function at 0x7f8c4cd6a9e0> triggered tf.function retracing. Tracing is expensive and the excessive number of tracings could be due to (1) creating @tf.function repeatedly in a loop, (2) passing tensors with different shapes, (3) passing Python objects instead of tensors. For (1), please define your @tf.function outside of the loop. For (2), @tf.function has experimental_relax_shapes=True option that relaxes argument shapes that can avoid unnecessary retracing. For (3), please refer to https://www.tensorflow.org/guide/function#controlling_retracing and https://www.tensorflow.org/api_docs/python/tf/function for  more details.\n",
            "WARNING:tensorflow:8 out of the last 8 calls to <function Model.make_predict_function.<locals>.predict_function at 0x7f8c3dfcdb00> triggered tf.function retracing. Tracing is expensive and the excessive number of tracings could be due to (1) creating @tf.function repeatedly in a loop, (2) passing tensors with different shapes, (3) passing Python objects instead of tensors. For (1), please define your @tf.function outside of the loop. For (2), @tf.function has experimental_relax_shapes=True option that relaxes argument shapes that can avoid unnecessary retracing. For (3), please refer to https://www.tensorflow.org/guide/function#controlling_retracing and https://www.tensorflow.org/api_docs/python/tf/function for  more details.\n",
            "WARNING:tensorflow:9 out of the last 9 calls to <function Model.make_predict_function.<locals>.predict_function at 0x7f8c3d43ccb0> triggered tf.function retracing. Tracing is expensive and the excessive number of tracings could be due to (1) creating @tf.function repeatedly in a loop, (2) passing tensors with different shapes, (3) passing Python objects instead of tensors. For (1), please define your @tf.function outside of the loop. For (2), @tf.function has experimental_relax_shapes=True option that relaxes argument shapes that can avoid unnecessary retracing. For (3), please refer to https://www.tensorflow.org/guide/function#controlling_retracing and https://www.tensorflow.org/api_docs/python/tf/function for  more details.\n",
            "WARNING:tensorflow:10 out of the last 10 calls to <function Model.make_predict_function.<locals>.predict_function at 0x7f8c3c4978c0> triggered tf.function retracing. Tracing is expensive and the excessive number of tracings could be due to (1) creating @tf.function repeatedly in a loop, (2) passing tensors with different shapes, (3) passing Python objects instead of tensors. For (1), please define your @tf.function outside of the loop. For (2), @tf.function has experimental_relax_shapes=True option that relaxes argument shapes that can avoid unnecessary retracing. For (3), please refer to https://www.tensorflow.org/guide/function#controlling_retracing and https://www.tensorflow.org/api_docs/python/tf/function for  more details.\n",
            "WARNING:tensorflow:11 out of the last 11 calls to <function Model.make_predict_function.<locals>.predict_function at 0x7f8c4c133dd0> triggered tf.function retracing. Tracing is expensive and the excessive number of tracings could be due to (1) creating @tf.function repeatedly in a loop, (2) passing tensors with different shapes, (3) passing Python objects instead of tensors. For (1), please define your @tf.function outside of the loop. For (2), @tf.function has experimental_relax_shapes=True option that relaxes argument shapes that can avoid unnecessary retracing. For (3), please refer to https://www.tensorflow.org/guide/function#controlling_retracing and https://www.tensorflow.org/api_docs/python/tf/function for  more details.\n",
            "WARNING:tensorflow:11 out of the last 11 calls to <function Model.make_predict_function.<locals>.predict_function at 0x7f8c3c7910e0> triggered tf.function retracing. Tracing is expensive and the excessive number of tracings could be due to (1) creating @tf.function repeatedly in a loop, (2) passing tensors with different shapes, (3) passing Python objects instead of tensors. For (1), please define your @tf.function outside of the loop. For (2), @tf.function has experimental_relax_shapes=True option that relaxes argument shapes that can avoid unnecessary retracing. For (3), please refer to https://www.tensorflow.org/guide/function#controlling_retracing and https://www.tensorflow.org/api_docs/python/tf/function for  more details.\n",
            "\n"
          ],
          "name": "stdout"
        }
      ]
    },
    {
      "cell_type": "code",
      "metadata": {
        "id": "0cX7pm9lQ5et"
      },
      "source": [
        "y_pred = LSTM_History[1:,:] ## On prend pas la 1 ere ligne car sert juste à l'init ; elle n'a aucun sens\n",
        "y_pred = np.argmax(y_pred,axis=1) ## On prend la classe pour laquelle la proba est maximale "
      ],
      "execution_count": null,
      "outputs": []
    },
    {
      "cell_type": "code",
      "metadata": {
        "colab": {
          "base_uri": "https://localhost:8080/",
          "height": 406
        },
        "id": "dVWDuTcLD8ek",
        "outputId": "1b121218-e1e7-4a5c-f7d9-1c5fa2a15a52"
      },
      "source": [
        "seq = np.arange(T_in,X_sample.shape[0]-T_in,dT) ; y_true = encoded_Y[N_I + seq[0]:seq[-1]+N_I+dT]\n",
        "resultsI = pd.DataFrame(data = { 'labels' : y_true , 'pred' : y_pred})\n",
        "resultsI"
      ],
      "execution_count": null,
      "outputs": [
        {
          "output_type": "execute_result",
          "data": {
            "text/html": [
              "<div>\n",
              "<style scoped>\n",
              "    .dataframe tbody tr th:only-of-type {\n",
              "        vertical-align: middle;\n",
              "    }\n",
              "\n",
              "    .dataframe tbody tr th {\n",
              "        vertical-align: top;\n",
              "    }\n",
              "\n",
              "    .dataframe thead th {\n",
              "        text-align: right;\n",
              "    }\n",
              "</style>\n",
              "<table border=\"1\" class=\"dataframe\">\n",
              "  <thead>\n",
              "    <tr style=\"text-align: right;\">\n",
              "      <th></th>\n",
              "      <th>labels</th>\n",
              "      <th>pred</th>\n",
              "    </tr>\n",
              "  </thead>\n",
              "  <tbody>\n",
              "    <tr>\n",
              "      <th>0</th>\n",
              "      <td>0</td>\n",
              "      <td>2</td>\n",
              "    </tr>\n",
              "    <tr>\n",
              "      <th>1</th>\n",
              "      <td>0</td>\n",
              "      <td>2</td>\n",
              "    </tr>\n",
              "    <tr>\n",
              "      <th>2</th>\n",
              "      <td>0</td>\n",
              "      <td>2</td>\n",
              "    </tr>\n",
              "    <tr>\n",
              "      <th>3</th>\n",
              "      <td>2</td>\n",
              "      <td>2</td>\n",
              "    </tr>\n",
              "    <tr>\n",
              "      <th>4</th>\n",
              "      <td>2</td>\n",
              "      <td>2</td>\n",
              "    </tr>\n",
              "    <tr>\n",
              "      <th>...</th>\n",
              "      <td>...</td>\n",
              "      <td>...</td>\n",
              "    </tr>\n",
              "    <tr>\n",
              "      <th>1195</th>\n",
              "      <td>0</td>\n",
              "      <td>0</td>\n",
              "    </tr>\n",
              "    <tr>\n",
              "      <th>1196</th>\n",
              "      <td>2</td>\n",
              "      <td>0</td>\n",
              "    </tr>\n",
              "    <tr>\n",
              "      <th>1197</th>\n",
              "      <td>0</td>\n",
              "      <td>0</td>\n",
              "    </tr>\n",
              "    <tr>\n",
              "      <th>1198</th>\n",
              "      <td>2</td>\n",
              "      <td>0</td>\n",
              "    </tr>\n",
              "    <tr>\n",
              "      <th>1199</th>\n",
              "      <td>0</td>\n",
              "      <td>0</td>\n",
              "    </tr>\n",
              "  </tbody>\n",
              "</table>\n",
              "<p>1200 rows × 2 columns</p>\n",
              "</div>"
            ],
            "text/plain": [
              "      labels  pred\n",
              "0          0     2\n",
              "1          0     2\n",
              "2          0     2\n",
              "3          2     2\n",
              "4          2     2\n",
              "...      ...   ...\n",
              "1195       0     0\n",
              "1196       2     0\n",
              "1197       0     0\n",
              "1198       2     0\n",
              "1199       0     0\n",
              "\n",
              "[1200 rows x 2 columns]"
            ]
          },
          "metadata": {
            "tags": []
          },
          "execution_count": 16
        }
      ]
    },
    {
      "cell_type": "code",
      "metadata": {
        "colab": {
          "base_uri": "https://localhost:8080/"
        },
        "id": "K2hbFM2xRQMj",
        "outputId": "54968781-7e00-494e-c90e-c29203b3abdc"
      },
      "source": [
        "from sklearn.metrics import confusion_matrix\n",
        "matrix_conf = confusion_matrix(resultsI.labels,resultsI.pred)\n",
        "AccI = (matrix_conf[0,0] + matrix_conf[1,1])/resultsI.shape[0]\n",
        "print(f\"Accuracy : {(matrix_conf[0,0] + matrix_conf[1,1])/resultsI.shape[0]}\")"
      ],
      "execution_count": null,
      "outputs": [
        {
          "output_type": "stream",
          "text": [
            "Accuracy : 0.21916666666666668\n"
          ],
          "name": "stdout"
        }
      ]
    },
    {
      "cell_type": "markdown",
      "metadata": {
        "id": "kKlVNc89YyfU"
      },
      "source": [
        "> Il apparait que la classification est de trés mauvaise qualitée.L'utilisation des signes de logret de la serie pour prédire les signes des logrets rendements futurs n'est pas un bon prédicteur.\n",
        "\n",
        "On note aussi que les résultats ne sont pas stables.Les resultats changent significativements quand on relance l'entrainement et la prédiction.\n"
      ]
    },
    {
      "cell_type": "markdown",
      "metadata": {
        "id": "fADzMVn-IUjG"
      },
      "source": [
        "## 2 : Rendements et OHLC"
      ]
    },
    {
      "cell_type": "markdown",
      "metadata": {
        "id": "vK6cS2TO7SEv"
      },
      "source": [
        "- Nous gardons les rendements  brutes mais cette fois ci nous rajoutons de nouveaux prédicteurs.\n",
        "\n",
        "- Nous avons ajouté trois nouveau prédicteurs :\n",
        "  - $h = \\log(\\frac{H}{O})$\n",
        "  - $l = \\log(\\frac{L}{O})$\n",
        "  - $c = \\log(\\frac{C}{O})$\n",
        "\n"
      ]
    },
    {
      "cell_type": "code",
      "metadata": {
        "colab": {
          "base_uri": "https://localhost:8080/",
          "height": 436
        },
        "id": "plHPKCJ8IUTA",
        "outputId": "252a904b-1d53-4ca8-e082-13f64326cd1c"
      },
      "source": [
        "AIG[\"h\"] = np.log(AIG.High/AIG.Open) ; AIG[\"l\"] = np.log(AIG.Low/AIG.Open) ; AIG[\"c\"] = np.log(AIG.Close/AIG.Open) ; \n",
        "AIG"
      ],
      "execution_count": null,
      "outputs": [
        {
          "output_type": "execute_result",
          "data": {
            "text/html": [
              "<div>\n",
              "<style scoped>\n",
              "    .dataframe tbody tr th:only-of-type {\n",
              "        vertical-align: middle;\n",
              "    }\n",
              "\n",
              "    .dataframe tbody tr th {\n",
              "        vertical-align: top;\n",
              "    }\n",
              "\n",
              "    .dataframe thead th {\n",
              "        text-align: right;\n",
              "    }\n",
              "</style>\n",
              "<table border=\"1\" class=\"dataframe\">\n",
              "  <thead>\n",
              "    <tr style=\"text-align: right;\">\n",
              "      <th></th>\n",
              "      <th>Open</th>\n",
              "      <th>High</th>\n",
              "      <th>Low</th>\n",
              "      <th>Close</th>\n",
              "      <th>Volume</th>\n",
              "      <th>Adjusted</th>\n",
              "      <th>ticker</th>\n",
              "      <th>log_ret</th>\n",
              "      <th>ret_sign</th>\n",
              "      <th>h</th>\n",
              "      <th>l</th>\n",
              "      <th>c</th>\n",
              "    </tr>\n",
              "    <tr>\n",
              "      <th>index</th>\n",
              "      <th></th>\n",
              "      <th></th>\n",
              "      <th></th>\n",
              "      <th></th>\n",
              "      <th></th>\n",
              "      <th></th>\n",
              "      <th></th>\n",
              "      <th></th>\n",
              "      <th></th>\n",
              "      <th></th>\n",
              "      <th></th>\n",
              "      <th></th>\n",
              "    </tr>\n",
              "  </thead>\n",
              "  <tbody>\n",
              "    <tr>\n",
              "      <th>2006-02-24</th>\n",
              "      <td>1347.400024</td>\n",
              "      <td>1349.599976</td>\n",
              "      <td>1337.199951</td>\n",
              "      <td>1339.400024</td>\n",
              "      <td>210515.0</td>\n",
              "      <td>905.556519</td>\n",
              "      <td>AIG</td>\n",
              "      <td>0.003428</td>\n",
              "      <td>1.0</td>\n",
              "      <td>0.001631</td>\n",
              "      <td>-0.007599</td>\n",
              "      <td>-0.005955</td>\n",
              "    </tr>\n",
              "    <tr>\n",
              "      <th>2006-02-27</th>\n",
              "      <td>1339.400024</td>\n",
              "      <td>1347.599976</td>\n",
              "      <td>1332.400024</td>\n",
              "      <td>1342.199951</td>\n",
              "      <td>261885.0</td>\n",
              "      <td>907.449463</td>\n",
              "      <td>AIG</td>\n",
              "      <td>-0.002088</td>\n",
              "      <td>-1.0</td>\n",
              "      <td>0.006103</td>\n",
              "      <td>-0.005240</td>\n",
              "      <td>0.002088</td>\n",
              "    </tr>\n",
              "    <tr>\n",
              "      <th>2006-02-28</th>\n",
              "      <td>1337.199951</td>\n",
              "      <td>1341.000000</td>\n",
              "      <td>1325.199951</td>\n",
              "      <td>1327.199951</td>\n",
              "      <td>355115.0</td>\n",
              "      <td>897.308289</td>\n",
              "      <td>AIG</td>\n",
              "      <td>0.011238</td>\n",
              "      <td>1.0</td>\n",
              "      <td>0.002838</td>\n",
              "      <td>-0.009014</td>\n",
              "      <td>-0.007506</td>\n",
              "    </tr>\n",
              "    <tr>\n",
              "      <th>2006-03-01</th>\n",
              "      <td>1325.800049</td>\n",
              "      <td>1337.000000</td>\n",
              "      <td>1319.199951</td>\n",
              "      <td>1324.400024</td>\n",
              "      <td>265980.0</td>\n",
              "      <td>897.443909</td>\n",
              "      <td>AIG</td>\n",
              "      <td>-0.000151</td>\n",
              "      <td>-1.0</td>\n",
              "      <td>0.008412</td>\n",
              "      <td>-0.004991</td>\n",
              "      <td>-0.001057</td>\n",
              "    </tr>\n",
              "    <tr>\n",
              "      <th>2006-03-02</th>\n",
              "      <td>1318.000000</td>\n",
              "      <td>1322.599976</td>\n",
              "      <td>1310.400024</td>\n",
              "      <td>1316.000000</td>\n",
              "      <td>328885.0</td>\n",
              "      <td>891.751526</td>\n",
              "      <td>AIG</td>\n",
              "      <td>0.006363</td>\n",
              "      <td>1.0</td>\n",
              "      <td>0.003484</td>\n",
              "      <td>-0.005783</td>\n",
              "      <td>-0.001519</td>\n",
              "    </tr>\n",
              "    <tr>\n",
              "      <th>...</th>\n",
              "      <td>...</td>\n",
              "      <td>...</td>\n",
              "      <td>...</td>\n",
              "      <td>...</td>\n",
              "      <td>...</td>\n",
              "      <td>...</td>\n",
              "      <td>...</td>\n",
              "      <td>...</td>\n",
              "      <td>...</td>\n",
              "      <td>...</td>\n",
              "      <td>...</td>\n",
              "      <td>...</td>\n",
              "    </tr>\n",
              "    <tr>\n",
              "      <th>2021-02-12</th>\n",
              "      <td>41.459999</td>\n",
              "      <td>42.189999</td>\n",
              "      <td>41.189999</td>\n",
              "      <td>41.400002</td>\n",
              "      <td>4153900.0</td>\n",
              "      <td>41.400002</td>\n",
              "      <td>AIG</td>\n",
              "      <td>0.004819</td>\n",
              "      <td>1.0</td>\n",
              "      <td>0.017454</td>\n",
              "      <td>-0.006534</td>\n",
              "      <td>-0.001448</td>\n",
              "    </tr>\n",
              "    <tr>\n",
              "      <th>2021-02-16</th>\n",
              "      <td>41.740002</td>\n",
              "      <td>42.630001</td>\n",
              "      <td>41.509998</td>\n",
              "      <td>42.150002</td>\n",
              "      <td>4934900.0</td>\n",
              "      <td>42.150002</td>\n",
              "      <td>AIG</td>\n",
              "      <td>-0.017954</td>\n",
              "      <td>-1.0</td>\n",
              "      <td>0.021098</td>\n",
              "      <td>-0.005526</td>\n",
              "      <td>0.009775</td>\n",
              "    </tr>\n",
              "    <tr>\n",
              "      <th>2021-02-17</th>\n",
              "      <td>41.279999</td>\n",
              "      <td>43.360001</td>\n",
              "      <td>41.169998</td>\n",
              "      <td>43.270000</td>\n",
              "      <td>4872000.0</td>\n",
              "      <td>43.270000</td>\n",
              "      <td>AIG</td>\n",
              "      <td>-0.026225</td>\n",
              "      <td>-1.0</td>\n",
              "      <td>0.049159</td>\n",
              "      <td>-0.002668</td>\n",
              "      <td>0.047081</td>\n",
              "    </tr>\n",
              "    <tr>\n",
              "      <th>2021-02-18</th>\n",
              "      <td>42.459999</td>\n",
              "      <td>43.000000</td>\n",
              "      <td>41.490002</td>\n",
              "      <td>42.110001</td>\n",
              "      <td>4032600.0</td>\n",
              "      <td>42.110001</td>\n",
              "      <td>AIG</td>\n",
              "      <td>0.027174</td>\n",
              "      <td>1.0</td>\n",
              "      <td>0.012638</td>\n",
              "      <td>-0.023110</td>\n",
              "      <td>-0.008277</td>\n",
              "    </tr>\n",
              "    <tr>\n",
              "      <th>2021-02-19</th>\n",
              "      <td>42.500000</td>\n",
              "      <td>42.820000</td>\n",
              "      <td>42.080002</td>\n",
              "      <td>42.580002</td>\n",
              "      <td>3664200.0</td>\n",
              "      <td>42.580002</td>\n",
              "      <td>AIG</td>\n",
              "      <td>-0.011099</td>\n",
              "      <td>-1.0</td>\n",
              "      <td>0.007501</td>\n",
              "      <td>-0.009931</td>\n",
              "      <td>0.001881</td>\n",
              "    </tr>\n",
              "  </tbody>\n",
              "</table>\n",
              "<p>3773 rows × 12 columns</p>\n",
              "</div>"
            ],
            "text/plain": [
              "                   Open         High          Low  ...         h         l         c\n",
              "index                                              ...                              \n",
              "2006-02-24  1347.400024  1349.599976  1337.199951  ...  0.001631 -0.007599 -0.005955\n",
              "2006-02-27  1339.400024  1347.599976  1332.400024  ...  0.006103 -0.005240  0.002088\n",
              "2006-02-28  1337.199951  1341.000000  1325.199951  ...  0.002838 -0.009014 -0.007506\n",
              "2006-03-01  1325.800049  1337.000000  1319.199951  ...  0.008412 -0.004991 -0.001057\n",
              "2006-03-02  1318.000000  1322.599976  1310.400024  ...  0.003484 -0.005783 -0.001519\n",
              "...                 ...          ...          ...  ...       ...       ...       ...\n",
              "2021-02-12    41.459999    42.189999    41.189999  ...  0.017454 -0.006534 -0.001448\n",
              "2021-02-16    41.740002    42.630001    41.509998  ...  0.021098 -0.005526  0.009775\n",
              "2021-02-17    41.279999    43.360001    41.169998  ...  0.049159 -0.002668  0.047081\n",
              "2021-02-18    42.459999    43.000000    41.490002  ...  0.012638 -0.023110 -0.008277\n",
              "2021-02-19    42.500000    42.820000    42.080002  ...  0.007501 -0.009931  0.001881\n",
              "\n",
              "[3773 rows x 12 columns]"
            ]
          },
          "metadata": {
            "tags": []
          },
          "execution_count": 11
        }
      ]
    },
    {
      "cell_type": "code",
      "metadata": {
        "colab": {
          "base_uri": "https://localhost:8080/"
        },
        "id": "_Rx1PX1BIUIj",
        "outputId": "8c3f0b47-127c-4917-ea61-83e2df290b4e"
      },
      "source": [
        "X_full = AIG[[\"h\",\"l\",\"c\",\"log_ret\"]].values                     # note the [[]] here. Otherwise, reshape(...,1)\n",
        "X_full.shape ; N_I=100 # length of sequences input to LSTMs\n",
        "X_sample,y_sample = split_sequences_multivariate(X_full,N_I)   # for LSTMs\n",
        "y_sample = np.sign(y_sample)\n",
        "print(X_sample.shape)# we do have a 3d-object\n",
        "print(y_sample.shape)"
      ],
      "execution_count": null,
      "outputs": [
        {
          "output_type": "stream",
          "text": [
            "(3673, 100, 4)\n",
            "(3673,)\n"
          ],
          "name": "stdout"
        }
      ]
    },
    {
      "cell_type": "code",
      "metadata": {
        "id": "R4H-liNRbAa2"
      },
      "source": [
        "batch_size = 64 ## Taille de chaque batch sur lequel il optimise \n",
        "neurons_lstm = 100 ; ## Nombre de neurones par couche LSTM\n",
        "nb_epochs = 100 ## Nombre de fois ou on passe sur tout le dataset d entrainement\n",
        "T_in = batch_size*20 ## Le nombre de samples pris pour chaque entrainement. \n",
        "dT= 100 # Nombre de points entre deux etapes de calibration"
      ],
      "execution_count": null,
      "outputs": []
    },
    {
      "cell_type": "code",
      "metadata": {
        "id": "W0jnlX4MIa0b"
      },
      "source": [
        "# encode class values as integers\n",
        "encoder = LabelEncoder()\n",
        "encoder.fit(y_sample)\n",
        "encoded_Y = encoder.transform(y_sample)\n",
        "# convert integers to dummy variables (i.e. one hot encoded)\n",
        "dummy_y = np_utils.to_categorical(encoded_Y)\n",
        "one_hot_y_sample = dummy_y "
      ],
      "execution_count": null,
      "outputs": []
    },
    {
      "cell_type": "code",
      "metadata": {
        "colab": {
          "base_uri": "https://localhost:8080/",
          "height": 353,
          "referenced_widgets": [
            "37fbf8575a5143f6a1906f320b5b13a7",
            "cdb72b1718a049fd88210bd3a23bae40",
            "813539bb5ddb4cbd94a1acdc4a36f7ff",
            "bef4a3828b0e418295a675e1009e4c49",
            "723c4ae435164bbeae4a3080f907ff09",
            "18f825b4ea1b448087b0ae8a206875f8",
            "38b8b63b910e44fb8ab0300b729abe7c",
            "bb9fa31864914de7ac7439dd0823a561"
          ]
        },
        "id": "jlFa0VWUOlqH",
        "outputId": "6d3118e8-7fb6-4c45-a5a2-cda3982eb86e"
      },
      "source": [
        "LSTM_History = Global_LSTM(batch_size,T_in,dT,nb_epochs,neurons_lstm,X_sample,one_hot_y_sample,type = 'classification',shfle = False)"
      ],
      "execution_count": null,
      "outputs": [
        {
          "output_type": "stream",
          "text": [
            "/usr/local/lib/python3.7/dist-packages/ipykernel_launcher.py:9: TqdmDeprecationWarning: This function will be removed in tqdm==5.0.0\n",
            "Please use `tqdm.notebook.tqdm` instead of `tqdm.tqdm_notebook`\n",
            "  if __name__ == '__main__':\n"
          ],
          "name": "stderr"
        },
        {
          "output_type": "display_data",
          "data": {
            "application/vnd.jupyter.widget-view+json": {
              "model_id": "37fbf8575a5143f6a1906f320b5b13a7",
              "version_minor": 0,
              "version_major": 2
            },
            "text/plain": [
              "HBox(children=(FloatProgress(value=0.0, max=12.0), HTML(value='')))"
            ]
          },
          "metadata": {
            "tags": []
          }
        },
        {
          "output_type": "stream",
          "text": [
            "WARNING:tensorflow:11 out of the last 11 calls to <function Model.make_predict_function.<locals>.predict_function at 0x7f8c3c497a70> triggered tf.function retracing. Tracing is expensive and the excessive number of tracings could be due to (1) creating @tf.function repeatedly in a loop, (2) passing tensors with different shapes, (3) passing Python objects instead of tensors. For (1), please define your @tf.function outside of the loop. For (2), @tf.function has experimental_relax_shapes=True option that relaxes argument shapes that can avoid unnecessary retracing. For (3), please refer to https://www.tensorflow.org/guide/function#controlling_retracing and https://www.tensorflow.org/api_docs/python/tf/function for  more details.\n",
            "WARNING:tensorflow:11 out of the last 11 calls to <function Model.make_predict_function.<locals>.predict_function at 0x7f8cca415320> triggered tf.function retracing. Tracing is expensive and the excessive number of tracings could be due to (1) creating @tf.function repeatedly in a loop, (2) passing tensors with different shapes, (3) passing Python objects instead of tensors. For (1), please define your @tf.function outside of the loop. For (2), @tf.function has experimental_relax_shapes=True option that relaxes argument shapes that can avoid unnecessary retracing. For (3), please refer to https://www.tensorflow.org/guide/function#controlling_retracing and https://www.tensorflow.org/api_docs/python/tf/function for  more details.\n",
            "WARNING:tensorflow:11 out of the last 11 calls to <function Model.make_predict_function.<locals>.predict_function at 0x7f8c3c86ba70> triggered tf.function retracing. Tracing is expensive and the excessive number of tracings could be due to (1) creating @tf.function repeatedly in a loop, (2) passing tensors with different shapes, (3) passing Python objects instead of tensors. For (1), please define your @tf.function outside of the loop. For (2), @tf.function has experimental_relax_shapes=True option that relaxes argument shapes that can avoid unnecessary retracing. For (3), please refer to https://www.tensorflow.org/guide/function#controlling_retracing and https://www.tensorflow.org/api_docs/python/tf/function for  more details.\n",
            "WARNING:tensorflow:11 out of the last 11 calls to <function Model.make_predict_function.<locals>.predict_function at 0x7f8c4ca9ad40> triggered tf.function retracing. Tracing is expensive and the excessive number of tracings could be due to (1) creating @tf.function repeatedly in a loop, (2) passing tensors with different shapes, (3) passing Python objects instead of tensors. For (1), please define your @tf.function outside of the loop. For (2), @tf.function has experimental_relax_shapes=True option that relaxes argument shapes that can avoid unnecessary retracing. For (3), please refer to https://www.tensorflow.org/guide/function#controlling_retracing and https://www.tensorflow.org/api_docs/python/tf/function for  more details.\n",
            "WARNING:tensorflow:11 out of the last 11 calls to <function Model.make_predict_function.<locals>.predict_function at 0x7f8cca4b28c0> triggered tf.function retracing. Tracing is expensive and the excessive number of tracings could be due to (1) creating @tf.function repeatedly in a loop, (2) passing tensors with different shapes, (3) passing Python objects instead of tensors. For (1), please define your @tf.function outside of the loop. For (2), @tf.function has experimental_relax_shapes=True option that relaxes argument shapes that can avoid unnecessary retracing. For (3), please refer to https://www.tensorflow.org/guide/function#controlling_retracing and https://www.tensorflow.org/api_docs/python/tf/function for  more details.\n",
            "WARNING:tensorflow:11 out of the last 11 calls to <function Model.make_predict_function.<locals>.predict_function at 0x7f8d00465170> triggered tf.function retracing. Tracing is expensive and the excessive number of tracings could be due to (1) creating @tf.function repeatedly in a loop, (2) passing tensors with different shapes, (3) passing Python objects instead of tensors. For (1), please define your @tf.function outside of the loop. For (2), @tf.function has experimental_relax_shapes=True option that relaxes argument shapes that can avoid unnecessary retracing. For (3), please refer to https://www.tensorflow.org/guide/function#controlling_retracing and https://www.tensorflow.org/api_docs/python/tf/function for  more details.\n",
            "WARNING:tensorflow:11 out of the last 11 calls to <function Model.make_predict_function.<locals>.predict_function at 0x7f8c4c133050> triggered tf.function retracing. Tracing is expensive and the excessive number of tracings could be due to (1) creating @tf.function repeatedly in a loop, (2) passing tensors with different shapes, (3) passing Python objects instead of tensors. For (1), please define your @tf.function outside of the loop. For (2), @tf.function has experimental_relax_shapes=True option that relaxes argument shapes that can avoid unnecessary retracing. For (3), please refer to https://www.tensorflow.org/guide/function#controlling_retracing and https://www.tensorflow.org/api_docs/python/tf/function for  more details.\n",
            "WARNING:tensorflow:11 out of the last 11 calls to <function Model.make_predict_function.<locals>.predict_function at 0x7f8d001d6440> triggered tf.function retracing. Tracing is expensive and the excessive number of tracings could be due to (1) creating @tf.function repeatedly in a loop, (2) passing tensors with different shapes, (3) passing Python objects instead of tensors. For (1), please define your @tf.function outside of the loop. For (2), @tf.function has experimental_relax_shapes=True option that relaxes argument shapes that can avoid unnecessary retracing. For (3), please refer to https://www.tensorflow.org/guide/function#controlling_retracing and https://www.tensorflow.org/api_docs/python/tf/function for  more details.\n",
            "WARNING:tensorflow:11 out of the last 11 calls to <function Model.make_predict_function.<locals>.predict_function at 0x7f8d1867e950> triggered tf.function retracing. Tracing is expensive and the excessive number of tracings could be due to (1) creating @tf.function repeatedly in a loop, (2) passing tensors with different shapes, (3) passing Python objects instead of tensors. For (1), please define your @tf.function outside of the loop. For (2), @tf.function has experimental_relax_shapes=True option that relaxes argument shapes that can avoid unnecessary retracing. For (3), please refer to https://www.tensorflow.org/guide/function#controlling_retracing and https://www.tensorflow.org/api_docs/python/tf/function for  more details.\n",
            "WARNING:tensorflow:11 out of the last 11 calls to <function Model.make_predict_function.<locals>.predict_function at 0x7f8c3dfcde60> triggered tf.function retracing. Tracing is expensive and the excessive number of tracings could be due to (1) creating @tf.function repeatedly in a loop, (2) passing tensors with different shapes, (3) passing Python objects instead of tensors. For (1), please define your @tf.function outside of the loop. For (2), @tf.function has experimental_relax_shapes=True option that relaxes argument shapes that can avoid unnecessary retracing. For (3), please refer to https://www.tensorflow.org/guide/function#controlling_retracing and https://www.tensorflow.org/api_docs/python/tf/function for  more details.\n",
            "WARNING:tensorflow:11 out of the last 11 calls to <function Model.make_predict_function.<locals>.predict_function at 0x7f8cca4aecb0> triggered tf.function retracing. Tracing is expensive and the excessive number of tracings could be due to (1) creating @tf.function repeatedly in a loop, (2) passing tensors with different shapes, (3) passing Python objects instead of tensors. For (1), please define your @tf.function outside of the loop. For (2), @tf.function has experimental_relax_shapes=True option that relaxes argument shapes that can avoid unnecessary retracing. For (3), please refer to https://www.tensorflow.org/guide/function#controlling_retracing and https://www.tensorflow.org/api_docs/python/tf/function for  more details.\n",
            "WARNING:tensorflow:11 out of the last 11 calls to <function Model.make_predict_function.<locals>.predict_function at 0x7f8d17e29170> triggered tf.function retracing. Tracing is expensive and the excessive number of tracings could be due to (1) creating @tf.function repeatedly in a loop, (2) passing tensors with different shapes, (3) passing Python objects instead of tensors. For (1), please define your @tf.function outside of the loop. For (2), @tf.function has experimental_relax_shapes=True option that relaxes argument shapes that can avoid unnecessary retracing. For (3), please refer to https://www.tensorflow.org/guide/function#controlling_retracing and https://www.tensorflow.org/api_docs/python/tf/function for  more details.\n",
            "\n"
          ],
          "name": "stdout"
        }
      ]
    },
    {
      "cell_type": "code",
      "metadata": {
        "id": "VazvVzJObRti"
      },
      "source": [
        "y_pred = LSTM_History[1:,:] ## On prend pas la 1 ere ligne car sert juste à l'init ; elle n'a aucun sens\n",
        "y_pred = np.argmax(y_pred,axis=1) ## On prend la classe pour laquelle la proba est maximale "
      ],
      "execution_count": null,
      "outputs": []
    },
    {
      "cell_type": "code",
      "metadata": {
        "colab": {
          "base_uri": "https://localhost:8080/",
          "height": 406
        },
        "id": "xyhBygyJbMA5",
        "outputId": "435fe289-81c3-40c0-9204-a0b25a995bb6"
      },
      "source": [
        "seq = np.arange(T_in,X_sample.shape[0]-T_in,dT) ; y_true = encoded_Y[N_I + seq[0]:seq[-1]+N_I+dT]\n",
        "resultsII = pd.DataFrame(data = { 'labels' : y_true , 'pred' : y_pred})\n",
        "resultsII"
      ],
      "execution_count": null,
      "outputs": [
        {
          "output_type": "execute_result",
          "data": {
            "text/html": [
              "<div>\n",
              "<style scoped>\n",
              "    .dataframe tbody tr th:only-of-type {\n",
              "        vertical-align: middle;\n",
              "    }\n",
              "\n",
              "    .dataframe tbody tr th {\n",
              "        vertical-align: top;\n",
              "    }\n",
              "\n",
              "    .dataframe thead th {\n",
              "        text-align: right;\n",
              "    }\n",
              "</style>\n",
              "<table border=\"1\" class=\"dataframe\">\n",
              "  <thead>\n",
              "    <tr style=\"text-align: right;\">\n",
              "      <th></th>\n",
              "      <th>labels</th>\n",
              "      <th>pred</th>\n",
              "    </tr>\n",
              "  </thead>\n",
              "  <tbody>\n",
              "    <tr>\n",
              "      <th>0</th>\n",
              "      <td>0</td>\n",
              "      <td>2</td>\n",
              "    </tr>\n",
              "    <tr>\n",
              "      <th>1</th>\n",
              "      <td>0</td>\n",
              "      <td>2</td>\n",
              "    </tr>\n",
              "    <tr>\n",
              "      <th>2</th>\n",
              "      <td>0</td>\n",
              "      <td>2</td>\n",
              "    </tr>\n",
              "    <tr>\n",
              "      <th>3</th>\n",
              "      <td>2</td>\n",
              "      <td>2</td>\n",
              "    </tr>\n",
              "    <tr>\n",
              "      <th>4</th>\n",
              "      <td>2</td>\n",
              "      <td>2</td>\n",
              "    </tr>\n",
              "    <tr>\n",
              "      <th>...</th>\n",
              "      <td>...</td>\n",
              "      <td>...</td>\n",
              "    </tr>\n",
              "    <tr>\n",
              "      <th>1195</th>\n",
              "      <td>0</td>\n",
              "      <td>0</td>\n",
              "    </tr>\n",
              "    <tr>\n",
              "      <th>1196</th>\n",
              "      <td>2</td>\n",
              "      <td>0</td>\n",
              "    </tr>\n",
              "    <tr>\n",
              "      <th>1197</th>\n",
              "      <td>0</td>\n",
              "      <td>0</td>\n",
              "    </tr>\n",
              "    <tr>\n",
              "      <th>1198</th>\n",
              "      <td>2</td>\n",
              "      <td>0</td>\n",
              "    </tr>\n",
              "    <tr>\n",
              "      <th>1199</th>\n",
              "      <td>0</td>\n",
              "      <td>0</td>\n",
              "    </tr>\n",
              "  </tbody>\n",
              "</table>\n",
              "<p>1200 rows × 2 columns</p>\n",
              "</div>"
            ],
            "text/plain": [
              "      labels  pred\n",
              "0          0     2\n",
              "1          0     2\n",
              "2          0     2\n",
              "3          2     2\n",
              "4          2     2\n",
              "...      ...   ...\n",
              "1195       0     0\n",
              "1196       2     0\n",
              "1197       0     0\n",
              "1198       2     0\n",
              "1199       0     0\n",
              "\n",
              "[1200 rows x 2 columns]"
            ]
          },
          "metadata": {
            "tags": []
          },
          "execution_count": 24
        }
      ]
    },
    {
      "cell_type": "code",
      "metadata": {
        "colab": {
          "base_uri": "https://localhost:8080/"
        },
        "id": "E3Hu94nPbL8V",
        "outputId": "a024aebf-6874-4b8a-92f4-6dce52da4173"
      },
      "source": [
        "from sklearn.metrics import confusion_matrix\n",
        "matrix_conf = confusion_matrix(resultsII.labels,resultsII.pred)\n",
        "AccII = (matrix_conf[0,0] + matrix_conf[1,1])/resultsII.shape[0]\n",
        "print(f\"Accuracy : {(matrix_conf[0,0] + matrix_conf[1,1])/resultsII.shape[0]}\")"
      ],
      "execution_count": null,
      "outputs": [
        {
          "output_type": "stream",
          "text": [
            "Accuracy : 0.21916666666666668\n"
          ],
          "name": "stdout"
        }
      ]
    },
    {
      "cell_type": "markdown",
      "metadata": {
        "id": "IFz-RnYy8AVn"
      },
      "source": [
        "> Il apparait que la classification est de trés mauvaise qualitée aussi dans ce cas.L'utilisation des signes de logret  et des ratios introduits pour prédire les signes des logrets rendements futurs ne sont pas de bons prédicteurs.\n",
        "\n",
        "On observe le même phénoméne que précédement avec des résultats trés instables.\n"
      ]
    },
    {
      "cell_type": "markdown",
      "metadata": {
        "id": "ZJqmi0ESIbJ2"
      },
      "source": [
        "## 3 : Rendements, OHLC et volume"
      ]
    },
    {
      "cell_type": "markdown",
      "metadata": {
        "id": "dmN3rSe-8ppn"
      },
      "source": [
        "- Nous  ajoutons maintenant log-volume."
      ]
    },
    {
      "cell_type": "code",
      "metadata": {
        "id": "ngexksEYIeMH"
      },
      "source": [
        "AIG[\"log_volume\"] = np.log(AIG.Volume)"
      ],
      "execution_count": null,
      "outputs": []
    },
    {
      "cell_type": "code",
      "metadata": {
        "colab": {
          "base_uri": "https://localhost:8080/"
        },
        "id": "5Z-j5-mGIe-H",
        "outputId": "138a6d3f-ecbf-4881-da71-180954452cff"
      },
      "source": [
        "X_full = AIG[[\"h\",\"l\",\"c\",\"log_volume\",\"log_ret\"]].values                     # note the [[]] here. Otherwise, reshape(...,1)\n",
        "X_full.shape ; N_I=100 # length of sequences input to LSTMs\n",
        "X_sample,y_sample = split_sequences_multivariate(X_full,N_I)   # for LSTMs\n",
        "y_sample = np.sign(y_sample)\n",
        "print(X_sample.shape)# we do have a 3d-object\n",
        "print(y_sample.shape)"
      ],
      "execution_count": null,
      "outputs": [
        {
          "output_type": "stream",
          "text": [
            "(3673, 100, 5)\n",
            "(3673,)\n"
          ],
          "name": "stdout"
        }
      ]
    },
    {
      "cell_type": "code",
      "metadata": {
        "id": "vPAF5HTgcm9Z"
      },
      "source": [
        "batch_size = 64 ## Taille de chaque batch sur lequel il optimise \n",
        "neurons_lstm = 100 ; ## Nombre de neurones par couche LSTM\n",
        "nb_epochs = 100 ## Nombre de fois ou on passe sur tout le dataset d entrainement\n",
        "T_in = batch_size*20 ## Le nombre de samples pris pour chaque entrainement. \n",
        "dT= 100 # Nombre de points entre deux etapes de calibration"
      ],
      "execution_count": null,
      "outputs": []
    },
    {
      "cell_type": "code",
      "metadata": {
        "id": "iHaBTZm8LhN0"
      },
      "source": [
        "# encode class values as integers\n",
        "encoder = LabelEncoder()\n",
        "encoder.fit(y_sample)\n",
        "encoded_Y = encoder.transform(y_sample)\n",
        "# convert integers to dummy variables (i.e. one hot encoded)\n",
        "dummy_y = np_utils.to_categorical(encoded_Y)\n",
        "one_hot_y_sample = dummy_y "
      ],
      "execution_count": null,
      "outputs": []
    },
    {
      "cell_type": "code",
      "metadata": {
        "colab": {
          "base_uri": "https://localhost:8080/",
          "height": 353,
          "referenced_widgets": [
            "0433eec95ee84f9d8dedd15411fd0d86",
            "083bb9552b614bcd9cc7808071a3daf8",
            "80d533be55af44b594f8b3c3168905a6",
            "f5dca6ad508d4285b7ec04286cda1a3f",
            "1da8173a8640474594a8a7d5e879613c",
            "ed86a8d6fcc046ce91df5327ce393519",
            "50c29380c0f24a12aecf46c0233d436d",
            "8d3ba46727f24d51a53f4f0e488e9950"
          ]
        },
        "id": "E-fpG25EOp5G",
        "outputId": "513cb065-6a73-4ab4-dabc-ca903ecf0034"
      },
      "source": [
        "LSTM_History = Global_LSTM(batch_size,T_in,dT,nb_epochs,neurons_lstm,X_sample,one_hot_y_sample,type = 'classification',shfle = False)"
      ],
      "execution_count": null,
      "outputs": [
        {
          "output_type": "stream",
          "text": [
            "/usr/local/lib/python3.7/dist-packages/ipykernel_launcher.py:9: TqdmDeprecationWarning: This function will be removed in tqdm==5.0.0\n",
            "Please use `tqdm.notebook.tqdm` instead of `tqdm.tqdm_notebook`\n",
            "  if __name__ == '__main__':\n"
          ],
          "name": "stderr"
        },
        {
          "output_type": "display_data",
          "data": {
            "application/vnd.jupyter.widget-view+json": {
              "model_id": "0433eec95ee84f9d8dedd15411fd0d86",
              "version_minor": 0,
              "version_major": 2
            },
            "text/plain": [
              "HBox(children=(FloatProgress(value=0.0, max=12.0), HTML(value='')))"
            ]
          },
          "metadata": {
            "tags": []
          }
        },
        {
          "output_type": "stream",
          "text": [
            "WARNING:tensorflow:11 out of the last 11 calls to <function Model.make_predict_function.<locals>.predict_function at 0x7f8c3c4b5560> triggered tf.function retracing. Tracing is expensive and the excessive number of tracings could be due to (1) creating @tf.function repeatedly in a loop, (2) passing tensors with different shapes, (3) passing Python objects instead of tensors. For (1), please define your @tf.function outside of the loop. For (2), @tf.function has experimental_relax_shapes=True option that relaxes argument shapes that can avoid unnecessary retracing. For (3), please refer to https://www.tensorflow.org/guide/function#controlling_retracing and https://www.tensorflow.org/api_docs/python/tf/function for  more details.\n",
            "WARNING:tensorflow:11 out of the last 11 calls to <function Model.make_predict_function.<locals>.predict_function at 0x7f8cca2413b0> triggered tf.function retracing. Tracing is expensive and the excessive number of tracings could be due to (1) creating @tf.function repeatedly in a loop, (2) passing tensors with different shapes, (3) passing Python objects instead of tensors. For (1), please define your @tf.function outside of the loop. For (2), @tf.function has experimental_relax_shapes=True option that relaxes argument shapes that can avoid unnecessary retracing. For (3), please refer to https://www.tensorflow.org/guide/function#controlling_retracing and https://www.tensorflow.org/api_docs/python/tf/function for  more details.\n",
            "WARNING:tensorflow:11 out of the last 11 calls to <function Model.make_predict_function.<locals>.predict_function at 0x7f8d1867ef80> triggered tf.function retracing. Tracing is expensive and the excessive number of tracings could be due to (1) creating @tf.function repeatedly in a loop, (2) passing tensors with different shapes, (3) passing Python objects instead of tensors. For (1), please define your @tf.function outside of the loop. For (2), @tf.function has experimental_relax_shapes=True option that relaxes argument shapes that can avoid unnecessary retracing. For (3), please refer to https://www.tensorflow.org/guide/function#controlling_retracing and https://www.tensorflow.org/api_docs/python/tf/function for  more details.\n",
            "WARNING:tensorflow:11 out of the last 11 calls to <function Model.make_predict_function.<locals>.predict_function at 0x7f8c3baf8ef0> triggered tf.function retracing. Tracing is expensive and the excessive number of tracings could be due to (1) creating @tf.function repeatedly in a loop, (2) passing tensors with different shapes, (3) passing Python objects instead of tensors. For (1), please define your @tf.function outside of the loop. For (2), @tf.function has experimental_relax_shapes=True option that relaxes argument shapes that can avoid unnecessary retracing. For (3), please refer to https://www.tensorflow.org/guide/function#controlling_retracing and https://www.tensorflow.org/api_docs/python/tf/function for  more details.\n",
            "WARNING:tensorflow:11 out of the last 11 calls to <function Model.make_predict_function.<locals>.predict_function at 0x7f8c3ba89b90> triggered tf.function retracing. Tracing is expensive and the excessive number of tracings could be due to (1) creating @tf.function repeatedly in a loop, (2) passing tensors with different shapes, (3) passing Python objects instead of tensors. For (1), please define your @tf.function outside of the loop. For (2), @tf.function has experimental_relax_shapes=True option that relaxes argument shapes that can avoid unnecessary retracing. For (3), please refer to https://www.tensorflow.org/guide/function#controlling_retracing and https://www.tensorflow.org/api_docs/python/tf/function for  more details.\n",
            "WARNING:tensorflow:11 out of the last 11 calls to <function Model.make_predict_function.<locals>.predict_function at 0x7f8cca3ab9e0> triggered tf.function retracing. Tracing is expensive and the excessive number of tracings could be due to (1) creating @tf.function repeatedly in a loop, (2) passing tensors with different shapes, (3) passing Python objects instead of tensors. For (1), please define your @tf.function outside of the loop. For (2), @tf.function has experimental_relax_shapes=True option that relaxes argument shapes that can avoid unnecessary retracing. For (3), please refer to https://www.tensorflow.org/guide/function#controlling_retracing and https://www.tensorflow.org/api_docs/python/tf/function for  more details.\n",
            "WARNING:tensorflow:11 out of the last 11 calls to <function Model.make_predict_function.<locals>.predict_function at 0x7f8c3c7ca200> triggered tf.function retracing. Tracing is expensive and the excessive number of tracings could be due to (1) creating @tf.function repeatedly in a loop, (2) passing tensors with different shapes, (3) passing Python objects instead of tensors. For (1), please define your @tf.function outside of the loop. For (2), @tf.function has experimental_relax_shapes=True option that relaxes argument shapes that can avoid unnecessary retracing. For (3), please refer to https://www.tensorflow.org/guide/function#controlling_retracing and https://www.tensorflow.org/api_docs/python/tf/function for  more details.\n",
            "WARNING:tensorflow:11 out of the last 11 calls to <function Model.make_predict_function.<locals>.predict_function at 0x7f8c3d736d40> triggered tf.function retracing. Tracing is expensive and the excessive number of tracings could be due to (1) creating @tf.function repeatedly in a loop, (2) passing tensors with different shapes, (3) passing Python objects instead of tensors. For (1), please define your @tf.function outside of the loop. For (2), @tf.function has experimental_relax_shapes=True option that relaxes argument shapes that can avoid unnecessary retracing. For (3), please refer to https://www.tensorflow.org/guide/function#controlling_retracing and https://www.tensorflow.org/api_docs/python/tf/function for  more details.\n",
            "WARNING:tensorflow:11 out of the last 11 calls to <function Model.make_predict_function.<locals>.predict_function at 0x7f8cca22eb90> triggered tf.function retracing. Tracing is expensive and the excessive number of tracings could be due to (1) creating @tf.function repeatedly in a loop, (2) passing tensors with different shapes, (3) passing Python objects instead of tensors. For (1), please define your @tf.function outside of the loop. For (2), @tf.function has experimental_relax_shapes=True option that relaxes argument shapes that can avoid unnecessary retracing. For (3), please refer to https://www.tensorflow.org/guide/function#controlling_retracing and https://www.tensorflow.org/api_docs/python/tf/function for  more details.\n",
            "WARNING:tensorflow:11 out of the last 11 calls to <function Model.make_predict_function.<locals>.predict_function at 0x7f8c3c4b58c0> triggered tf.function retracing. Tracing is expensive and the excessive number of tracings could be due to (1) creating @tf.function repeatedly in a loop, (2) passing tensors with different shapes, (3) passing Python objects instead of tensors. For (1), please define your @tf.function outside of the loop. For (2), @tf.function has experimental_relax_shapes=True option that relaxes argument shapes that can avoid unnecessary retracing. For (3), please refer to https://www.tensorflow.org/guide/function#controlling_retracing and https://www.tensorflow.org/api_docs/python/tf/function for  more details.\n",
            "WARNING:tensorflow:11 out of the last 11 calls to <function Model.make_predict_function.<locals>.predict_function at 0x7f8c3c54d8c0> triggered tf.function retracing. Tracing is expensive and the excessive number of tracings could be due to (1) creating @tf.function repeatedly in a loop, (2) passing tensors with different shapes, (3) passing Python objects instead of tensors. For (1), please define your @tf.function outside of the loop. For (2), @tf.function has experimental_relax_shapes=True option that relaxes argument shapes that can avoid unnecessary retracing. For (3), please refer to https://www.tensorflow.org/guide/function#controlling_retracing and https://www.tensorflow.org/api_docs/python/tf/function for  more details.\n",
            "WARNING:tensorflow:11 out of the last 11 calls to <function Model.make_predict_function.<locals>.predict_function at 0x7f8cca3b10e0> triggered tf.function retracing. Tracing is expensive and the excessive number of tracings could be due to (1) creating @tf.function repeatedly in a loop, (2) passing tensors with different shapes, (3) passing Python objects instead of tensors. For (1), please define your @tf.function outside of the loop. For (2), @tf.function has experimental_relax_shapes=True option that relaxes argument shapes that can avoid unnecessary retracing. For (3), please refer to https://www.tensorflow.org/guide/function#controlling_retracing and https://www.tensorflow.org/api_docs/python/tf/function for  more details.\n",
            "\n"
          ],
          "name": "stdout"
        }
      ]
    },
    {
      "cell_type": "code",
      "metadata": {
        "colab": {
          "base_uri": "https://localhost:8080/",
          "height": 406
        },
        "id": "Y5ZcfSIqcu1k",
        "outputId": "a1d8f880-5193-48a5-e0eb-ff106775d8c5"
      },
      "source": [
        "y_pred = LSTM_History[1:,:] ## On prend pas la 1 ere ligne car sert juste à l'init ; elle n'a aucun sens\n",
        "y_pred = np.argmax(y_pred,axis=1) ## On prend la classe pour laquelle la proba est maximale \n",
        "seq = np.arange(T_in,X_sample.shape[0]-T_in,dT) ; y_true = encoded_Y[N_I + seq[0]:seq[-1]+N_I+dT]\n",
        "resultsIII = pd.DataFrame(data = { 'labels' : y_true , 'pred' : y_pred})\n",
        "resultsIII"
      ],
      "execution_count": null,
      "outputs": [
        {
          "output_type": "execute_result",
          "data": {
            "text/html": [
              "<div>\n",
              "<style scoped>\n",
              "    .dataframe tbody tr th:only-of-type {\n",
              "        vertical-align: middle;\n",
              "    }\n",
              "\n",
              "    .dataframe tbody tr th {\n",
              "        vertical-align: top;\n",
              "    }\n",
              "\n",
              "    .dataframe thead th {\n",
              "        text-align: right;\n",
              "    }\n",
              "</style>\n",
              "<table border=\"1\" class=\"dataframe\">\n",
              "  <thead>\n",
              "    <tr style=\"text-align: right;\">\n",
              "      <th></th>\n",
              "      <th>labels</th>\n",
              "      <th>pred</th>\n",
              "    </tr>\n",
              "  </thead>\n",
              "  <tbody>\n",
              "    <tr>\n",
              "      <th>0</th>\n",
              "      <td>0</td>\n",
              "      <td>2</td>\n",
              "    </tr>\n",
              "    <tr>\n",
              "      <th>1</th>\n",
              "      <td>0</td>\n",
              "      <td>2</td>\n",
              "    </tr>\n",
              "    <tr>\n",
              "      <th>2</th>\n",
              "      <td>0</td>\n",
              "      <td>2</td>\n",
              "    </tr>\n",
              "    <tr>\n",
              "      <th>3</th>\n",
              "      <td>2</td>\n",
              "      <td>2</td>\n",
              "    </tr>\n",
              "    <tr>\n",
              "      <th>4</th>\n",
              "      <td>2</td>\n",
              "      <td>2</td>\n",
              "    </tr>\n",
              "    <tr>\n",
              "      <th>...</th>\n",
              "      <td>...</td>\n",
              "      <td>...</td>\n",
              "    </tr>\n",
              "    <tr>\n",
              "      <th>1195</th>\n",
              "      <td>0</td>\n",
              "      <td>2</td>\n",
              "    </tr>\n",
              "    <tr>\n",
              "      <th>1196</th>\n",
              "      <td>2</td>\n",
              "      <td>2</td>\n",
              "    </tr>\n",
              "    <tr>\n",
              "      <th>1197</th>\n",
              "      <td>0</td>\n",
              "      <td>0</td>\n",
              "    </tr>\n",
              "    <tr>\n",
              "      <th>1198</th>\n",
              "      <td>2</td>\n",
              "      <td>2</td>\n",
              "    </tr>\n",
              "    <tr>\n",
              "      <th>1199</th>\n",
              "      <td>0</td>\n",
              "      <td>0</td>\n",
              "    </tr>\n",
              "  </tbody>\n",
              "</table>\n",
              "<p>1200 rows × 2 columns</p>\n",
              "</div>"
            ],
            "text/plain": [
              "      labels  pred\n",
              "0          0     2\n",
              "1          0     2\n",
              "2          0     2\n",
              "3          2     2\n",
              "4          2     2\n",
              "...      ...   ...\n",
              "1195       0     2\n",
              "1196       2     2\n",
              "1197       0     0\n",
              "1198       2     2\n",
              "1199       0     0\n",
              "\n",
              "[1200 rows x 2 columns]"
            ]
          },
          "metadata": {
            "tags": []
          },
          "execution_count": 31
        }
      ]
    },
    {
      "cell_type": "code",
      "metadata": {
        "colab": {
          "base_uri": "https://localhost:8080/"
        },
        "id": "A8sWXqTjc32y",
        "outputId": "82d319d4-8660-49f7-a4e2-cb7b89c26295"
      },
      "source": [
        "from sklearn.metrics import confusion_matrix\n",
        "matrix_conf = confusion_matrix(resultsIII.labels,resultsIII.pred)\n",
        "AccIII = (matrix_conf[0,0] + matrix_conf[1,1])/resultsIII.shape[0]\n",
        "print(f\"Accuracy : {(matrix_conf[0,0] + matrix_conf[1,1])/resultsIII.shape[0]}\")"
      ],
      "execution_count": null,
      "outputs": [
        {
          "output_type": "stream",
          "text": [
            "Accuracy : 0.20333333333333334\n"
          ],
          "name": "stdout"
        }
      ]
    },
    {
      "cell_type": "markdown",
      "metadata": {
        "id": "YWiSZ7zI9AAt"
      },
      "source": [
        "> Il apparait que la classification est de trés mauvaise qualitée aussi dans ce cas.L'utilisation des signes de logret  et des ratios introduits pour prédire les signes des logrets rendements futurs ne sont pas de bons prédicteurs.\n",
        "\n",
        "On observe le même phénoméne que précédement avec des résultats trés instables."
      ]
    },
    {
      "cell_type": "markdown",
      "metadata": {
        "id": "EKSrFeG1Lhj1"
      },
      "source": [
        "## 4 : Comparaison des Performances"
      ]
    },
    {
      "cell_type": "markdown",
      "metadata": {
        "id": "g2zCccu1kPGG"
      },
      "source": [
        "> Aucun des prédicteurs utilisés ne semble satisfaisant.En effet nous obtenons des accuracy trés faibles à chaque fois.Neamoins le fait d'avoir utilisé cette methode sur un seul titre de donne aucune indication sur les perfromances qu'elle peut avoir sur d'autres titres.\n",
        "\n",
        "Dans la questions suivante , nous allons chercher à détérminer si la pérformance est aussi faible pour d'autres titres que AIG.\n",
        "\n",
        "Nous allons pour cela appliquer le LSTM poour les titres Exxon, Colgate Palmolive et Amazon. "
      ]
    },
    {
      "cell_type": "markdown",
      "metadata": {
        "id": "dWeL8s-_fbFr"
      },
      "source": [
        "#### Exxon :"
      ]
    },
    {
      "cell_type": "code",
      "metadata": {
        "colab": {
          "base_uri": "https://localhost:8080/",
          "height": 227
        },
        "id": "3qyx-Ovirjur",
        "outputId": "c0085f32-3867-465e-b469-71060b8411f3"
      },
      "source": [
        "Exxon.head()"
      ],
      "execution_count": null,
      "outputs": [
        {
          "output_type": "execute_result",
          "data": {
            "text/html": [
              "<div>\n",
              "<style scoped>\n",
              "    .dataframe tbody tr th:only-of-type {\n",
              "        vertical-align: middle;\n",
              "    }\n",
              "\n",
              "    .dataframe tbody tr th {\n",
              "        vertical-align: top;\n",
              "    }\n",
              "\n",
              "    .dataframe thead th {\n",
              "        text-align: right;\n",
              "    }\n",
              "</style>\n",
              "<table border=\"1\" class=\"dataframe\">\n",
              "  <thead>\n",
              "    <tr style=\"text-align: right;\">\n",
              "      <th></th>\n",
              "      <th>Open</th>\n",
              "      <th>High</th>\n",
              "      <th>Low</th>\n",
              "      <th>Close</th>\n",
              "      <th>Volume</th>\n",
              "      <th>Adjusted</th>\n",
              "      <th>ticker</th>\n",
              "    </tr>\n",
              "    <tr>\n",
              "      <th>index</th>\n",
              "      <th></th>\n",
              "      <th></th>\n",
              "      <th></th>\n",
              "      <th></th>\n",
              "      <th></th>\n",
              "      <th></th>\n",
              "      <th></th>\n",
              "    </tr>\n",
              "  </thead>\n",
              "  <tbody>\n",
              "    <tr>\n",
              "      <th>2006-02-23</th>\n",
              "      <td>60.009998</td>\n",
              "      <td>60.540001</td>\n",
              "      <td>59.630001</td>\n",
              "      <td>59.830002</td>\n",
              "      <td>17732100</td>\n",
              "      <td>36.661789</td>\n",
              "      <td>XOM</td>\n",
              "    </tr>\n",
              "    <tr>\n",
              "      <th>2006-02-24</th>\n",
              "      <td>60.340000</td>\n",
              "      <td>60.730000</td>\n",
              "      <td>60.180000</td>\n",
              "      <td>60.419998</td>\n",
              "      <td>13178800</td>\n",
              "      <td>37.023319</td>\n",
              "      <td>XOM</td>\n",
              "    </tr>\n",
              "    <tr>\n",
              "      <th>2006-02-27</th>\n",
              "      <td>60.200001</td>\n",
              "      <td>60.520000</td>\n",
              "      <td>59.900002</td>\n",
              "      <td>59.919998</td>\n",
              "      <td>12549500</td>\n",
              "      <td>36.716923</td>\n",
              "      <td>XOM</td>\n",
              "    </tr>\n",
              "    <tr>\n",
              "      <th>2006-02-28</th>\n",
              "      <td>59.520000</td>\n",
              "      <td>59.750000</td>\n",
              "      <td>59.099998</td>\n",
              "      <td>59.369999</td>\n",
              "      <td>19191800</td>\n",
              "      <td>36.379906</td>\n",
              "      <td>XOM</td>\n",
              "    </tr>\n",
              "    <tr>\n",
              "      <th>2006-03-01</th>\n",
              "      <td>59.590000</td>\n",
              "      <td>60.540001</td>\n",
              "      <td>59.529999</td>\n",
              "      <td>60.340000</td>\n",
              "      <td>16335400</td>\n",
              "      <td>36.974297</td>\n",
              "      <td>XOM</td>\n",
              "    </tr>\n",
              "  </tbody>\n",
              "</table>\n",
              "</div>"
            ],
            "text/plain": [
              "                 Open       High        Low  ...    Volume   Adjusted  ticker\n",
              "index                                        ...                             \n",
              "2006-02-23  60.009998  60.540001  59.630001  ...  17732100  36.661789     XOM\n",
              "2006-02-24  60.340000  60.730000  60.180000  ...  13178800  37.023319     XOM\n",
              "2006-02-27  60.200001  60.520000  59.900002  ...  12549500  36.716923     XOM\n",
              "2006-02-28  59.520000  59.750000  59.099998  ...  19191800  36.379906     XOM\n",
              "2006-03-01  59.590000  60.540001  59.529999  ...  16335400  36.974297     XOM\n",
              "\n",
              "[5 rows x 7 columns]"
            ]
          },
          "metadata": {
            "tags": []
          },
          "execution_count": 13
        }
      ]
    },
    {
      "cell_type": "code",
      "metadata": {
        "id": "8CxWdjC5rl9H"
      },
      "source": [
        "Exxon[\"log_ret\"] = np.log(Exxon.Adjusted.shift(1))-np.log(Exxon.Adjusted) ; Exxon = Exxon.dropna()\n",
        "Exxon[\"ret_sign\"] = np.sign(Exxon.log_ret)\n",
        "Exxon[\"h\"] = np.log(Exxon.High/Exxon.Open) ; Exxon[\"l\"] = np.log(Exxon.Low/Exxon.Open) ; Exxon[\"c\"] = np.log(Exxon.Close/Exxon.Open) ; \n",
        "Exxon[\"log_volume\"] = np.log(Exxon.Volume)"
      ],
      "execution_count": null,
      "outputs": []
    },
    {
      "cell_type": "code",
      "metadata": {
        "colab": {
          "base_uri": "https://localhost:8080/"
        },
        "id": "6gR3lKe2r5pn",
        "outputId": "f43ca59a-c0d5-4c82-f092-10fb183681d5"
      },
      "source": [
        "X_full = Exxon[[\"h\",\"l\",\"c\",\"log_volume\",\"log_ret\"]].values                     # note the [[]] here. Otherwise, reshape(...,1)\n",
        "X_full.shape ; N_I=100 # length of sequences input to LSTMs\n",
        "X_sample,y_sample = split_sequences_multivariate(X_full,N_I)   # for LSTMs\n",
        "y_sample = np.sign(y_sample)\n",
        "print(X_sample.shape)# we do have a 3d-object\n",
        "print(y_sample.shape)"
      ],
      "execution_count": null,
      "outputs": [
        {
          "output_type": "stream",
          "text": [
            "(3671, 100, 5)\n",
            "(3671,)\n"
          ],
          "name": "stdout"
        }
      ]
    },
    {
      "cell_type": "code",
      "metadata": {
        "id": "xfgBK_eqsML-"
      },
      "source": [
        "# encode class values as integers\n",
        "encoder = LabelEncoder()\n",
        "encoder.fit(y_sample)\n",
        "encoded_Y = encoder.transform(y_sample)\n",
        "# convert integers to dummy variables (i.e. one hot encoded)\n",
        "dummy_y = np_utils.to_categorical(encoded_Y)\n",
        "one_hot_y_sample = dummy_y "
      ],
      "execution_count": null,
      "outputs": []
    },
    {
      "cell_type": "code",
      "metadata": {
        "colab": {
          "base_uri": "https://localhost:8080/",
          "height": 353,
          "referenced_widgets": [
            "df2c9853ba344434a4f95c01c68da962",
            "be74cae7bd3e4881a61e74155c2d53d9",
            "b9df6ca48869437b89116b96f43c493e",
            "371a154a808b439bbe2605de29f7a311",
            "85917a4771cb4113bff1d212a4e7c4fa",
            "dbb81b7a6e784dd093c566c4d2b11804",
            "6b2e9f9b95a546548347da6b1ccdf2c8",
            "8ac5f9b8a9d44733bf7c6ba48c380bbd"
          ]
        },
        "id": "Z7eGVXOgeTAd",
        "outputId": "447536a1-60be-4813-8b7f-9c6256cd3636"
      },
      "source": [
        "LSTM_History = Global_LSTM(batch_size,T_in,dT,nb_epochs,neurons_lstm,X_sample,one_hot_y_sample,type = 'classification',shfle = False)"
      ],
      "execution_count": null,
      "outputs": [
        {
          "output_type": "stream",
          "text": [
            "/usr/local/lib/python3.7/dist-packages/ipykernel_launcher.py:9: TqdmDeprecationWarning: This function will be removed in tqdm==5.0.0\n",
            "Please use `tqdm.notebook.tqdm` instead of `tqdm.tqdm_notebook`\n",
            "  if __name__ == '__main__':\n"
          ],
          "name": "stderr"
        },
        {
          "output_type": "display_data",
          "data": {
            "application/vnd.jupyter.widget-view+json": {
              "model_id": "df2c9853ba344434a4f95c01c68da962",
              "version_minor": 0,
              "version_major": 2
            },
            "text/plain": [
              "HBox(children=(FloatProgress(value=0.0, max=12.0), HTML(value='')))"
            ]
          },
          "metadata": {
            "tags": []
          }
        },
        {
          "output_type": "stream",
          "text": [
            "WARNING:tensorflow:11 out of the last 11 calls to <function Model.make_predict_function.<locals>.predict_function at 0x7f8c3c8c8b90> triggered tf.function retracing. Tracing is expensive and the excessive number of tracings could be due to (1) creating @tf.function repeatedly in a loop, (2) passing tensors with different shapes, (3) passing Python objects instead of tensors. For (1), please define your @tf.function outside of the loop. For (2), @tf.function has experimental_relax_shapes=True option that relaxes argument shapes that can avoid unnecessary retracing. For (3), please refer to https://www.tensorflow.org/guide/function#controlling_retracing and https://www.tensorflow.org/api_docs/python/tf/function for  more details.\n",
            "WARNING:tensorflow:11 out of the last 11 calls to <function Model.make_predict_function.<locals>.predict_function at 0x7f8c3c4b5e60> triggered tf.function retracing. Tracing is expensive and the excessive number of tracings could be due to (1) creating @tf.function repeatedly in a loop, (2) passing tensors with different shapes, (3) passing Python objects instead of tensors. For (1), please define your @tf.function outside of the loop. For (2), @tf.function has experimental_relax_shapes=True option that relaxes argument shapes that can avoid unnecessary retracing. For (3), please refer to https://www.tensorflow.org/guide/function#controlling_retracing and https://www.tensorflow.org/api_docs/python/tf/function for  more details.\n",
            "WARNING:tensorflow:11 out of the last 11 calls to <function Model.make_predict_function.<locals>.predict_function at 0x7f8cca6a65f0> triggered tf.function retracing. Tracing is expensive and the excessive number of tracings could be due to (1) creating @tf.function repeatedly in a loop, (2) passing tensors with different shapes, (3) passing Python objects instead of tensors. For (1), please define your @tf.function outside of the loop. For (2), @tf.function has experimental_relax_shapes=True option that relaxes argument shapes that can avoid unnecessary retracing. For (3), please refer to https://www.tensorflow.org/guide/function#controlling_retracing and https://www.tensorflow.org/api_docs/python/tf/function for  more details.\n",
            "WARNING:tensorflow:11 out of the last 11 calls to <function Model.make_predict_function.<locals>.predict_function at 0x7f8c3c823f80> triggered tf.function retracing. Tracing is expensive and the excessive number of tracings could be due to (1) creating @tf.function repeatedly in a loop, (2) passing tensors with different shapes, (3) passing Python objects instead of tensors. For (1), please define your @tf.function outside of the loop. For (2), @tf.function has experimental_relax_shapes=True option that relaxes argument shapes that can avoid unnecessary retracing. For (3), please refer to https://www.tensorflow.org/guide/function#controlling_retracing and https://www.tensorflow.org/api_docs/python/tf/function for  more details.\n",
            "WARNING:tensorflow:11 out of the last 11 calls to <function Model.make_predict_function.<locals>.predict_function at 0x7f8d003387a0> triggered tf.function retracing. Tracing is expensive and the excessive number of tracings could be due to (1) creating @tf.function repeatedly in a loop, (2) passing tensors with different shapes, (3) passing Python objects instead of tensors. For (1), please define your @tf.function outside of the loop. For (2), @tf.function has experimental_relax_shapes=True option that relaxes argument shapes that can avoid unnecessary retracing. For (3), please refer to https://www.tensorflow.org/guide/function#controlling_retracing and https://www.tensorflow.org/api_docs/python/tf/function for  more details.\n",
            "WARNING:tensorflow:11 out of the last 11 calls to <function Model.make_predict_function.<locals>.predict_function at 0x7f8cb36ca4d0> triggered tf.function retracing. Tracing is expensive and the excessive number of tracings could be due to (1) creating @tf.function repeatedly in a loop, (2) passing tensors with different shapes, (3) passing Python objects instead of tensors. For (1), please define your @tf.function outside of the loop. For (2), @tf.function has experimental_relax_shapes=True option that relaxes argument shapes that can avoid unnecessary retracing. For (3), please refer to https://www.tensorflow.org/guide/function#controlling_retracing and https://www.tensorflow.org/api_docs/python/tf/function for  more details.\n",
            "WARNING:tensorflow:11 out of the last 11 calls to <function Model.make_predict_function.<locals>.predict_function at 0x7f8c4c0703b0> triggered tf.function retracing. Tracing is expensive and the excessive number of tracings could be due to (1) creating @tf.function repeatedly in a loop, (2) passing tensors with different shapes, (3) passing Python objects instead of tensors. For (1), please define your @tf.function outside of the loop. For (2), @tf.function has experimental_relax_shapes=True option that relaxes argument shapes that can avoid unnecessary retracing. For (3), please refer to https://www.tensorflow.org/guide/function#controlling_retracing and https://www.tensorflow.org/api_docs/python/tf/function for  more details.\n",
            "WARNING:tensorflow:11 out of the last 11 calls to <function Model.make_predict_function.<locals>.predict_function at 0x7f8cb37a85f0> triggered tf.function retracing. Tracing is expensive and the excessive number of tracings could be due to (1) creating @tf.function repeatedly in a loop, (2) passing tensors with different shapes, (3) passing Python objects instead of tensors. For (1), please define your @tf.function outside of the loop. For (2), @tf.function has experimental_relax_shapes=True option that relaxes argument shapes that can avoid unnecessary retracing. For (3), please refer to https://www.tensorflow.org/guide/function#controlling_retracing and https://www.tensorflow.org/api_docs/python/tf/function for  more details.\n",
            "WARNING:tensorflow:11 out of the last 11 calls to <function Model.make_predict_function.<locals>.predict_function at 0x7f8d17e56e60> triggered tf.function retracing. Tracing is expensive and the excessive number of tracings could be due to (1) creating @tf.function repeatedly in a loop, (2) passing tensors with different shapes, (3) passing Python objects instead of tensors. For (1), please define your @tf.function outside of the loop. For (2), @tf.function has experimental_relax_shapes=True option that relaxes argument shapes that can avoid unnecessary retracing. For (3), please refer to https://www.tensorflow.org/guide/function#controlling_retracing and https://www.tensorflow.org/api_docs/python/tf/function for  more details.\n",
            "WARNING:tensorflow:11 out of the last 11 calls to <function Model.make_predict_function.<locals>.predict_function at 0x7f8c3bb5e560> triggered tf.function retracing. Tracing is expensive and the excessive number of tracings could be due to (1) creating @tf.function repeatedly in a loop, (2) passing tensors with different shapes, (3) passing Python objects instead of tensors. For (1), please define your @tf.function outside of the loop. For (2), @tf.function has experimental_relax_shapes=True option that relaxes argument shapes that can avoid unnecessary retracing. For (3), please refer to https://www.tensorflow.org/guide/function#controlling_retracing and https://www.tensorflow.org/api_docs/python/tf/function for  more details.\n",
            "WARNING:tensorflow:11 out of the last 11 calls to <function Model.make_predict_function.<locals>.predict_function at 0x7f8d0059e950> triggered tf.function retracing. Tracing is expensive and the excessive number of tracings could be due to (1) creating @tf.function repeatedly in a loop, (2) passing tensors with different shapes, (3) passing Python objects instead of tensors. For (1), please define your @tf.function outside of the loop. For (2), @tf.function has experimental_relax_shapes=True option that relaxes argument shapes that can avoid unnecessary retracing. For (3), please refer to https://www.tensorflow.org/guide/function#controlling_retracing and https://www.tensorflow.org/api_docs/python/tf/function for  more details.\n",
            "WARNING:tensorflow:11 out of the last 11 calls to <function Model.make_predict_function.<locals>.predict_function at 0x7f8cca492200> triggered tf.function retracing. Tracing is expensive and the excessive number of tracings could be due to (1) creating @tf.function repeatedly in a loop, (2) passing tensors with different shapes, (3) passing Python objects instead of tensors. For (1), please define your @tf.function outside of the loop. For (2), @tf.function has experimental_relax_shapes=True option that relaxes argument shapes that can avoid unnecessary retracing. For (3), please refer to https://www.tensorflow.org/guide/function#controlling_retracing and https://www.tensorflow.org/api_docs/python/tf/function for  more details.\n",
            "\n"
          ],
          "name": "stdout"
        }
      ]
    },
    {
      "cell_type": "code",
      "metadata": {
        "colab": {
          "base_uri": "https://localhost:8080/",
          "height": 406
        },
        "id": "dq_npZKWekm0",
        "outputId": "ab49e10d-523f-459b-bc39-69e50ed85cc1"
      },
      "source": [
        "y_pred = LSTM_History[1:,:] ## On prend pas la 1 ere ligne car sert juste à l'init ; elle n'a aucun sens\n",
        "y_pred = np.argmax(y_pred,axis=1) ## On prend la classe pour laquelle la proba est maximale \n",
        "seq = np.arange(T_in,X_sample.shape[0]-T_in,dT) ; y_true = encoded_Y[N_I + seq[0]:seq[-1]+N_I+dT]\n",
        "resultsIIIExx = pd.DataFrame(data = { 'labels' : y_true , 'pred' : y_pred})\n",
        "resultsIIIExx"
      ],
      "execution_count": null,
      "outputs": [
        {
          "output_type": "execute_result",
          "data": {
            "text/html": [
              "<div>\n",
              "<style scoped>\n",
              "    .dataframe tbody tr th:only-of-type {\n",
              "        vertical-align: middle;\n",
              "    }\n",
              "\n",
              "    .dataframe tbody tr th {\n",
              "        vertical-align: top;\n",
              "    }\n",
              "\n",
              "    .dataframe thead th {\n",
              "        text-align: right;\n",
              "    }\n",
              "</style>\n",
              "<table border=\"1\" class=\"dataframe\">\n",
              "  <thead>\n",
              "    <tr style=\"text-align: right;\">\n",
              "      <th></th>\n",
              "      <th>labels</th>\n",
              "      <th>pred</th>\n",
              "    </tr>\n",
              "  </thead>\n",
              "  <tbody>\n",
              "    <tr>\n",
              "      <th>0</th>\n",
              "      <td>2</td>\n",
              "      <td>0</td>\n",
              "    </tr>\n",
              "    <tr>\n",
              "      <th>1</th>\n",
              "      <td>0</td>\n",
              "      <td>0</td>\n",
              "    </tr>\n",
              "    <tr>\n",
              "      <th>2</th>\n",
              "      <td>0</td>\n",
              "      <td>0</td>\n",
              "    </tr>\n",
              "    <tr>\n",
              "      <th>3</th>\n",
              "      <td>0</td>\n",
              "      <td>0</td>\n",
              "    </tr>\n",
              "    <tr>\n",
              "      <th>4</th>\n",
              "      <td>0</td>\n",
              "      <td>0</td>\n",
              "    </tr>\n",
              "    <tr>\n",
              "      <th>...</th>\n",
              "      <td>...</td>\n",
              "      <td>...</td>\n",
              "    </tr>\n",
              "    <tr>\n",
              "      <th>1195</th>\n",
              "      <td>2</td>\n",
              "      <td>2</td>\n",
              "    </tr>\n",
              "    <tr>\n",
              "      <th>1196</th>\n",
              "      <td>2</td>\n",
              "      <td>2</td>\n",
              "    </tr>\n",
              "    <tr>\n",
              "      <th>1197</th>\n",
              "      <td>2</td>\n",
              "      <td>2</td>\n",
              "    </tr>\n",
              "    <tr>\n",
              "      <th>1198</th>\n",
              "      <td>1</td>\n",
              "      <td>2</td>\n",
              "    </tr>\n",
              "    <tr>\n",
              "      <th>1199</th>\n",
              "      <td>0</td>\n",
              "      <td>2</td>\n",
              "    </tr>\n",
              "  </tbody>\n",
              "</table>\n",
              "<p>1200 rows × 2 columns</p>\n",
              "</div>"
            ],
            "text/plain": [
              "      labels  pred\n",
              "0          2     0\n",
              "1          0     0\n",
              "2          0     0\n",
              "3          0     0\n",
              "4          0     0\n",
              "...      ...   ...\n",
              "1195       2     2\n",
              "1196       2     2\n",
              "1197       2     2\n",
              "1198       1     2\n",
              "1199       0     2\n",
              "\n",
              "[1200 rows x 2 columns]"
            ]
          },
          "metadata": {
            "tags": []
          },
          "execution_count": 82
        }
      ]
    },
    {
      "cell_type": "code",
      "metadata": {
        "colab": {
          "base_uri": "https://localhost:8080/"
        },
        "id": "aCoH6prAej3D",
        "outputId": "43c05663-cdd2-46f8-f44b-293b6a07848f"
      },
      "source": [
        "from sklearn.metrics import confusion_matrix\n",
        "matrix_conf = confusion_matrix(resultsIIIExx.labels,resultsIIIExx.pred)\n",
        "AccIIIExx = (matrix_conf[0,0] + matrix_conf[1,1])/resultsIIIExx.shape[0]\n",
        "print(f\"Accuracy : {(matrix_conf[0,0] + matrix_conf[1,1])/resultsIIIExx.shape[0]}\")"
      ],
      "execution_count": null,
      "outputs": [
        {
          "output_type": "stream",
          "text": [
            "Accuracy : 0.4508333333333333\n"
          ],
          "name": "stdout"
        }
      ]
    },
    {
      "cell_type": "markdown",
      "metadata": {
        "id": "T0LXyQFEffcx"
      },
      "source": [
        "#### Colgate Palmolive"
      ]
    },
    {
      "cell_type": "code",
      "metadata": {
        "colab": {
          "base_uri": "https://localhost:8080/",
          "height": 227
        },
        "id": "5mTQMPL4e5EJ",
        "outputId": "1eea4106-a5d0-4177-aa19-b2101d92a6ab"
      },
      "source": [
        "ColgPalm.head()"
      ],
      "execution_count": null,
      "outputs": [
        {
          "output_type": "execute_result",
          "data": {
            "text/html": [
              "<div>\n",
              "<style scoped>\n",
              "    .dataframe tbody tr th:only-of-type {\n",
              "        vertical-align: middle;\n",
              "    }\n",
              "\n",
              "    .dataframe tbody tr th {\n",
              "        vertical-align: top;\n",
              "    }\n",
              "\n",
              "    .dataframe thead th {\n",
              "        text-align: right;\n",
              "    }\n",
              "</style>\n",
              "<table border=\"1\" class=\"dataframe\">\n",
              "  <thead>\n",
              "    <tr style=\"text-align: right;\">\n",
              "      <th></th>\n",
              "      <th>Open</th>\n",
              "      <th>High</th>\n",
              "      <th>Low</th>\n",
              "      <th>Close</th>\n",
              "      <th>Volume</th>\n",
              "      <th>Adjusted</th>\n",
              "      <th>ticker</th>\n",
              "    </tr>\n",
              "    <tr>\n",
              "      <th>index</th>\n",
              "      <th></th>\n",
              "      <th></th>\n",
              "      <th></th>\n",
              "      <th></th>\n",
              "      <th></th>\n",
              "      <th></th>\n",
              "      <th></th>\n",
              "    </tr>\n",
              "  </thead>\n",
              "  <tbody>\n",
              "    <tr>\n",
              "      <th>2006-02-23</th>\n",
              "      <td>27.174999</td>\n",
              "      <td>27.495001</td>\n",
              "      <td>27.125000</td>\n",
              "      <td>27.325001</td>\n",
              "      <td>2954600</td>\n",
              "      <td>19.273298</td>\n",
              "      <td>CL</td>\n",
              "    </tr>\n",
              "    <tr>\n",
              "      <th>2006-02-24</th>\n",
              "      <td>27.400000</td>\n",
              "      <td>27.500000</td>\n",
              "      <td>27.250000</td>\n",
              "      <td>27.309999</td>\n",
              "      <td>3006600</td>\n",
              "      <td>19.262722</td>\n",
              "      <td>CL</td>\n",
              "    </tr>\n",
              "    <tr>\n",
              "      <th>2006-02-27</th>\n",
              "      <td>27.184999</td>\n",
              "      <td>27.764999</td>\n",
              "      <td>27.150000</td>\n",
              "      <td>27.715000</td>\n",
              "      <td>3451800</td>\n",
              "      <td>19.548389</td>\n",
              "      <td>CL</td>\n",
              "    </tr>\n",
              "    <tr>\n",
              "      <th>2006-02-28</th>\n",
              "      <td>27.650000</td>\n",
              "      <td>27.870001</td>\n",
              "      <td>27.225000</td>\n",
              "      <td>27.240000</td>\n",
              "      <td>3622800</td>\n",
              "      <td>19.213345</td>\n",
              "      <td>CL</td>\n",
              "    </tr>\n",
              "    <tr>\n",
              "      <th>2006-03-01</th>\n",
              "      <td>27.340000</td>\n",
              "      <td>27.475000</td>\n",
              "      <td>27.245001</td>\n",
              "      <td>27.385000</td>\n",
              "      <td>2252600</td>\n",
              "      <td>19.315615</td>\n",
              "      <td>CL</td>\n",
              "    </tr>\n",
              "  </tbody>\n",
              "</table>\n",
              "</div>"
            ],
            "text/plain": [
              "                 Open       High        Low  ...   Volume   Adjusted  ticker\n",
              "index                                        ...                            \n",
              "2006-02-23  27.174999  27.495001  27.125000  ...  2954600  19.273298      CL\n",
              "2006-02-24  27.400000  27.500000  27.250000  ...  3006600  19.262722      CL\n",
              "2006-02-27  27.184999  27.764999  27.150000  ...  3451800  19.548389      CL\n",
              "2006-02-28  27.650000  27.870001  27.225000  ...  3622800  19.213345      CL\n",
              "2006-03-01  27.340000  27.475000  27.245001  ...  2252600  19.315615      CL\n",
              "\n",
              "[5 rows x 7 columns]"
            ]
          },
          "metadata": {
            "tags": []
          },
          "execution_count": 15
        }
      ]
    },
    {
      "cell_type": "code",
      "metadata": {
        "id": "401CyCMwe95K"
      },
      "source": [
        "ColgPalm[\"log_ret\"] = np.log(ColgPalm.Adjusted.shift(1))-np.log(ColgPalm.Adjusted) ; ColgPalm = ColgPalm.dropna()\n",
        "ColgPalm[\"ret_sign\"] = np.sign(ColgPalm.log_ret)\n",
        "ColgPalm[\"h\"] = np.log(ColgPalm.High/ColgPalm.Open) ; ColgPalm[\"l\"] = np.log(ColgPalm.Low/ColgPalm.Open) ; ColgPalm[\"c\"] = np.log(ColgPalm.Close/ColgPalm.Open) ; \n",
        "ColgPalm[\"log_volume\"] = np.log(ColgPalm.Volume)"
      ],
      "execution_count": null,
      "outputs": []
    },
    {
      "cell_type": "code",
      "metadata": {
        "colab": {
          "base_uri": "https://localhost:8080/"
        },
        "id": "2cixoMoae9tJ",
        "outputId": "155a99ec-bc68-4121-c118-f6acfe9d8945"
      },
      "source": [
        "X_full = ColgPalm[[\"h\",\"l\",\"c\",\"log_volume\",\"log_ret\"]].values                     # note the [[]] here. Otherwise, reshape(...,1)\n",
        "X_full.shape ; N_I=100 # length of sequences input to LSTMs\n",
        "X_sample,y_sample = split_sequences_multivariate(X_full,N_I)   # for LSTMs\n",
        "y_sample = np.sign(y_sample)\n",
        "print(X_sample.shape)# we do have a 3d-object\n",
        "print(y_sample.shape)"
      ],
      "execution_count": null,
      "outputs": [
        {
          "output_type": "stream",
          "text": [
            "(3671, 100, 5)\n",
            "(3671,)\n"
          ],
          "name": "stdout"
        }
      ]
    },
    {
      "cell_type": "code",
      "metadata": {
        "id": "hqX1jfRqe9gt"
      },
      "source": [
        "# encode class values as integers\n",
        "encoder = LabelEncoder()\n",
        "encoder.fit(y_sample)\n",
        "encoded_Y = encoder.transform(y_sample)\n",
        "# convert integers to dummy variables (i.e. one hot encoded)\n",
        "dummy_y = np_utils.to_categorical(encoded_Y)\n",
        "one_hot_y_sample = dummy_y "
      ],
      "execution_count": null,
      "outputs": []
    },
    {
      "cell_type": "code",
      "metadata": {
        "colab": {
          "base_uri": "https://localhost:8080/",
          "height": 353,
          "referenced_widgets": [
            "c3b77964b09443859573a9440213216d",
            "25e3262ed0dd40438b2a5b95a563d8a6",
            "69a120d390844bc5aacdb2c2aa8775eb",
            "d078319b6066498aa6e3130bfec438f3",
            "bc022115ff164381a273c21e990f0bc9",
            "a846cbf9cd14417488d1f1a259a428b0",
            "2d1c38bbff0245fdaf663d5e6cf71db7",
            "80a4f33f17f24cc1b8151c2100336a28"
          ]
        },
        "id": "9ZyDngCDVNwJ",
        "outputId": "58e2f4bd-19ee-476e-c62c-f6cae9cbca67"
      },
      "source": [
        "LSTM_History = Global_LSTM(batch_size,T_in,dT,nb_epochs,neurons_lstm,X_sample,one_hot_y_sample,type = 'classification',shfle = False)"
      ],
      "execution_count": null,
      "outputs": [
        {
          "output_type": "stream",
          "text": [
            "/usr/local/lib/python3.7/dist-packages/ipykernel_launcher.py:9: TqdmDeprecationWarning: This function will be removed in tqdm==5.0.0\n",
            "Please use `tqdm.notebook.tqdm` instead of `tqdm.tqdm_notebook`\n",
            "  if __name__ == '__main__':\n"
          ],
          "name": "stderr"
        },
        {
          "output_type": "display_data",
          "data": {
            "application/vnd.jupyter.widget-view+json": {
              "model_id": "c3b77964b09443859573a9440213216d",
              "version_minor": 0,
              "version_major": 2
            },
            "text/plain": [
              "HBox(children=(FloatProgress(value=0.0, max=12.0), HTML(value='')))"
            ]
          },
          "metadata": {
            "tags": []
          }
        },
        {
          "output_type": "stream",
          "text": [
            "WARNING:tensorflow:11 out of the last 11 calls to <function Model.make_predict_function.<locals>.predict_function at 0x7f8d003387a0> triggered tf.function retracing. Tracing is expensive and the excessive number of tracings could be due to (1) creating @tf.function repeatedly in a loop, (2) passing tensors with different shapes, (3) passing Python objects instead of tensors. For (1), please define your @tf.function outside of the loop. For (2), @tf.function has experimental_relax_shapes=True option that relaxes argument shapes that can avoid unnecessary retracing. For (3), please refer to https://www.tensorflow.org/guide/function#controlling_retracing and https://www.tensorflow.org/api_docs/python/tf/function for  more details.\n",
            "WARNING:tensorflow:11 out of the last 11 calls to <function Model.make_predict_function.<locals>.predict_function at 0x7f8c3c8089e0> triggered tf.function retracing. Tracing is expensive and the excessive number of tracings could be due to (1) creating @tf.function repeatedly in a loop, (2) passing tensors with different shapes, (3) passing Python objects instead of tensors. For (1), please define your @tf.function outside of the loop. For (2), @tf.function has experimental_relax_shapes=True option that relaxes argument shapes that can avoid unnecessary retracing. For (3), please refer to https://www.tensorflow.org/guide/function#controlling_retracing and https://www.tensorflow.org/api_docs/python/tf/function for  more details.\n",
            "WARNING:tensorflow:11 out of the last 11 calls to <function Model.make_predict_function.<locals>.predict_function at 0x7f8d00470f80> triggered tf.function retracing. Tracing is expensive and the excessive number of tracings could be due to (1) creating @tf.function repeatedly in a loop, (2) passing tensors with different shapes, (3) passing Python objects instead of tensors. For (1), please define your @tf.function outside of the loop. For (2), @tf.function has experimental_relax_shapes=True option that relaxes argument shapes that can avoid unnecessary retracing. For (3), please refer to https://www.tensorflow.org/guide/function#controlling_retracing and https://www.tensorflow.org/api_docs/python/tf/function for  more details.\n",
            "WARNING:tensorflow:11 out of the last 11 calls to <function Model.make_predict_function.<locals>.predict_function at 0x7f8c4cb09830> triggered tf.function retracing. Tracing is expensive and the excessive number of tracings could be due to (1) creating @tf.function repeatedly in a loop, (2) passing tensors with different shapes, (3) passing Python objects instead of tensors. For (1), please define your @tf.function outside of the loop. For (2), @tf.function has experimental_relax_shapes=True option that relaxes argument shapes that can avoid unnecessary retracing. For (3), please refer to https://www.tensorflow.org/guide/function#controlling_retracing and https://www.tensorflow.org/api_docs/python/tf/function for  more details.\n",
            "WARNING:tensorflow:11 out of the last 11 calls to <function Model.make_predict_function.<locals>.predict_function at 0x7f8c3c7b3050> triggered tf.function retracing. Tracing is expensive and the excessive number of tracings could be due to (1) creating @tf.function repeatedly in a loop, (2) passing tensors with different shapes, (3) passing Python objects instead of tensors. For (1), please define your @tf.function outside of the loop. For (2), @tf.function has experimental_relax_shapes=True option that relaxes argument shapes that can avoid unnecessary retracing. For (3), please refer to https://www.tensorflow.org/guide/function#controlling_retracing and https://www.tensorflow.org/api_docs/python/tf/function for  more details.\n",
            "WARNING:tensorflow:11 out of the last 11 calls to <function Model.make_predict_function.<locals>.predict_function at 0x7f8c3c820cb0> triggered tf.function retracing. Tracing is expensive and the excessive number of tracings could be due to (1) creating @tf.function repeatedly in a loop, (2) passing tensors with different shapes, (3) passing Python objects instead of tensors. For (1), please define your @tf.function outside of the loop. For (2), @tf.function has experimental_relax_shapes=True option that relaxes argument shapes that can avoid unnecessary retracing. For (3), please refer to https://www.tensorflow.org/guide/function#controlling_retracing and https://www.tensorflow.org/api_docs/python/tf/function for  more details.\n",
            "WARNING:tensorflow:11 out of the last 11 calls to <function Model.make_predict_function.<locals>.predict_function at 0x7f8cb3690e60> triggered tf.function retracing. Tracing is expensive and the excessive number of tracings could be due to (1) creating @tf.function repeatedly in a loop, (2) passing tensors with different shapes, (3) passing Python objects instead of tensors. For (1), please define your @tf.function outside of the loop. For (2), @tf.function has experimental_relax_shapes=True option that relaxes argument shapes that can avoid unnecessary retracing. For (3), please refer to https://www.tensorflow.org/guide/function#controlling_retracing and https://www.tensorflow.org/api_docs/python/tf/function for  more details.\n",
            "WARNING:tensorflow:11 out of the last 11 calls to <function Model.make_predict_function.<locals>.predict_function at 0x7f8c3c808170> triggered tf.function retracing. Tracing is expensive and the excessive number of tracings could be due to (1) creating @tf.function repeatedly in a loop, (2) passing tensors with different shapes, (3) passing Python objects instead of tensors. For (1), please define your @tf.function outside of the loop. For (2), @tf.function has experimental_relax_shapes=True option that relaxes argument shapes that can avoid unnecessary retracing. For (3), please refer to https://www.tensorflow.org/guide/function#controlling_retracing and https://www.tensorflow.org/api_docs/python/tf/function for  more details.\n",
            "WARNING:tensorflow:11 out of the last 11 calls to <function Model.make_predict_function.<locals>.predict_function at 0x7f8cca5cdd40> triggered tf.function retracing. Tracing is expensive and the excessive number of tracings could be due to (1) creating @tf.function repeatedly in a loop, (2) passing tensors with different shapes, (3) passing Python objects instead of tensors. For (1), please define your @tf.function outside of the loop. For (2), @tf.function has experimental_relax_shapes=True option that relaxes argument shapes that can avoid unnecessary retracing. For (3), please refer to https://www.tensorflow.org/guide/function#controlling_retracing and https://www.tensorflow.org/api_docs/python/tf/function for  more details.\n",
            "WARNING:tensorflow:11 out of the last 11 calls to <function Model.make_predict_function.<locals>.predict_function at 0x7f8cca283680> triggered tf.function retracing. Tracing is expensive and the excessive number of tracings could be due to (1) creating @tf.function repeatedly in a loop, (2) passing tensors with different shapes, (3) passing Python objects instead of tensors. For (1), please define your @tf.function outside of the loop. For (2), @tf.function has experimental_relax_shapes=True option that relaxes argument shapes that can avoid unnecessary retracing. For (3), please refer to https://www.tensorflow.org/guide/function#controlling_retracing and https://www.tensorflow.org/api_docs/python/tf/function for  more details.\n",
            "WARNING:tensorflow:11 out of the last 11 calls to <function Model.make_predict_function.<locals>.predict_function at 0x7f8c3ba1ba70> triggered tf.function retracing. Tracing is expensive and the excessive number of tracings could be due to (1) creating @tf.function repeatedly in a loop, (2) passing tensors with different shapes, (3) passing Python objects instead of tensors. For (1), please define your @tf.function outside of the loop. For (2), @tf.function has experimental_relax_shapes=True option that relaxes argument shapes that can avoid unnecessary retracing. For (3), please refer to https://www.tensorflow.org/guide/function#controlling_retracing and https://www.tensorflow.org/api_docs/python/tf/function for  more details.\n",
            "WARNING:tensorflow:11 out of the last 11 calls to <function Model.make_predict_function.<locals>.predict_function at 0x7f8c3d60bf80> triggered tf.function retracing. Tracing is expensive and the excessive number of tracings could be due to (1) creating @tf.function repeatedly in a loop, (2) passing tensors with different shapes, (3) passing Python objects instead of tensors. For (1), please define your @tf.function outside of the loop. For (2), @tf.function has experimental_relax_shapes=True option that relaxes argument shapes that can avoid unnecessary retracing. For (3), please refer to https://www.tensorflow.org/guide/function#controlling_retracing and https://www.tensorflow.org/api_docs/python/tf/function for  more details.\n",
            "\n"
          ],
          "name": "stdout"
        }
      ]
    },
    {
      "cell_type": "code",
      "metadata": {
        "colab": {
          "base_uri": "https://localhost:8080/",
          "height": 406
        },
        "id": "RkkTehn8fufa",
        "outputId": "f98da696-c229-4cdb-d97b-cee83b6bbeef"
      },
      "source": [
        "y_pred = LSTM_History[1:,:] ## On prend pas la 1 ere ligne car sert juste à l'init ; elle n'a aucun sens\n",
        "y_pred = np.argmax(y_pred,axis=1) ## On prend la classe pour laquelle la proba est maximale \n",
        "seq = np.arange(T_in,X_sample.shape[0]-T_in,dT) ; y_true = encoded_Y[N_I + seq[0]:seq[-1]+N_I+dT]\n",
        "resultsIIICPam = pd.DataFrame(data = { 'labels' : y_true , 'pred' : y_pred})\n",
        "resultsIIICPam"
      ],
      "execution_count": null,
      "outputs": [
        {
          "output_type": "execute_result",
          "data": {
            "text/html": [
              "<div>\n",
              "<style scoped>\n",
              "    .dataframe tbody tr th:only-of-type {\n",
              "        vertical-align: middle;\n",
              "    }\n",
              "\n",
              "    .dataframe tbody tr th {\n",
              "        vertical-align: top;\n",
              "    }\n",
              "\n",
              "    .dataframe thead th {\n",
              "        text-align: right;\n",
              "    }\n",
              "</style>\n",
              "<table border=\"1\" class=\"dataframe\">\n",
              "  <thead>\n",
              "    <tr style=\"text-align: right;\">\n",
              "      <th></th>\n",
              "      <th>labels</th>\n",
              "      <th>pred</th>\n",
              "    </tr>\n",
              "  </thead>\n",
              "  <tbody>\n",
              "    <tr>\n",
              "      <th>0</th>\n",
              "      <td>0</td>\n",
              "      <td>0</td>\n",
              "    </tr>\n",
              "    <tr>\n",
              "      <th>1</th>\n",
              "      <td>2</td>\n",
              "      <td>0</td>\n",
              "    </tr>\n",
              "    <tr>\n",
              "      <th>2</th>\n",
              "      <td>0</td>\n",
              "      <td>0</td>\n",
              "    </tr>\n",
              "    <tr>\n",
              "      <th>3</th>\n",
              "      <td>0</td>\n",
              "      <td>0</td>\n",
              "    </tr>\n",
              "    <tr>\n",
              "      <th>4</th>\n",
              "      <td>2</td>\n",
              "      <td>0</td>\n",
              "    </tr>\n",
              "    <tr>\n",
              "      <th>...</th>\n",
              "      <td>...</td>\n",
              "      <td>...</td>\n",
              "    </tr>\n",
              "    <tr>\n",
              "      <th>1195</th>\n",
              "      <td>0</td>\n",
              "      <td>0</td>\n",
              "    </tr>\n",
              "    <tr>\n",
              "      <th>1196</th>\n",
              "      <td>2</td>\n",
              "      <td>0</td>\n",
              "    </tr>\n",
              "    <tr>\n",
              "      <th>1197</th>\n",
              "      <td>0</td>\n",
              "      <td>0</td>\n",
              "    </tr>\n",
              "    <tr>\n",
              "      <th>1198</th>\n",
              "      <td>2</td>\n",
              "      <td>0</td>\n",
              "    </tr>\n",
              "    <tr>\n",
              "      <th>1199</th>\n",
              "      <td>2</td>\n",
              "      <td>0</td>\n",
              "    </tr>\n",
              "  </tbody>\n",
              "</table>\n",
              "<p>1200 rows × 2 columns</p>\n",
              "</div>"
            ],
            "text/plain": [
              "      labels  pred\n",
              "0          0     0\n",
              "1          2     0\n",
              "2          0     0\n",
              "3          0     0\n",
              "4          2     0\n",
              "...      ...   ...\n",
              "1195       0     0\n",
              "1196       2     0\n",
              "1197       0     0\n",
              "1198       2     0\n",
              "1199       2     0\n",
              "\n",
              "[1200 rows x 2 columns]"
            ]
          },
          "metadata": {
            "tags": []
          },
          "execution_count": 89
        }
      ]
    },
    {
      "cell_type": "code",
      "metadata": {
        "colab": {
          "base_uri": "https://localhost:8080/"
        },
        "id": "E24JF_lxfw-w",
        "outputId": "1c99c5aa-d3e1-44f1-9515-c7c75bf25288"
      },
      "source": [
        "from sklearn.metrics import confusion_matrix\n",
        "matrix_conf = confusion_matrix(resultsIIICPam.labels,resultsIIICPam.pred)\n",
        "AccIIICPam = (matrix_conf[0,0] + matrix_conf[1,1])/resultsIIICPam.shape[0]\n",
        "print(f\"Accuracy : {(matrix_conf[0,0] + matrix_conf[1,1])/resultsIIICPam.shape[0]}\")"
      ],
      "execution_count": null,
      "outputs": [
        {
          "output_type": "stream",
          "text": [
            "Accuracy : 0.52\n"
          ],
          "name": "stdout"
        }
      ]
    },
    {
      "cell_type": "markdown",
      "metadata": {
        "id": "f5V5RGHnfx1q"
      },
      "source": [
        "#### Amazon : "
      ]
    },
    {
      "cell_type": "code",
      "metadata": {
        "colab": {
          "base_uri": "https://localhost:8080/",
          "height": 227
        },
        "id": "yLxgX6N_f0IE",
        "outputId": "714d1b1e-715c-4378-dc0f-378008b820d7"
      },
      "source": [
        "Amazon.head()"
      ],
      "execution_count": null,
      "outputs": [
        {
          "output_type": "execute_result",
          "data": {
            "text/html": [
              "<div>\n",
              "<style scoped>\n",
              "    .dataframe tbody tr th:only-of-type {\n",
              "        vertical-align: middle;\n",
              "    }\n",
              "\n",
              "    .dataframe tbody tr th {\n",
              "        vertical-align: top;\n",
              "    }\n",
              "\n",
              "    .dataframe thead th {\n",
              "        text-align: right;\n",
              "    }\n",
              "</style>\n",
              "<table border=\"1\" class=\"dataframe\">\n",
              "  <thead>\n",
              "    <tr style=\"text-align: right;\">\n",
              "      <th></th>\n",
              "      <th>Open</th>\n",
              "      <th>High</th>\n",
              "      <th>Low</th>\n",
              "      <th>Close</th>\n",
              "      <th>Volume</th>\n",
              "      <th>Adjusted</th>\n",
              "      <th>ticker</th>\n",
              "    </tr>\n",
              "    <tr>\n",
              "      <th>index</th>\n",
              "      <th></th>\n",
              "      <th></th>\n",
              "      <th></th>\n",
              "      <th></th>\n",
              "      <th></th>\n",
              "      <th></th>\n",
              "      <th></th>\n",
              "    </tr>\n",
              "  </thead>\n",
              "  <tbody>\n",
              "    <tr>\n",
              "      <th>2006-02-23</th>\n",
              "      <td>38.619999</td>\n",
              "      <td>38.750000</td>\n",
              "      <td>37.869999</td>\n",
              "      <td>37.900002</td>\n",
              "      <td>9287500</td>\n",
              "      <td>37.900002</td>\n",
              "      <td>AMZN</td>\n",
              "    </tr>\n",
              "    <tr>\n",
              "      <th>2006-02-24</th>\n",
              "      <td>38.250000</td>\n",
              "      <td>38.410000</td>\n",
              "      <td>37.860001</td>\n",
              "      <td>38.349998</td>\n",
              "      <td>3720000</td>\n",
              "      <td>38.349998</td>\n",
              "      <td>AMZN</td>\n",
              "    </tr>\n",
              "    <tr>\n",
              "      <th>2006-02-27</th>\n",
              "      <td>38.400002</td>\n",
              "      <td>38.779999</td>\n",
              "      <td>37.930000</td>\n",
              "      <td>38.009998</td>\n",
              "      <td>4449100</td>\n",
              "      <td>38.009998</td>\n",
              "      <td>AMZN</td>\n",
              "    </tr>\n",
              "    <tr>\n",
              "      <th>2006-02-28</th>\n",
              "      <td>37.790001</td>\n",
              "      <td>38.090000</td>\n",
              "      <td>37.049999</td>\n",
              "      <td>37.439999</td>\n",
              "      <td>9150900</td>\n",
              "      <td>37.439999</td>\n",
              "      <td>AMZN</td>\n",
              "    </tr>\n",
              "    <tr>\n",
              "      <th>2006-03-01</th>\n",
              "      <td>37.450001</td>\n",
              "      <td>37.689999</td>\n",
              "      <td>36.849998</td>\n",
              "      <td>37.119999</td>\n",
              "      <td>6981500</td>\n",
              "      <td>37.119999</td>\n",
              "      <td>AMZN</td>\n",
              "    </tr>\n",
              "  </tbody>\n",
              "</table>\n",
              "</div>"
            ],
            "text/plain": [
              "                 Open       High        Low  ...   Volume   Adjusted  ticker\n",
              "index                                        ...                            \n",
              "2006-02-23  38.619999  38.750000  37.869999  ...  9287500  37.900002    AMZN\n",
              "2006-02-24  38.250000  38.410000  37.860001  ...  3720000  38.349998    AMZN\n",
              "2006-02-27  38.400002  38.779999  37.930000  ...  4449100  38.009998    AMZN\n",
              "2006-02-28  37.790001  38.090000  37.049999  ...  9150900  37.439999    AMZN\n",
              "2006-03-01  37.450001  37.689999  36.849998  ...  6981500  37.119999    AMZN\n",
              "\n",
              "[5 rows x 7 columns]"
            ]
          },
          "metadata": {
            "tags": []
          },
          "execution_count": 17
        }
      ]
    },
    {
      "cell_type": "code",
      "metadata": {
        "id": "LZotkEX8iyb5"
      },
      "source": [
        "Amazon[\"log_ret\"] = np.log(Amazon.Adjusted.shift(1))-np.log(Amazon.Adjusted) ; Amazon = Amazon.dropna()\n",
        "Amazon[\"ret_sign\"] = np.sign(Amazon.log_ret)\n",
        "Amazon[\"h\"] = np.log(Amazon.High/Amazon.Open) ; Amazon[\"l\"] = np.log(Amazon.Low/Amazon.Open) ; Amazon[\"c\"] = np.log(Amazon.Close/Amazon.Open) ; \n",
        "Amazon[\"log_volume\"] = np.log(Amazon.Volume)"
      ],
      "execution_count": null,
      "outputs": []
    },
    {
      "cell_type": "code",
      "metadata": {
        "colab": {
          "base_uri": "https://localhost:8080/"
        },
        "id": "VhjLpdjRiyY5",
        "outputId": "d6341486-95c6-4a04-8244-c4c9da6ced0d"
      },
      "source": [
        "X_full = Amazon[[\"h\",\"l\",\"c\",\"log_volume\",\"log_ret\"]].values                     # note the [[]] here. Otherwise, reshape(...,1)\n",
        "X_full.shape ; N_I=100 # length of sequences input to LSTMs\n",
        "X_sample,y_sample = split_sequences_multivariate(X_full,N_I)   # for LSTMs\n",
        "y_sample = np.sign(y_sample)\n",
        "print(X_sample.shape)# we do have a 3d-object\n",
        "print(y_sample.shape)"
      ],
      "execution_count": null,
      "outputs": [
        {
          "output_type": "stream",
          "text": [
            "(3671, 100, 5)\n",
            "(3671,)\n"
          ],
          "name": "stdout"
        }
      ]
    },
    {
      "cell_type": "code",
      "metadata": {
        "id": "6uFbinn7iyTV"
      },
      "source": [
        "# encode class values as integers\n",
        "encoder = LabelEncoder()\n",
        "encoder.fit(y_sample)\n",
        "encoded_Y = encoder.transform(y_sample)\n",
        "# convert integers to dummy variables (i.e. one hot encoded)\n",
        "dummy_y = np_utils.to_categorical(encoded_Y)\n",
        "one_hot_y_sample = dummy_y "
      ],
      "execution_count": null,
      "outputs": []
    },
    {
      "cell_type": "code",
      "metadata": {
        "colab": {
          "base_uri": "https://localhost:8080/",
          "height": 353,
          "referenced_widgets": [
            "13e702ec3f0547a68cad8ca837853c9a",
            "dcc3aad0a075439f837c8ffc460cdadb",
            "74734a46187c4d1eb491ee2c07521aea",
            "1d56f4f93813499fafee52d6dde4c04d",
            "d1f98cd0a70c4513ab0286a44fd86f44",
            "6c6c1a10b9c2445982534d513b60973c",
            "264a5a1b926643008f4a505253d707a6",
            "6008b4f1166d4cef81b4f2cac09805fd"
          ]
        },
        "id": "Xah3tXKOVQbS",
        "outputId": "f7f25ea6-0014-463b-f4a6-dd9efe94b2c3"
      },
      "source": [
        "LSTM_History = Global_LSTM(batch_size,T_in,dT,nb_epochs,neurons_lstm,X_sample,one_hot_y_sample,type = 'classification',shfle = False)"
      ],
      "execution_count": null,
      "outputs": [
        {
          "output_type": "stream",
          "text": [
            "/usr/local/lib/python3.7/dist-packages/ipykernel_launcher.py:9: TqdmDeprecationWarning: This function will be removed in tqdm==5.0.0\n",
            "Please use `tqdm.notebook.tqdm` instead of `tqdm.tqdm_notebook`\n",
            "  if __name__ == '__main__':\n"
          ],
          "name": "stderr"
        },
        {
          "output_type": "display_data",
          "data": {
            "application/vnd.jupyter.widget-view+json": {
              "model_id": "13e702ec3f0547a68cad8ca837853c9a",
              "version_minor": 0,
              "version_major": 2
            },
            "text/plain": [
              "HBox(children=(FloatProgress(value=0.0, max=12.0), HTML(value='')))"
            ]
          },
          "metadata": {
            "tags": []
          }
        },
        {
          "output_type": "stream",
          "text": [
            "WARNING:tensorflow:11 out of the last 11 calls to <function Model.make_predict_function.<locals>.predict_function at 0x7f8cca53fa70> triggered tf.function retracing. Tracing is expensive and the excessive number of tracings could be due to (1) creating @tf.function repeatedly in a loop, (2) passing tensors with different shapes, (3) passing Python objects instead of tensors. For (1), please define your @tf.function outside of the loop. For (2), @tf.function has experimental_relax_shapes=True option that relaxes argument shapes that can avoid unnecessary retracing. For (3), please refer to https://www.tensorflow.org/guide/function#controlling_retracing and https://www.tensorflow.org/api_docs/python/tf/function for  more details.\n",
            "WARNING:tensorflow:11 out of the last 11 calls to <function Model.make_predict_function.<locals>.predict_function at 0x7f8c3c86b0e0> triggered tf.function retracing. Tracing is expensive and the excessive number of tracings could be due to (1) creating @tf.function repeatedly in a loop, (2) passing tensors with different shapes, (3) passing Python objects instead of tensors. For (1), please define your @tf.function outside of the loop. For (2), @tf.function has experimental_relax_shapes=True option that relaxes argument shapes that can avoid unnecessary retracing. For (3), please refer to https://www.tensorflow.org/guide/function#controlling_retracing and https://www.tensorflow.org/api_docs/python/tf/function for  more details.\n",
            "WARNING:tensorflow:11 out of the last 11 calls to <function Model.make_predict_function.<locals>.predict_function at 0x7f8c4cc48cb0> triggered tf.function retracing. Tracing is expensive and the excessive number of tracings could be due to (1) creating @tf.function repeatedly in a loop, (2) passing tensors with different shapes, (3) passing Python objects instead of tensors. For (1), please define your @tf.function outside of the loop. For (2), @tf.function has experimental_relax_shapes=True option that relaxes argument shapes that can avoid unnecessary retracing. For (3), please refer to https://www.tensorflow.org/guide/function#controlling_retracing and https://www.tensorflow.org/api_docs/python/tf/function for  more details.\n",
            "WARNING:tensorflow:11 out of the last 11 calls to <function Model.make_predict_function.<locals>.predict_function at 0x7f8c3d496f80> triggered tf.function retracing. Tracing is expensive and the excessive number of tracings could be due to (1) creating @tf.function repeatedly in a loop, (2) passing tensors with different shapes, (3) passing Python objects instead of tensors. For (1), please define your @tf.function outside of the loop. For (2), @tf.function has experimental_relax_shapes=True option that relaxes argument shapes that can avoid unnecessary retracing. For (3), please refer to https://www.tensorflow.org/guide/function#controlling_retracing and https://www.tensorflow.org/api_docs/python/tf/function for  more details.\n",
            "WARNING:tensorflow:11 out of the last 11 calls to <function Model.make_predict_function.<locals>.predict_function at 0x7f8c3d60b560> triggered tf.function retracing. Tracing is expensive and the excessive number of tracings could be due to (1) creating @tf.function repeatedly in a loop, (2) passing tensors with different shapes, (3) passing Python objects instead of tensors. For (1), please define your @tf.function outside of the loop. For (2), @tf.function has experimental_relax_shapes=True option that relaxes argument shapes that can avoid unnecessary retracing. For (3), please refer to https://www.tensorflow.org/guide/function#controlling_retracing and https://www.tensorflow.org/api_docs/python/tf/function for  more details.\n",
            "WARNING:tensorflow:11 out of the last 11 calls to <function Model.make_predict_function.<locals>.predict_function at 0x7f8c3bc66290> triggered tf.function retracing. Tracing is expensive and the excessive number of tracings could be due to (1) creating @tf.function repeatedly in a loop, (2) passing tensors with different shapes, (3) passing Python objects instead of tensors. For (1), please define your @tf.function outside of the loop. For (2), @tf.function has experimental_relax_shapes=True option that relaxes argument shapes that can avoid unnecessary retracing. For (3), please refer to https://www.tensorflow.org/guide/function#controlling_retracing and https://www.tensorflow.org/api_docs/python/tf/function for  more details.\n",
            "WARNING:tensorflow:11 out of the last 11 calls to <function Model.make_predict_function.<locals>.predict_function at 0x7f8cca41e9e0> triggered tf.function retracing. Tracing is expensive and the excessive number of tracings could be due to (1) creating @tf.function repeatedly in a loop, (2) passing tensors with different shapes, (3) passing Python objects instead of tensors. For (1), please define your @tf.function outside of the loop. For (2), @tf.function has experimental_relax_shapes=True option that relaxes argument shapes that can avoid unnecessary retracing. For (3), please refer to https://www.tensorflow.org/guide/function#controlling_retracing and https://www.tensorflow.org/api_docs/python/tf/function for  more details.\n",
            "WARNING:tensorflow:11 out of the last 11 calls to <function Model.make_predict_function.<locals>.predict_function at 0x7f8c4cbde440> triggered tf.function retracing. Tracing is expensive and the excessive number of tracings could be due to (1) creating @tf.function repeatedly in a loop, (2) passing tensors with different shapes, (3) passing Python objects instead of tensors. For (1), please define your @tf.function outside of the loop. For (2), @tf.function has experimental_relax_shapes=True option that relaxes argument shapes that can avoid unnecessary retracing. For (3), please refer to https://www.tensorflow.org/guide/function#controlling_retracing and https://www.tensorflow.org/api_docs/python/tf/function for  more details.\n",
            "WARNING:tensorflow:11 out of the last 11 calls to <function Model.make_predict_function.<locals>.predict_function at 0x7f8c3cb5e950> triggered tf.function retracing. Tracing is expensive and the excessive number of tracings could be due to (1) creating @tf.function repeatedly in a loop, (2) passing tensors with different shapes, (3) passing Python objects instead of tensors. For (1), please define your @tf.function outside of the loop. For (2), @tf.function has experimental_relax_shapes=True option that relaxes argument shapes that can avoid unnecessary retracing. For (3), please refer to https://www.tensorflow.org/guide/function#controlling_retracing and https://www.tensorflow.org/api_docs/python/tf/function for  more details.\n",
            "WARNING:tensorflow:11 out of the last 11 calls to <function Model.make_predict_function.<locals>.predict_function at 0x7f8c3c665290> triggered tf.function retracing. Tracing is expensive and the excessive number of tracings could be due to (1) creating @tf.function repeatedly in a loop, (2) passing tensors with different shapes, (3) passing Python objects instead of tensors. For (1), please define your @tf.function outside of the loop. For (2), @tf.function has experimental_relax_shapes=True option that relaxes argument shapes that can avoid unnecessary retracing. For (3), please refer to https://www.tensorflow.org/guide/function#controlling_retracing and https://www.tensorflow.org/api_docs/python/tf/function for  more details.\n",
            "WARNING:tensorflow:11 out of the last 11 calls to <function Model.make_predict_function.<locals>.predict_function at 0x7f8c3d4479e0> triggered tf.function retracing. Tracing is expensive and the excessive number of tracings could be due to (1) creating @tf.function repeatedly in a loop, (2) passing tensors with different shapes, (3) passing Python objects instead of tensors. For (1), please define your @tf.function outside of the loop. For (2), @tf.function has experimental_relax_shapes=True option that relaxes argument shapes that can avoid unnecessary retracing. For (3), please refer to https://www.tensorflow.org/guide/function#controlling_retracing and https://www.tensorflow.org/api_docs/python/tf/function for  more details.\n",
            "WARNING:tensorflow:11 out of the last 11 calls to <function Model.make_predict_function.<locals>.predict_function at 0x7f8c3d60ba70> triggered tf.function retracing. Tracing is expensive and the excessive number of tracings could be due to (1) creating @tf.function repeatedly in a loop, (2) passing tensors with different shapes, (3) passing Python objects instead of tensors. For (1), please define your @tf.function outside of the loop. For (2), @tf.function has experimental_relax_shapes=True option that relaxes argument shapes that can avoid unnecessary retracing. For (3), please refer to https://www.tensorflow.org/guide/function#controlling_retracing and https://www.tensorflow.org/api_docs/python/tf/function for  more details.\n",
            "\n"
          ],
          "name": "stdout"
        }
      ]
    },
    {
      "cell_type": "code",
      "metadata": {
        "colab": {
          "base_uri": "https://localhost:8080/",
          "height": 406
        },
        "id": "jzmNMo0kiyJy",
        "outputId": "b1392b50-d26e-43ca-d2a2-292a12e3a972"
      },
      "source": [
        "y_pred = LSTM_History[1:,:] ## On prend pas la 1 ere ligne car sert juste à l'init ; elle n'a aucun sens\n",
        "y_pred = np.argmax(y_pred,axis=1) ## On prend la classe pour laquelle la proba est maximale \n",
        "seq = np.arange(T_in,X_sample.shape[0]-T_in,dT) ; y_true = encoded_Y[N_I + seq[0]:seq[-1]+N_I+dT]\n",
        "resultsIIIAmz = pd.DataFrame(data = { 'labels' : y_true , 'pred' : y_pred})\n",
        "resultsIIIAmz"
      ],
      "execution_count": null,
      "outputs": [
        {
          "output_type": "execute_result",
          "data": {
            "text/html": [
              "<div>\n",
              "<style scoped>\n",
              "    .dataframe tbody tr th:only-of-type {\n",
              "        vertical-align: middle;\n",
              "    }\n",
              "\n",
              "    .dataframe tbody tr th {\n",
              "        vertical-align: top;\n",
              "    }\n",
              "\n",
              "    .dataframe thead th {\n",
              "        text-align: right;\n",
              "    }\n",
              "</style>\n",
              "<table border=\"1\" class=\"dataframe\">\n",
              "  <thead>\n",
              "    <tr style=\"text-align: right;\">\n",
              "      <th></th>\n",
              "      <th>labels</th>\n",
              "      <th>pred</th>\n",
              "    </tr>\n",
              "  </thead>\n",
              "  <tbody>\n",
              "    <tr>\n",
              "      <th>0</th>\n",
              "      <td>2</td>\n",
              "      <td>2</td>\n",
              "    </tr>\n",
              "    <tr>\n",
              "      <th>1</th>\n",
              "      <td>0</td>\n",
              "      <td>2</td>\n",
              "    </tr>\n",
              "    <tr>\n",
              "      <th>2</th>\n",
              "      <td>0</td>\n",
              "      <td>2</td>\n",
              "    </tr>\n",
              "    <tr>\n",
              "      <th>3</th>\n",
              "      <td>0</td>\n",
              "      <td>2</td>\n",
              "    </tr>\n",
              "    <tr>\n",
              "      <th>4</th>\n",
              "      <td>0</td>\n",
              "      <td>2</td>\n",
              "    </tr>\n",
              "    <tr>\n",
              "      <th>...</th>\n",
              "      <td>...</td>\n",
              "      <td>...</td>\n",
              "    </tr>\n",
              "    <tr>\n",
              "      <th>1195</th>\n",
              "      <td>0</td>\n",
              "      <td>0</td>\n",
              "    </tr>\n",
              "    <tr>\n",
              "      <th>1196</th>\n",
              "      <td>2</td>\n",
              "      <td>0</td>\n",
              "    </tr>\n",
              "    <tr>\n",
              "      <th>1197</th>\n",
              "      <td>2</td>\n",
              "      <td>0</td>\n",
              "    </tr>\n",
              "    <tr>\n",
              "      <th>1198</th>\n",
              "      <td>2</td>\n",
              "      <td>0</td>\n",
              "    </tr>\n",
              "    <tr>\n",
              "      <th>1199</th>\n",
              "      <td>0</td>\n",
              "      <td>0</td>\n",
              "    </tr>\n",
              "  </tbody>\n",
              "</table>\n",
              "<p>1200 rows × 2 columns</p>\n",
              "</div>"
            ],
            "text/plain": [
              "      labels  pred\n",
              "0          2     2\n",
              "1          0     2\n",
              "2          0     2\n",
              "3          0     2\n",
              "4          0     2\n",
              "...      ...   ...\n",
              "1195       0     0\n",
              "1196       2     0\n",
              "1197       2     0\n",
              "1198       2     0\n",
              "1199       0     0\n",
              "\n",
              "[1200 rows x 2 columns]"
            ]
          },
          "metadata": {
            "tags": []
          },
          "execution_count": 96
        }
      ]
    },
    {
      "cell_type": "code",
      "metadata": {
        "colab": {
          "base_uri": "https://localhost:8080/"
        },
        "id": "XokN8DNHiyCO",
        "outputId": "06f84933-db4d-4f1f-9e2d-5bb64af367eb"
      },
      "source": [
        "from sklearn.metrics import confusion_matrix\n",
        "matrix_conf = confusion_matrix(resultsIIIAmz.labels,resultsIIIAmz.pred)\n",
        "AccIIIAmz = (matrix_conf[0,0] + matrix_conf[1,1])/resultsIIIAmz.shape[0]\n",
        "print(f\"Accuracy : {(matrix_conf[0,0] + matrix_conf[1,1])/resultsIIIAmz.shape[0]}\")"
      ],
      "execution_count": null,
      "outputs": [
        {
          "output_type": "stream",
          "text": [
            "Accuracy : 0.3541666666666667\n"
          ],
          "name": "stdout"
        }
      ]
    },
    {
      "cell_type": "markdown",
      "metadata": {
        "id": "83_9mstglQmU"
      },
      "source": [
        "### Comparaison Performances cross séctionelles : "
      ]
    },
    {
      "cell_type": "markdown",
      "metadata": {
        "id": "ShJ_lMO0R-Q2"
      },
      "source": [
        "L'ensemble des features utilisés sont les mêmes pour les quatres titres."
      ]
    },
    {
      "cell_type": "code",
      "metadata": {
        "colab": {
          "base_uri": "https://localhost:8080/",
          "height": 77
        },
        "id": "IUKxSCz6QywE",
        "outputId": "e702476d-5161-4fd7-b9fd-3dcd6d852d4e"
      },
      "source": [
        "Bilan = pd.DataFrame(columns=['AIG','Exxon','ColgatePalm','Amazon'])\n",
        "Bilan = Bilan.append({'AIG' : AccIII , 'Exxon' : AccIIIExx , 'ColgatePalm' : AccIIICPam , 'Amazon' : AccIIIAmz}, ignore_index=True)\n",
        "Bilan = Bilan.set_index([pd.Index(['Accuracy'])]);\n",
        "Bilan"
      ],
      "execution_count": null,
      "outputs": [
        {
          "output_type": "execute_result",
          "data": {
            "text/html": [
              "<div>\n",
              "<style scoped>\n",
              "    .dataframe tbody tr th:only-of-type {\n",
              "        vertical-align: middle;\n",
              "    }\n",
              "\n",
              "    .dataframe tbody tr th {\n",
              "        vertical-align: top;\n",
              "    }\n",
              "\n",
              "    .dataframe thead th {\n",
              "        text-align: right;\n",
              "    }\n",
              "</style>\n",
              "<table border=\"1\" class=\"dataframe\">\n",
              "  <thead>\n",
              "    <tr style=\"text-align: right;\">\n",
              "      <th></th>\n",
              "      <th>AIG</th>\n",
              "      <th>Exxon</th>\n",
              "      <th>ColgatePalm</th>\n",
              "      <th>Amazon</th>\n",
              "    </tr>\n",
              "  </thead>\n",
              "  <tbody>\n",
              "    <tr>\n",
              "      <th>Accuracy</th>\n",
              "      <td>0.203333</td>\n",
              "      <td>0.450833</td>\n",
              "      <td>0.52</td>\n",
              "      <td>0.354167</td>\n",
              "    </tr>\n",
              "  </tbody>\n",
              "</table>\n",
              "</div>"
            ],
            "text/plain": [
              "               AIG     Exxon  ColgatePalm    Amazon\n",
              "Accuracy  0.203333  0.450833         0.52  0.354167"
            ]
          },
          "metadata": {
            "tags": []
          },
          "execution_count": 98
        }
      ]
    },
    {
      "cell_type": "markdown",
      "metadata": {
        "id": "d9Hyz3QiabUc"
      },
      "source": [
        "\n",
        "Nous obtenons des résultats trés interéssants lorsque nous comparons l'accuracy du LSTM dans la prediction du signe des rendements.\n",
        "\n",
        "Dans le cas d'un resaux qui classifit au hasard on peut s'attendre à avoir une accuracy qui est trés instables et qui suit une loi uniforme c 'est a dire qu'avec un echantillon de test trés grand il classifit bien une fois sur 3.\n",
        "\n",
        "On observe pour le tableau comparatif qu'il y a des forte difference sur l'accuracy.\n",
        "\n",
        "Dans notre cas on obtient des reusltats trés instables pour le titre AIG don l'accuracy varie en moyenne entre 18 et 30% quand on relance l'entrainement et la prediction plusieurs fois . On en deduit que le reseaux n'apprend rien et les poids ne cessent de changer significativements au fur et à mesure des épochs sans jamais converger.En effet avec un nombre d'epoch de 200 nous devrions observer une convergence si le réseau avait reussit à apprendre.\n",
        "\n",
        "Nous affichons ci dessous les courbes des titres pour essayer d'intuiter en quoi les titres different et si il y a un pattern a identifier qui pourrait nous aider à comprendre les differences entre les accuracy."
      ]
    },
    {
      "cell_type": "code",
      "metadata": {
        "colab": {
          "base_uri": "https://localhost:8080/",
          "height": 436
        },
        "id": "8soysFM8kpDF",
        "outputId": "11bcba4d-a9b5-4100-e39b-cbd068192bb3"
      },
      "source": [
        "AIG.iloc[500:,:]"
      ],
      "execution_count": null,
      "outputs": [
        {
          "output_type": "execute_result",
          "data": {
            "text/html": [
              "<div>\n",
              "<style scoped>\n",
              "    .dataframe tbody tr th:only-of-type {\n",
              "        vertical-align: middle;\n",
              "    }\n",
              "\n",
              "    .dataframe tbody tr th {\n",
              "        vertical-align: top;\n",
              "    }\n",
              "\n",
              "    .dataframe thead th {\n",
              "        text-align: right;\n",
              "    }\n",
              "</style>\n",
              "<table border=\"1\" class=\"dataframe\">\n",
              "  <thead>\n",
              "    <tr style=\"text-align: right;\">\n",
              "      <th></th>\n",
              "      <th>Open</th>\n",
              "      <th>High</th>\n",
              "      <th>Low</th>\n",
              "      <th>Close</th>\n",
              "      <th>Volume</th>\n",
              "      <th>Adjusted</th>\n",
              "      <th>ticker</th>\n",
              "    </tr>\n",
              "    <tr>\n",
              "      <th>index</th>\n",
              "      <th></th>\n",
              "      <th></th>\n",
              "      <th></th>\n",
              "      <th></th>\n",
              "      <th></th>\n",
              "      <th></th>\n",
              "      <th></th>\n",
              "    </tr>\n",
              "  </thead>\n",
              "  <tbody>\n",
              "    <tr>\n",
              "      <th>2008-02-20</th>\n",
              "      <td>934.400024</td>\n",
              "      <td>965.000000</td>\n",
              "      <td>933.799988</td>\n",
              "      <td>958.000000</td>\n",
              "      <td>1026360.0</td>\n",
              "      <td>661.497498</td>\n",
              "      <td>AIG</td>\n",
              "    </tr>\n",
              "    <tr>\n",
              "      <th>2008-02-21</th>\n",
              "      <td>969.599976</td>\n",
              "      <td>977.599976</td>\n",
              "      <td>945.599976</td>\n",
              "      <td>951.799988</td>\n",
              "      <td>816390.0</td>\n",
              "      <td>657.216309</td>\n",
              "      <td>AIG</td>\n",
              "    </tr>\n",
              "    <tr>\n",
              "      <th>2008-02-22</th>\n",
              "      <td>953.799988</td>\n",
              "      <td>978.200012</td>\n",
              "      <td>938.000000</td>\n",
              "      <td>977.599976</td>\n",
              "      <td>982005.0</td>\n",
              "      <td>675.031067</td>\n",
              "      <td>AIG</td>\n",
              "    </tr>\n",
              "    <tr>\n",
              "      <th>2008-02-25</th>\n",
              "      <td>972.799988</td>\n",
              "      <td>1011.400024</td>\n",
              "      <td>962.200012</td>\n",
              "      <td>1007.599976</td>\n",
              "      <td>1245585.0</td>\n",
              "      <td>695.746033</td>\n",
              "      <td>AIG</td>\n",
              "    </tr>\n",
              "    <tr>\n",
              "      <th>2008-02-26</th>\n",
              "      <td>1002.200012</td>\n",
              "      <td>1032.400024</td>\n",
              "      <td>1000.000000</td>\n",
              "      <td>1028.400024</td>\n",
              "      <td>1189645.0</td>\n",
              "      <td>710.108582</td>\n",
              "      <td>AIG</td>\n",
              "    </tr>\n",
              "    <tr>\n",
              "      <th>...</th>\n",
              "      <td>...</td>\n",
              "      <td>...</td>\n",
              "      <td>...</td>\n",
              "      <td>...</td>\n",
              "      <td>...</td>\n",
              "      <td>...</td>\n",
              "      <td>...</td>\n",
              "    </tr>\n",
              "    <tr>\n",
              "      <th>2021-02-12</th>\n",
              "      <td>41.459999</td>\n",
              "      <td>42.189999</td>\n",
              "      <td>41.189999</td>\n",
              "      <td>41.400002</td>\n",
              "      <td>4153900.0</td>\n",
              "      <td>41.400002</td>\n",
              "      <td>AIG</td>\n",
              "    </tr>\n",
              "    <tr>\n",
              "      <th>2021-02-16</th>\n",
              "      <td>41.740002</td>\n",
              "      <td>42.630001</td>\n",
              "      <td>41.509998</td>\n",
              "      <td>42.150002</td>\n",
              "      <td>4934900.0</td>\n",
              "      <td>42.150002</td>\n",
              "      <td>AIG</td>\n",
              "    </tr>\n",
              "    <tr>\n",
              "      <th>2021-02-17</th>\n",
              "      <td>41.279999</td>\n",
              "      <td>43.360001</td>\n",
              "      <td>41.169998</td>\n",
              "      <td>43.270000</td>\n",
              "      <td>4872000.0</td>\n",
              "      <td>43.270000</td>\n",
              "      <td>AIG</td>\n",
              "    </tr>\n",
              "    <tr>\n",
              "      <th>2021-02-18</th>\n",
              "      <td>42.459999</td>\n",
              "      <td>43.000000</td>\n",
              "      <td>41.490002</td>\n",
              "      <td>42.110001</td>\n",
              "      <td>4032600.0</td>\n",
              "      <td>42.110001</td>\n",
              "      <td>AIG</td>\n",
              "    </tr>\n",
              "    <tr>\n",
              "      <th>2021-02-19</th>\n",
              "      <td>42.500000</td>\n",
              "      <td>42.820000</td>\n",
              "      <td>42.080002</td>\n",
              "      <td>42.580002</td>\n",
              "      <td>3664200.0</td>\n",
              "      <td>42.580002</td>\n",
              "      <td>AIG</td>\n",
              "    </tr>\n",
              "  </tbody>\n",
              "</table>\n",
              "<p>3274 rows × 7 columns</p>\n",
              "</div>"
            ],
            "text/plain": [
              "                   Open         High          Low  ...     Volume    Adjusted  ticker\n",
              "index                                              ...                               \n",
              "2008-02-20   934.400024   965.000000   933.799988  ...  1026360.0  661.497498     AIG\n",
              "2008-02-21   969.599976   977.599976   945.599976  ...   816390.0  657.216309     AIG\n",
              "2008-02-22   953.799988   978.200012   938.000000  ...   982005.0  675.031067     AIG\n",
              "2008-02-25   972.799988  1011.400024   962.200012  ...  1245585.0  695.746033     AIG\n",
              "2008-02-26  1002.200012  1032.400024  1000.000000  ...  1189645.0  710.108582     AIG\n",
              "...                 ...          ...          ...  ...        ...         ...     ...\n",
              "2021-02-12    41.459999    42.189999    41.189999  ...  4153900.0   41.400002     AIG\n",
              "2021-02-16    41.740002    42.630001    41.509998  ...  4934900.0   42.150002     AIG\n",
              "2021-02-17    41.279999    43.360001    41.169998  ...  4872000.0   43.270000     AIG\n",
              "2021-02-18    42.459999    43.000000    41.490002  ...  4032600.0   42.110001     AIG\n",
              "2021-02-19    42.500000    42.820000    42.080002  ...  3664200.0   42.580002     AIG\n",
              "\n",
              "[3274 rows x 7 columns]"
            ]
          },
          "metadata": {
            "tags": []
          },
          "execution_count": 10
        }
      ]
    },
    {
      "cell_type": "code",
      "metadata": {
        "colab": {
          "base_uri": "https://localhost:8080/",
          "height": 624
        },
        "id": "jXxF1uZEle3B",
        "outputId": "a86ee6f9-b4b6-4dc4-e2c0-86f065401aaa"
      },
      "source": [
        "fig, ax = plt.subplots(2,2,figsize=(20,10))\n",
        "ax[0,0].plot(AIG.log_ret.values, label= 'AIG') ; ax[0,0].grid() ; ax[0,0].set_title(\"log returns AIG\")\n",
        "ax[0,1].plot(Exxon.log_ret.values, label= 'Exxon'); ax[0,1].grid() ; ax[0,1].set_title(\"log returns Exxon\")\n",
        "ax[1,0].plot(ColgPalm.log_ret.values, label= 'ColgPalm'); ax[1,0].grid() ; ax[1,0].set_title(\"log returns Colgate Palmolive\")\n",
        "ax[1,1].plot(Amazon.log_ret.values, label= 'Amazon'); ax[1,1].grid() ; ax[1,1].set_title(\"log returns Amazon\")\n"
      ],
      "execution_count": null,
      "outputs": [
        {
          "output_type": "execute_result",
          "data": {
            "text/plain": [
              "Text(0.5, 1.0, 'log returns Amazon')"
            ]
          },
          "metadata": {
            "tags": []
          },
          "execution_count": 19
        },
        {
          "output_type": "display_data",
          "data": {
            "image/png": "[encoded data removed]",
            "text/plain": [
              "<Figure size 1440x720 with 4 Axes>"
            ]
          },
          "metadata": {
            "tags": [],
            "needs_background": "light"
          }
        }
      ]
    },
    {
      "cell_type": "code",
      "metadata": {
        "colab": {
          "base_uri": "https://localhost:8080/",
          "height": 624
        },
        "id": "dfhEpPqZhxok",
        "outputId": "35883ad5-b2d0-4fca-9476-078ae01143a4"
      },
      "source": [
        "fig, ax = plt.subplots(2,2,figsize=(20,10))\n",
        "ax[0,0].plot(AIG.Adjusted.values, label= 'AIG') ; ax[0,0].grid() ; ax[0,0].set_title(\"Adjusted Close AIG\")\n",
        "ax[0,1].plot(Exxon.Adjusted.values, label= 'Exxon'); ax[0,1].grid() ; ax[0,1].set_title(\"Adjusted Close Exxon\")\n",
        "ax[1,0].plot(ColgPalm.Adjusted.values, label= 'ColgPalm'); ax[1,0].grid() ; ax[1,0].set_title(\"Adjusted Close Colgate Palmolive\")\n",
        "ax[1,1].plot(Amazon.Adjusted.values, label= 'Amazon'); ax[1,1].grid() ; ax[1,1].set_title(\"Adjusted Close Amazon\")\n"
      ],
      "execution_count": null,
      "outputs": [
        {
          "output_type": "execute_result",
          "data": {
            "text/plain": [
              "Text(0.5, 1.0, 'Adjusted Close Amazon')"
            ]
          },
          "metadata": {
            "tags": []
          },
          "execution_count": 7
        },
        {
          "output_type": "display_data",
          "data": {
            "image/png": "[encoded data removed]",
            "text/plain": [
              "<Figure size 1440x720 with 4 Axes>"
            ]
          },
          "metadata": {
            "tags": [],
            "needs_background": "light"
          }
        }
      ]
    },
    {
      "cell_type": "markdown",
      "metadata": {
        "id": "APHQMk6Pk9VK"
      },
      "source": [
        "> un des premiers constat est la chute du titre en 2008 de AIG qui à été renfloué ( bail out des banques en 2008) ."
      ]
    },
    {
      "cell_type": "code",
      "metadata": {
        "colab": {
          "base_uri": "https://localhost:8080/",
          "height": 353
        },
        "id": "J6uHSfNJjD6w",
        "outputId": "49526d07-0d24-47c5-d044-83365df0ce92"
      },
      "source": [
        "fig, ax = plt.subplots(1,2,figsize=(20,5))\n",
        "ax[0].plot(AIG.Adjusted.values[:800], label= 'AIG') ; ax[0].grid() ; ax[0].set_title(\"Adjusted Close AIG jusqu a 2009\")\n",
        "ax[1].plot(AIG.Adjusted.values[800:], label= 'AIG') ; ax[1].grid() ; ax[1].set_title(\"Adjusted Close AIG a partir de 2009\")\n"
      ],
      "execution_count": null,
      "outputs": [
        {
          "output_type": "execute_result",
          "data": {
            "text/plain": [
              "Text(0.5, 1.0, 'Adjusted Close AIG a partir de 2009')"
            ]
          },
          "metadata": {
            "tags": []
          },
          "execution_count": 25
        },
        {
          "output_type": "display_data",
          "data": {
            "image/png": "[encoded data removed]",
            "text/plain": [
              "<Figure size 1440x360 with 2 Axes>"
            ]
          },
          "metadata": {
            "tags": [],
            "needs_background": "light"
          }
        }
      ]
    },
    {
      "cell_type": "markdown",
      "metadata": {
        "id": "WWB4DB-3nLBR"
      },
      "source": [
        "> Il serait intéressant de tester si les resultats peuvent être  ameliorés en seperant la series en deux périodes: \n",
        "\n",
        "- Une premiére periode bear en 2009 et puis une tendance a la hausse jusqu'au covid19.\n",
        "\n",
        "On relance le LSTM sur chaque serie : "
      ]
    },
    {
      "cell_type": "markdown",
      "metadata": {
        "id": "ZxSAFbd_Xnek"
      },
      "source": [
        "#### Periode avant 2009 :"
      ]
    },
    {
      "cell_type": "code",
      "metadata": {
        "id": "2z1mKkt6mGSs"
      },
      "source": [
        "batch_size = 64 ## Taille de chaque batch sur lequel il optimise \n",
        "neurons_lstm = 100 ; ## Nombre de neurones par couche LSTM\n",
        "nb_epochs = 100 ## Nombre de fois ou on passe sur tout le dataset d entrainement\n",
        "T_in = batch_size*5 ## Le nombre de samples pris pour chaque entrainement. \n",
        "dT= 10 # Nombre de points entre deux etapes de calibration"
      ],
      "execution_count": null,
      "outputs": []
    },
    {
      "cell_type": "code",
      "metadata": {
        "colab": {
          "base_uri": "https://localhost:8080/"
        },
        "id": "r6TjqtNMnofL",
        "outputId": "d4a8153b-2c62-42d9-b70b-f6202cdc3e1f"
      },
      "source": [
        "X_full = AIG[[\"h\",\"l\",\"c\",\"log_volume\",\"log_ret\"]].values[:800]                     # note the [[]] here. Otherwise, reshape(...,1)\n",
        "X_full.shape ; N_I=100 # length of sequences input to LSTMs\n",
        "X_sample,y_sample = split_sequences_multivariate(X_full,N_I)   # for LSTMs\n",
        "y_sample = np.sign(y_sample)\n",
        "print(X_sample.shape)# we do have a 3d-object\n",
        "print(y_sample.shape)"
      ],
      "execution_count": null,
      "outputs": [
        {
          "output_type": "stream",
          "text": [
            "(700, 100, 5)\n",
            "(700,)\n"
          ],
          "name": "stdout"
        }
      ]
    },
    {
      "cell_type": "code",
      "metadata": {
        "id": "A5rE4Z8roRwe"
      },
      "source": [
        "# encode class values as integers\n",
        "encoder = LabelEncoder()\n",
        "encoder.fit(y_sample)\n",
        "encoded_Y = encoder.transform(y_sample)\n",
        "# convert integers to dummy variables (i.e. one hot encoded)\n",
        "dummy_y = np_utils.to_categorical(encoded_Y)\n",
        "one_hot_y_sample = dummy_y "
      ],
      "execution_count": null,
      "outputs": []
    },
    {
      "cell_type": "code",
      "metadata": {
        "colab": {
          "base_uri": "https://localhost:8080/",
          "height": 175,
          "referenced_widgets": [
            "153de98cfba24cb8b47d8f888dad16a8",
            "f0acf8a4641c4516857fffb370921882",
            "b0262af4f9ee4152952ef3afd87c95ac",
            "5e1aea56cb4b4373b124ce5919446cb7",
            "8f29e1a66a604b3c8f206e1d20fc267a",
            "d418cbdc33634056aca5de46cf56a9a9",
            "db24eb333b20480d9a6387c3451594f2",
            "6cd722d54230459d9b197d5ba2e67714"
          ]
        },
        "id": "j1Aeru5SobkN",
        "outputId": "f06579d8-540d-4b09-de1e-0b2adb6a7b8f"
      },
      "source": [
        "LSTM_History = Global_LSTM(batch_size,T_in,dT,nb_epochs,neurons_lstm,X_sample,one_hot_y_sample,type = 'classification',shfle = False)"
      ],
      "execution_count": null,
      "outputs": [
        {
          "output_type": "stream",
          "text": [
            "/usr/local/lib/python3.7/dist-packages/ipykernel_launcher.py:9: TqdmDeprecationWarning: This function will be removed in tqdm==5.0.0\n",
            "Please use `tqdm.notebook.tqdm` instead of `tqdm.tqdm_notebook`\n",
            "  if __name__ == '__main__':\n"
          ],
          "name": "stderr"
        },
        {
          "output_type": "display_data",
          "data": {
            "application/vnd.jupyter.widget-view+json": {
              "model_id": "153de98cfba24cb8b47d8f888dad16a8",
              "version_minor": 0,
              "version_major": 2
            },
            "text/plain": [
              "HBox(children=(FloatProgress(value=0.0, max=6.0), HTML(value='')))"
            ]
          },
          "metadata": {
            "tags": []
          }
        },
        {
          "output_type": "stream",
          "text": [
            "WARNING:tensorflow:5 out of the last 5 calls to <function Model.make_predict_function.<locals>.predict_function at 0x7f1e184dd050> triggered tf.function retracing. Tracing is expensive and the excessive number of tracings could be due to (1) creating @tf.function repeatedly in a loop, (2) passing tensors with different shapes, (3) passing Python objects instead of tensors. For (1), please define your @tf.function outside of the loop. For (2), @tf.function has experimental_relax_shapes=True option that relaxes argument shapes that can avoid unnecessary retracing. For (3), please refer to https://www.tensorflow.org/guide/function#controlling_retracing and https://www.tensorflow.org/api_docs/python/tf/function for  more details.\n",
            "WARNING:tensorflow:6 out of the last 6 calls to <function Model.make_predict_function.<locals>.predict_function at 0x7f1e192ee440> triggered tf.function retracing. Tracing is expensive and the excessive number of tracings could be due to (1) creating @tf.function repeatedly in a loop, (2) passing tensors with different shapes, (3) passing Python objects instead of tensors. For (1), please define your @tf.function outside of the loop. For (2), @tf.function has experimental_relax_shapes=True option that relaxes argument shapes that can avoid unnecessary retracing. For (3), please refer to https://www.tensorflow.org/guide/function#controlling_retracing and https://www.tensorflow.org/api_docs/python/tf/function for  more details.\n",
            "\n"
          ],
          "name": "stdout"
        }
      ]
    },
    {
      "cell_type": "code",
      "metadata": {
        "id": "b-xUEYUHobh-"
      },
      "source": [
        "y_pred = LSTM_History[1:,:] ## On prend pas la 1 ere ligne car sert juste à l'init ; elle n'a aucun sens\n",
        "y_pred = np.argmax(y_pred,axis=1) ## On prend la classe pour laquelle la proba est maximale \n",
        "seq = np.arange(T_in,X_sample.shape[0]-T_in,dT) ; y_true = encoded_Y[N_I + seq[0]:seq[-1]+N_I+dT]\n",
        "resultsAIG_Bef2009= pd.DataFrame(data = { 'labels' : y_true , 'pred' : y_pred})\n",
        "resultsAIG_Bef2009"
      ],
      "execution_count": null,
      "outputs": []
    },
    {
      "cell_type": "code",
      "metadata": {
        "colab": {
          "base_uri": "https://localhost:8080/"
        },
        "id": "EL4t_4hRobZd",
        "outputId": "9429861b-71ba-4771-cd45-50f55460c02b"
      },
      "source": [
        "from sklearn.metrics import confusion_matrix\n",
        "matrix_conf = confusion_matrix(resultsAIG_Bef2009.labels,resultsAIG_Bef2009.pred)\n",
        "AccRegAI_Bef2009 = (matrix_conf[0,0] + matrix_conf[1,1])/resultsAIG_Bef2009.shape[0]\n",
        "print(f\"Accuracy : {(matrix_conf[0,0] + matrix_conf[1,1])/resultsAIG_Bef2009.shape[0]}\")"
      ],
      "execution_count": null,
      "outputs": [
        {
          "output_type": "stream",
          "text": [
            "Accuracy : 0.31666666666666665\n"
          ],
          "name": "stdout"
        }
      ]
    },
    {
      "cell_type": "markdown",
      "metadata": {
        "id": "jle1reE2XyVL"
      },
      "source": [
        "> On obtient une meilleur accuracy que sur la serie entiére mais elle reste trés faible."
      ]
    },
    {
      "cell_type": "markdown",
      "metadata": {
        "id": "Ux-MLoA4YIit"
      },
      "source": [
        "#### Période aprés 2009 : "
      ]
    },
    {
      "cell_type": "code",
      "metadata": {
        "id": "yQVSfH59tf8i"
      },
      "source": [
        "batch_size = 64 ## Taille de chaque batch sur lequel il optimise \n",
        "neurons_lstm = 100 ; ## Nombre de neurones par couche LSTM\n",
        "nb_epochs = 100 ## Nombre de fois ou on passe sur tout le dataset d entrainement\n",
        "T_in = batch_size*20 ## Le nombre de samples pris pour chaque entrainement. \n",
        "dT= 100 # Nombre de points entre deux etapes de calibration"
      ],
      "execution_count": null,
      "outputs": []
    },
    {
      "cell_type": "code",
      "metadata": {
        "colab": {
          "base_uri": "https://localhost:8080/",
          "height": 246,
          "referenced_widgets": [
            "22fff25ac14c427b9e229a1cc9f7762f",
            "b08d7b5a4fe94c799770472eb6d94070",
            "1fcee6448fdf4d4892ccd29f49d0b506",
            "2aa9de1e85854d1d9dcc8f8eea0108d9",
            "e3ef69cb964c4062be4245e6cf1b2b88",
            "990f1f9b459e4247b9fde3aae169c10c",
            "2b245126ac1c4ceaa225aa17bce29f4d",
            "c420eea77ada4d93bcc1ce3db30a4634"
          ]
        },
        "id": "u7sPbSS9siig",
        "outputId": "93001dcc-fe29-42da-ae62-d59c19a6d627"
      },
      "source": [
        "X_full = AIG[[\"h\",\"l\",\"c\",\"log_volume\",\"log_ret\"]].values[800:]                     # note the [[]] here. Otherwise, reshape(...,1)\n",
        "X_full.shape ; N_I=100 # length of sequences input to LSTMs\n",
        "X_sample,y_sample = split_sequences_multivariate(X_full,N_I)   # for LSTMs\n",
        "y_sample = np.sign(y_sample)\n",
        "print(X_sample.shape)# we do have a 3d-object\n",
        "print(y_sample.shape)\n",
        "\n",
        "# encode class values as integers\n",
        "encoder = LabelEncoder()\n",
        "encoder.fit(y_sample)\n",
        "encoded_Y = encoder.transform(y_sample)\n",
        "# convert integers to dummy variables (i.e. one hot encoded)\n",
        "dummy_y = np_utils.to_categorical(encoded_Y)\n",
        "one_hot_y_sample = dummy_y \n",
        "\n",
        "LSTM_History = Global_LSTM(batch_size,T_in,dT,nb_epochs,neurons_lstm,X_sample,one_hot_y_sample,type = 'classification',shfle = False)"
      ],
      "execution_count": null,
      "outputs": [
        {
          "output_type": "stream",
          "text": [
            "(2873, 100, 5)\n",
            "(2873,)\n"
          ],
          "name": "stdout"
        },
        {
          "output_type": "stream",
          "text": [
            "/usr/local/lib/python3.7/dist-packages/ipykernel_launcher.py:9: TqdmDeprecationWarning: This function will be removed in tqdm==5.0.0\n",
            "Please use `tqdm.notebook.tqdm` instead of `tqdm.tqdm_notebook`\n",
            "  if __name__ == '__main__':\n"
          ],
          "name": "stderr"
        },
        {
          "output_type": "display_data",
          "data": {
            "application/vnd.jupyter.widget-view+json": {
              "model_id": "22fff25ac14c427b9e229a1cc9f7762f",
              "version_minor": 0,
              "version_major": 2
            },
            "text/plain": [
              "HBox(children=(FloatProgress(value=0.0, max=4.0), HTML(value='')))"
            ]
          },
          "metadata": {
            "tags": []
          }
        },
        {
          "output_type": "stream",
          "text": [
            "WARNING:tensorflow:11 out of the last 11 calls to <function Model.make_predict_function.<locals>.predict_function at 0x7f1e17c3f320> triggered tf.function retracing. Tracing is expensive and the excessive number of tracings could be due to (1) creating @tf.function repeatedly in a loop, (2) passing tensors with different shapes, (3) passing Python objects instead of tensors. For (1), please define your @tf.function outside of the loop. For (2), @tf.function has experimental_relax_shapes=True option that relaxes argument shapes that can avoid unnecessary retracing. For (3), please refer to https://www.tensorflow.org/guide/function#controlling_retracing and https://www.tensorflow.org/api_docs/python/tf/function for  more details.\n",
            "WARNING:tensorflow:11 out of the last 11 calls to <function Model.make_predict_function.<locals>.predict_function at 0x7f1e19227d40> triggered tf.function retracing. Tracing is expensive and the excessive number of tracings could be due to (1) creating @tf.function repeatedly in a loop, (2) passing tensors with different shapes, (3) passing Python objects instead of tensors. For (1), please define your @tf.function outside of the loop. For (2), @tf.function has experimental_relax_shapes=True option that relaxes argument shapes that can avoid unnecessary retracing. For (3), please refer to https://www.tensorflow.org/guide/function#controlling_retracing and https://www.tensorflow.org/api_docs/python/tf/function for  more details.\n",
            "WARNING:tensorflow:11 out of the last 11 calls to <function Model.make_predict_function.<locals>.predict_function at 0x7f1e288b0200> triggered tf.function retracing. Tracing is expensive and the excessive number of tracings could be due to (1) creating @tf.function repeatedly in a loop, (2) passing tensors with different shapes, (3) passing Python objects instead of tensors. For (1), please define your @tf.function outside of the loop. For (2), @tf.function has experimental_relax_shapes=True option that relaxes argument shapes that can avoid unnecessary retracing. For (3), please refer to https://www.tensorflow.org/guide/function#controlling_retracing and https://www.tensorflow.org/api_docs/python/tf/function for  more details.\n",
            "WARNING:tensorflow:11 out of the last 11 calls to <function Model.make_predict_function.<locals>.predict_function at 0x7f1e8f682290> triggered tf.function retracing. Tracing is expensive and the excessive number of tracings could be due to (1) creating @tf.function repeatedly in a loop, (2) passing tensors with different shapes, (3) passing Python objects instead of tensors. For (1), please define your @tf.function outside of the loop. For (2), @tf.function has experimental_relax_shapes=True option that relaxes argument shapes that can avoid unnecessary retracing. For (3), please refer to https://www.tensorflow.org/guide/function#controlling_retracing and https://www.tensorflow.org/api_docs/python/tf/function for  more details.\n",
            "\n"
          ],
          "name": "stdout"
        }
      ]
    },
    {
      "cell_type": "code",
      "metadata": {
        "colab": {
          "base_uri": "https://localhost:8080/"
        },
        "id": "xV63oScBtOCF",
        "outputId": "4aeb610c-043d-4ffe-bb75-55cc5187c85f"
      },
      "source": [
        "y_pred = LSTM_History[1:,:] ## On prend pas la 1 ere ligne car sert juste à l'init ; elle n'a aucun sens\n",
        "y_pred = np.argmax(y_pred,axis=1) ## On prend la classe pour laquelle la proba est maximale \n",
        "seq = np.arange(T_in,X_sample.shape[0]-T_in,dT) ; y_true = encoded_Y[N_I + seq[0]:seq[-1]+N_I+dT]\n",
        "resultsAIG_Aft2009= pd.DataFrame(data = { 'labels' : y_true , 'pred' : y_pred})\n",
        "resultsAIG_Aft2009\n",
        "\n",
        "from sklearn.metrics import confusion_matrix\n",
        "matrix_conf = confusion_matrix(resultsAIG_Aft2009.labels,resultsAIG_Aft2009.pred)\n",
        "AccRegAI_Aft2009 = (matrix_conf[0,0] + matrix_conf[1,1])/resultsAIG_Aft2009.shape[0]\n",
        "print(f\"Accuracy : {(matrix_conf[0,0] + matrix_conf[1,1])/resultsAIG_Aft2009.shape[0]}\")"
      ],
      "execution_count": null,
      "outputs": [
        {
          "output_type": "stream",
          "text": [
            "Accuracy : 0.515\n"
          ],
          "name": "stdout"
        }
      ]
    },
    {
      "cell_type": "markdown",
      "metadata": {
        "id": "htFI00-eYA1T"
      },
      "source": [
        "> l'accuray semble bien meilleur pour cette periode."
      ]
    }
  ]
}